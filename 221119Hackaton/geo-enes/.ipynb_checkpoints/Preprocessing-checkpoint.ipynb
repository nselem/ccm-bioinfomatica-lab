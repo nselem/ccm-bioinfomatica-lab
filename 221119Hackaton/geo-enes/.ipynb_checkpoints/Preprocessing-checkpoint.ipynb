{
 "cells": [
  {
   "cell_type": "markdown",
   "id": "8f0c812c-918e-4063-8dd5-7d6d5375c375",
   "metadata": {
    "tags": []
   },
   "source": [
    "# Preprocesamiento"
   ]
  },
  {
   "cell_type": "code",
   "execution_count": 1,
   "id": "4b527376-eb1b-444b-b941-f28accd97223",
   "metadata": {},
   "outputs": [],
   "source": [
    "import pandas as pd\n",
    "import numpy as np\n",
    "import warnings\n",
    "from biom import load_table\n"
   ]
  },
  {
   "cell_type": "markdown",
   "id": "817af18b-2774-45c2-bb7b-a93fcca58b09",
   "metadata": {
    "tags": []
   },
   "source": [
    "## Global Atlas"
   ]
  },
  {
   "cell_type": "markdown",
   "id": "6c48895e-e797-4d7e-bd0e-def94c9d339c",
   "metadata": {},
   "source": [
    "### Files\n",
    "The Global Atlas dataset contained the following files:\n",
    "\n",
    "* GlobalAtlas-16S/Dataset_01_22_2018.xlsx\n",
    "* GlobalAtlas-16S/aap9516_Table_S1_v2.xlsx"
   ]
  },
  {
   "cell_type": "code",
   "execution_count": 2,
   "id": "6e29413d-d4be-490e-b93d-5eb28eaa047a",
   "metadata": {
    "tags": []
   },
   "outputs": [],
   "source": [
    "GAtlas_SampleMeta=pd.read_excel(\"../data/GlobalAtlas-16S/Dataset_01_22_2018.xlsx\",sheet_name=0)\n",
    "GAtlas_Raw=pd.read_excel(\"../data/GlobalAtlas-16S/Dataset_01_22_2018.xlsx\",sheet_name=2)\n",
    "GAtlas_TaxMeta=pd.read_excel(\"../data/GlobalAtlas-16S/aap9516_Table_S1_v2.xlsx\",sheet_name=0)"
   ]
  },
  {
   "cell_type": "markdown",
   "id": "c4a0567e-8f68-4c25-98ef-3914f582a29c",
   "metadata": {
    "tags": []
   },
   "source": [
    "First, the samples were matched to their corresponding longitude and latitude, and the OTU count per sample was included.\n",
    "After this the OTU count was normalized to its frequency per OTU."
   ]
  },
  {
   "cell_type": "code",
   "execution_count": null,
   "id": "3fbff260-83b4-47d2-9087-6ee7d0d4599f",
   "metadata": {},
   "outputs": [],
   "source": [
    "GAtlas_Partial=GAtlas_Raw.T\n",
    "GAtlas_Partial.columns=GAtlas_Partial.loc[\"Dominant_taxa_ID/ID_Environmental\"]\n",
    "GAtlas_Partial=GAtlas_Partial.drop(GAtlas_Partial.index[0])\n",
    "\n",
    "GAtlas_Joined=pd.DataFrame()\n",
    "GAtlas_Joined[\"Latitude\"]=GAtlas_SampleMeta[\"Latitude\"]\n",
    "GAtlas_Joined[\"Longitude\"]=GAtlas_SampleMeta[\"Longitude\"]\n",
    "GAtlas_Joined.index=np.arange(GAtlas_Joined.shape[0])+1\n",
    "GAtlas_Joined=pd.concat(objs=[GAtlas_Joined,GAtlas_Partial],axis=1)\n",
    "for col in GAtlas_Joined.columns:\n",
    "    GAtlas_Joined[col]=GAtlas_Joined[col].astype(float)\n",
    "    \n",
    "for i in range(GAtlas_Joined.shape[0]):\n",
    "    GAtlas_Joined.iloc[i,2:]/=GAtlas_Joined.iloc[i,2:].sum()\n",
    "GAtlas_Partial=None"
   ]
  },
  {
   "cell_type": "markdown",
   "id": "e9ad8acb-96db-4de0-b6c2-57a862d83ac4",
   "metadata": {},
   "source": [
    "### Name Standarization\n",
    "The taxonomic information was extracted as part of the name stadarization process, in order to have the same name format as the EMP dataset."
   ]
  },
  {
   "cell_type": "code",
   "execution_count": 4,
   "id": "79d25baf-aa0f-451a-aa5c-b84a6d52df00",
   "metadata": {},
   "outputs": [],
   "source": [
    "GAtlas_Tax_Partial=GAtlas_TaxMeta.drop(GAtlas_TaxMeta.columns[7:],axis=1).copy()\n",
    "GAtlas_Tax_Partial.set_index(\"Taxa\",inplace=True)\n",
    "GAtlas_Tax_Partial.drop(GAtlas_Tax_Partial.columns[:3],axis=1,inplace=True)\n",
    "taxser=[]\n",
    "for i in GAtlas_Joined.columns[2:]:\n",
    "    if(i in GAtlas_Tax_Partial.index):\n",
    "        taxser.append(GAtlas_Tax_Partial.loc[i])\n",
    "        \n",
    "GAtlas_Tax=pd.concat(taxser,axis=1).T\n",
    "GAtlas_Tax[\"Order\"]=\"o__\"+GAtlas_Tax[\"Order\"]\n",
    "GAtlas_Tax[\"Family\"]=\"f__\"+GAtlas_Tax[\"Family\"]\n",
    "GAtlas_Tax[\"Genus\"]=\"g__\"+GAtlas_Tax[\"Genus\"]\n",
    "GAtlas_Tax.columns=[\"o\",\"f\",\"g\"]\n",
    "GAtlas_Tax.fillna(\"\",inplace=True)\n",
    "GAtlas_Tax_Partial=None"
   ]
  },
  {
   "cell_type": "markdown",
   "id": "216088ff-75fb-441f-b596-f930e69838e2",
   "metadata": {},
   "source": [
    "### OTU Taxonomic data extraction\n",
    "The datasets presented format differences in the data that feeds the neural network regarding to the OTU identification. Therefore, the taxonomic information of the different OTUs was extracted and used for this purpose, because it avoids the use of the \"taxid\".\n",
    "\n",
    "After this, the cumulative count of each taxonomic level of the OTUs was calculated for each sample.\n",
    "\n",
    "For the GAtlas dataset all the samples were significant given the amount of them, hence the taxonomic data of all their OTUs was used."
   ]
  },
  {
   "cell_type": "code",
   "execution_count": null,
   "id": "610bcac3-d4a2-4d79-93e2-697b06b51d24",
   "metadata": {},
   "outputs": [],
   "source": [
    "GAtlas=pd.DataFrame()\n",
    "GAtlas[\"Latitude\"]=GAtlas_Joined[\"Latitude\"]\n",
    "GAtlas[\"Longitude\"]=GAtlas_Joined[\"Longitude\"]\n",
    "\n",
    "def decompose(identifier):\n",
    "    if(identifier not in GAtlas_Tax.index):\n",
    "        return []\n",
    "    \n",
    "    series=list(GAtlas_Tax.loc[identifier])\n",
    "    for i in range(len(series)):\n",
    "        if(i==np.nan or len(series[i])<=3):\n",
    "            return series[:i]\n",
    "    \n",
    "    return series\n",
    "\n",
    "series_lst=[]\n",
    "for classification in GAtlas_Tax.columns:\n",
    "    uniques=GAtlas_Tax[classification].unique()\n",
    "    for unique in uniques:\n",
    "        series_lst.append(pd.Series(data=np.zeros(GAtlas.shape[0]),index=GAtlas.index,name=unique))\n",
    "GAtlas=pd.concat([GAtlas]+series_lst,axis=1)\n",
    "GAtlas=GAtlas.copy()\n",
    "\n",
    "from fastprogress import *\n",
    "def PandasNightmares():\n",
    "    global GAtlas\n",
    "    mb=master_bar(GAtlas_Joined.index)\n",
    "    for sample in mb:\n",
    "        for ident in progress_bar(GAtlas_Joined.columns[2:],parent=mb):\n",
    "            v=GAtlas_Joined.loc[sample,ident]\n",
    "            if(type(v)!=np.float64):\n",
    "                v=v.values[0]\n",
    "            if(v>0):\n",
    "                taxonomy=decompose(ident)\n",
    "                for t in taxonomy:\n",
    "                    GAtlas.loc[sample,t]+=v\n",
    "\n",
    "#Too many pandas were harmed in the making of this code.\n",
    "with warnings.catch_warnings():\n",
    "    warnings.simplefilter(\"ignore\")\n",
    "    PandasNightmares()"
   ]
  },
  {
   "cell_type": "code",
   "execution_count": 6,
   "id": "59578a54-efad-4c45-83d5-da6db6e23eeb",
   "metadata": {},
   "outputs": [
    {
     "data": {
      "text/plain": [
       "Index(['Latitude', 'Longitude', 'o__Rhizobiales', 'o__Actinomycetales',\n",
       "       'o__Burkholderiales', 'o__Sphingomonadales', 'o__Solibacterales',\n",
       "       'o__WD2101', 'o__Ellin329', 'o__Solirubrobacterales',\n",
       "       ...\n",
       "       'g__Rubellimicrobium', 'g__Planctomyces', 'g__Corallococcus',\n",
       "       'g__Kibdelosporangium', 'g__OR-59', 'g__Methylobacterium',\n",
       "       'g__Pseudomonas', 'g__Blastomonas', 'g__Friedmanniella',\n",
       "       'g__Bdellovibrio'],\n",
       "      dtype='object', length=191)"
      ]
     },
     "execution_count": 6,
     "metadata": {},
     "output_type": "execute_result"
    }
   ],
   "source": [
    "#brackets from the taxonomic levels names were removed\n",
    "newcol={c:c.replace(\"[\",\"\").replace(\"]\",\"\") for c in GAtlas.columns}\n",
    "GAtlas.rename(columns=newcol,inplace=True)\n",
    "GAtlas.columns"
   ]
  },
  {
   "cell_type": "markdown",
   "id": "766417fa-b4ea-4051-bb8c-c3088cc1d6bf",
   "metadata": {},
   "source": [
    "### GAtlas Resultant Table\n",
    "The resultant table presents a sample per row, the columns contained the Latitude, Longitude, and the proportion of each taxonomic group for that sample."
   ]
  },
  {
   "cell_type": "code",
   "execution_count": 7,
   "id": "ffff6f13-b728-40f6-934e-8d4d55fecba4",
   "metadata": {},
   "outputs": [
    {
     "data": {
      "text/html": [
       "<div>\n",
       "<style scoped>\n",
       "    .dataframe tbody tr th:only-of-type {\n",
       "        vertical-align: middle;\n",
       "    }\n",
       "\n",
       "    .dataframe tbody tr th {\n",
       "        vertical-align: top;\n",
       "    }\n",
       "\n",
       "    .dataframe thead th {\n",
       "        text-align: right;\n",
       "    }\n",
       "</style>\n",
       "<table border=\"1\" class=\"dataframe\">\n",
       "  <thead>\n",
       "    <tr style=\"text-align: right;\">\n",
       "      <th></th>\n",
       "      <th>Latitude</th>\n",
       "      <th>Longitude</th>\n",
       "      <th>o__Rhizobiales</th>\n",
       "      <th>o__Actinomycetales</th>\n",
       "      <th>o__Burkholderiales</th>\n",
       "      <th>o__Sphingomonadales</th>\n",
       "      <th>o__Solibacterales</th>\n",
       "      <th>o__WD2101</th>\n",
       "      <th>o__Ellin329</th>\n",
       "      <th>o__Solirubrobacterales</th>\n",
       "      <th>...</th>\n",
       "      <th>g__Rubellimicrobium</th>\n",
       "      <th>g__Planctomyces</th>\n",
       "      <th>g__Corallococcus</th>\n",
       "      <th>g__Kibdelosporangium</th>\n",
       "      <th>g__OR-59</th>\n",
       "      <th>g__Methylobacterium</th>\n",
       "      <th>g__Pseudomonas</th>\n",
       "      <th>g__Blastomonas</th>\n",
       "      <th>g__Friedmanniella</th>\n",
       "      <th>g__Bdellovibrio</th>\n",
       "    </tr>\n",
       "  </thead>\n",
       "  <tbody>\n",
       "    <tr>\n",
       "      <th>1</th>\n",
       "      <td>-26.733333</td>\n",
       "      <td>-54.683333</td>\n",
       "      <td>0.287751</td>\n",
       "      <td>0.057317</td>\n",
       "      <td>0.002037</td>\n",
       "      <td>0.040442</td>\n",
       "      <td>0.009892</td>\n",
       "      <td>0.013093</td>\n",
       "      <td>0.004655</td>\n",
       "      <td>0.037824</td>\n",
       "      <td>...</td>\n",
       "      <td>0.0</td>\n",
       "      <td>0.0</td>\n",
       "      <td>0.000582</td>\n",
       "      <td>0.000000</td>\n",
       "      <td>0.0</td>\n",
       "      <td>0.000000</td>\n",
       "      <td>0.000291</td>\n",
       "      <td>0.000000</td>\n",
       "      <td>0.0</td>\n",
       "      <td>0.0</td>\n",
       "    </tr>\n",
       "    <tr>\n",
       "      <th>2</th>\n",
       "      <td>64.800000</td>\n",
       "      <td>-148.250000</td>\n",
       "      <td>0.457778</td>\n",
       "      <td>0.122963</td>\n",
       "      <td>0.007407</td>\n",
       "      <td>0.004444</td>\n",
       "      <td>0.176296</td>\n",
       "      <td>0.002963</td>\n",
       "      <td>0.031111</td>\n",
       "      <td>0.002222</td>\n",
       "      <td>...</td>\n",
       "      <td>0.0</td>\n",
       "      <td>0.0</td>\n",
       "      <td>0.000000</td>\n",
       "      <td>0.000000</td>\n",
       "      <td>0.0</td>\n",
       "      <td>0.000741</td>\n",
       "      <td>0.001481</td>\n",
       "      <td>0.000000</td>\n",
       "      <td>0.0</td>\n",
       "      <td>0.0</td>\n",
       "    </tr>\n",
       "    <tr>\n",
       "      <th>3</th>\n",
       "      <td>42.530000</td>\n",
       "      <td>-72.190000</td>\n",
       "      <td>0.399563</td>\n",
       "      <td>0.024017</td>\n",
       "      <td>0.006550</td>\n",
       "      <td>0.002183</td>\n",
       "      <td>0.203057</td>\n",
       "      <td>0.005459</td>\n",
       "      <td>0.108079</td>\n",
       "      <td>0.007642</td>\n",
       "      <td>...</td>\n",
       "      <td>0.0</td>\n",
       "      <td>0.0</td>\n",
       "      <td>0.000000</td>\n",
       "      <td>0.000000</td>\n",
       "      <td>0.0</td>\n",
       "      <td>0.000000</td>\n",
       "      <td>0.001092</td>\n",
       "      <td>0.000000</td>\n",
       "      <td>0.0</td>\n",
       "      <td>0.0</td>\n",
       "    </tr>\n",
       "    <tr>\n",
       "      <th>4</th>\n",
       "      <td>39.090000</td>\n",
       "      <td>-96.570000</td>\n",
       "      <td>0.176337</td>\n",
       "      <td>0.103312</td>\n",
       "      <td>0.013869</td>\n",
       "      <td>0.040759</td>\n",
       "      <td>0.007642</td>\n",
       "      <td>0.040476</td>\n",
       "      <td>0.013020</td>\n",
       "      <td>0.059723</td>\n",
       "      <td>...</td>\n",
       "      <td>0.0</td>\n",
       "      <td>0.0</td>\n",
       "      <td>0.000000</td>\n",
       "      <td>0.001132</td>\n",
       "      <td>0.0</td>\n",
       "      <td>0.000000</td>\n",
       "      <td>0.000283</td>\n",
       "      <td>0.000849</td>\n",
       "      <td>0.0</td>\n",
       "      <td>0.0</td>\n",
       "    </tr>\n",
       "    <tr>\n",
       "      <th>5</th>\n",
       "      <td>44.210000</td>\n",
       "      <td>-122.260000</td>\n",
       "      <td>0.346849</td>\n",
       "      <td>0.076676</td>\n",
       "      <td>0.027298</td>\n",
       "      <td>0.015255</td>\n",
       "      <td>0.020474</td>\n",
       "      <td>0.015255</td>\n",
       "      <td>0.028101</td>\n",
       "      <td>0.010839</td>\n",
       "      <td>...</td>\n",
       "      <td>0.0</td>\n",
       "      <td>0.0</td>\n",
       "      <td>0.000000</td>\n",
       "      <td>0.000401</td>\n",
       "      <td>0.0</td>\n",
       "      <td>0.000401</td>\n",
       "      <td>0.000000</td>\n",
       "      <td>0.000401</td>\n",
       "      <td>0.0</td>\n",
       "      <td>0.0</td>\n",
       "    </tr>\n",
       "  </tbody>\n",
       "</table>\n",
       "<p>5 rows × 191 columns</p>\n",
       "</div>"
      ],
      "text/plain": [
       "    Latitude   Longitude  o__Rhizobiales  o__Actinomycetales  \\\n",
       "1 -26.733333  -54.683333        0.287751            0.057317   \n",
       "2  64.800000 -148.250000        0.457778            0.122963   \n",
       "3  42.530000  -72.190000        0.399563            0.024017   \n",
       "4  39.090000  -96.570000        0.176337            0.103312   \n",
       "5  44.210000 -122.260000        0.346849            0.076676   \n",
       "\n",
       "   o__Burkholderiales  o__Sphingomonadales  o__Solibacterales  o__WD2101  \\\n",
       "1            0.002037             0.040442           0.009892   0.013093   \n",
       "2            0.007407             0.004444           0.176296   0.002963   \n",
       "3            0.006550             0.002183           0.203057   0.005459   \n",
       "4            0.013869             0.040759           0.007642   0.040476   \n",
       "5            0.027298             0.015255           0.020474   0.015255   \n",
       "\n",
       "   o__Ellin329  o__Solirubrobacterales  ...  g__Rubellimicrobium  \\\n",
       "1     0.004655                0.037824  ...                  0.0   \n",
       "2     0.031111                0.002222  ...                  0.0   \n",
       "3     0.108079                0.007642  ...                  0.0   \n",
       "4     0.013020                0.059723  ...                  0.0   \n",
       "5     0.028101                0.010839  ...                  0.0   \n",
       "\n",
       "   g__Planctomyces  g__Corallococcus  g__Kibdelosporangium  g__OR-59  \\\n",
       "1              0.0          0.000582              0.000000       0.0   \n",
       "2              0.0          0.000000              0.000000       0.0   \n",
       "3              0.0          0.000000              0.000000       0.0   \n",
       "4              0.0          0.000000              0.001132       0.0   \n",
       "5              0.0          0.000000              0.000401       0.0   \n",
       "\n",
       "   g__Methylobacterium  g__Pseudomonas  g__Blastomonas  g__Friedmanniella  \\\n",
       "1             0.000000        0.000291        0.000000                0.0   \n",
       "2             0.000741        0.001481        0.000000                0.0   \n",
       "3             0.000000        0.001092        0.000000                0.0   \n",
       "4             0.000000        0.000283        0.000849                0.0   \n",
       "5             0.000401        0.000000        0.000401                0.0   \n",
       "\n",
       "   g__Bdellovibrio  \n",
       "1              0.0  \n",
       "2              0.0  \n",
       "3              0.0  \n",
       "4              0.0  \n",
       "5              0.0  \n",
       "\n",
       "[5 rows x 191 columns]"
      ]
     },
     "execution_count": 7,
     "metadata": {},
     "output_type": "execute_result"
    }
   ],
   "source": [
    "GAtlas.head()"
   ]
  },
  {
   "cell_type": "markdown",
   "id": "c19b5549-6567-43d2-b839-190da7b1941f",
   "metadata": {
    "tags": []
   },
   "source": [
    "## EMP\n",
    "\n"
   ]
  },
  {
   "cell_type": "markdown",
   "id": "ad40b4f8-19e9-4794-8ed9-d9681db8a2d7",
   "metadata": {},
   "source": [
    "### Files\n",
    "A similar process was followed for the EMP data set. The files used in this section are the following:\n",
    "\n",
    "* EMP-16S/emp_or_gg_13_8.release1_CAMDA_2019_sel.biom\n",
    "* EMP-16S/CAMDA_2019_EMP_metainformation.tsv\n",
    "* otu_info/EMP_otu_taxonomy @ EMP FTP\n",
    "\n",
    "However, the file contains more than 2,900,000 samples, with their respective OTUs. Before processing this information a subsample of the 5000 most present OTUs in all samples was obtained."
   ]
  },
  {
   "cell_type": "code",
   "execution_count": 8,
   "id": "affbf68d-b86a-4a2c-b481-66120268231f",
   "metadata": {},
   "outputs": [],
   "source": [
    "from biom import load_table\n",
    "EMP_Raw=load_table(\"../data/EMP-16S/emp_or_gg_13_8.release1_CAMDA_2019_sel.biom\").transpose()"
   ]
  },
  {
   "cell_type": "code",
   "execution_count": 9,
   "id": "3dd9a757-a341-43c0-9529-12a604a7a6a9",
   "metadata": {},
   "outputs": [],
   "source": [
    "EMP_Raw=EMP_Raw.to_dataframe()"
   ]
  },
  {
   "cell_type": "markdown",
   "id": "91778d7b-856d-4a6b-8508-17a443bb070d",
   "metadata": {},
   "source": [
    "### Data Filtration according to the most frequent OTU\n",
    "After the data is uploaded, a count of each OTU frequency for the samples is done after its normalization. The count was used to filter the data.\n",
    "\n",
    "The first 5000 OTUs with enough taxonomic information were used to form the final table."
   ]
  },
  {
   "cell_type": "code",
   "execution_count": null,
   "id": "765440d2-7801-4aba-8f30-93dc815560e8",
   "metadata": {},
   "outputs": [],
   "source": [
    "Frequencies=np.zeros(EMP_Raw.shape[1])\n",
    "for col in progress_bar(range(len(EMP_Raw.columns))):\n",
    "    Frequencies[col]=EMP_Raw.iloc[:,col].T.sum()"
   ]
  },
  {
   "cell_type": "code",
   "execution_count": 11,
   "id": "5e55876a-a75f-4c74-8b0b-f94353c3b749",
   "metadata": {},
   "outputs": [],
   "source": [
    "K=5000\n",
    "Significant=np.zeros(K).astype(int)\n",
    "for i in range(K):\n",
    "    Significant[i]=int(np.argmax(Frequencies))\n",
    "    Frequencies[Significant[i]]-=2*Frequencies[Significant[i]]"
   ]
  },
  {
   "cell_type": "code",
   "execution_count": 12,
   "id": "654bbcac-ba16-4f03-9508-3bc50273613a",
   "metadata": {},
   "outputs": [],
   "source": [
    "EMP_Sampled=EMP_Raw.iloc[:,Significant].copy()"
   ]
  },
  {
   "cell_type": "code",
   "execution_count": 13,
   "id": "b90f8d6e-aef4-453f-acc5-1cf56777b0a5",
   "metadata": {},
   "outputs": [],
   "source": [
    "EMP_Raw=None"
   ]
  },
  {
   "cell_type": "markdown",
   "id": "a5630410-610f-42d3-853f-3979f4bdc068",
   "metadata": {},
   "source": [
    "### Name Standarization\n",
    "After obtaining the 5000 most frequent OTU, the format was standarized according to the previously stablish format. \n",
    "The names for Latitude and Longitude were also standarized.\n",
    "Additionally, taxonomic information for these OTU was extracted and used to get the frequency of them."
   ]
  },
  {
   "cell_type": "code",
   "execution_count": 14,
   "id": "47d2955f-3dbf-4050-beb2-954c3793a49a",
   "metadata": {},
   "outputs": [],
   "source": [
    "EMP_Meta=pd.read_csv(\"../data/EMP-16S/CAMDA_2019_EMP_metainformation.tsv\", sep=\"\\t\")\n",
    "for i in range(EMP_Meta.shape[0]):\n",
    "    EMP_Meta.iloc[i,0]=EMP_Meta.iloc[i,0].upper()\n",
    "    \n",
    "EMP_Meta.set_index(\"SampleID\",inplace=True)\n",
    "EMP_TaxMeta=pd.read_csv(\"../data/EMP_otu_taxonomy.txt\", sep=\"; \",names=[\"ID\",\"k\",\"p\",\"c\",\"o\",\"f\",\"g\",\"s\"], engine=\"python\")\n",
    "EMP_TaxMeta.set_index(\"ID\",inplace=True)"
   ]
  },
  {
   "cell_type": "code",
   "execution_count": 15,
   "id": "5270e227-89e4-4647-9ce8-ea8437cadbfe",
   "metadata": {},
   "outputs": [],
   "source": [
    "EMP_Sampled[\"Latitude\"]=np.zeros(EMP_Sampled.shape[0])\n",
    "EMP_Sampled[\"Longitude\"]=np.zeros(EMP_Sampled.shape[0])\n",
    "for i in range(EMP_Sampled.shape[0]):\n",
    "    idx=EMP_Sampled.index[i]\n",
    "    uidx=idx.upper()\n",
    "    EMP_Sampled.loc[idx,\"Latitude\"]=EMP_Meta.loc[uidx,\"latitude_deg\"]\n",
    "    EMP_Sampled.loc[idx,\"Longitude\"]=EMP_Meta.loc[uidx,\"longitude_deg\"]"
   ]
  },
  {
   "cell_type": "code",
   "execution_count": 16,
   "id": "e165eeee-a84a-419d-bb78-d4f1d001d34e",
   "metadata": {},
   "outputs": [],
   "source": [
    "EMP_Indexed=pd.DataFrame()\n",
    "EMP_Indexed[\"Latitude\"]=EMP_Sampled[\"Latitude\"]\n",
    "EMP_Indexed[\"Longitude\"]=EMP_Sampled[\"Longitude\"]\n",
    "import re\n",
    "series_lst=[EMP_Indexed]\n",
    "for c in EMP_Sampled.columns[:-2]:\n",
    "    match=re.findall(\"\\d+$\",c)[0]\n",
    "        \n",
    "    series_lst.append(pd.Series(np.asarray(EMP_Sampled[c]),index=EMP_Sampled.index,name=int(match)))\n",
    "EMP_Indexed=pd.concat(series_lst,axis=1)"
   ]
  },
  {
   "cell_type": "code",
   "execution_count": 17,
   "id": "de10e253-b968-4ac0-968f-275884b6c1a2",
   "metadata": {},
   "outputs": [],
   "source": [
    "taxser=[]\n",
    "for i in EMP_Indexed.columns[2:]:\n",
    "    if(i in EMP_TaxMeta.index):\n",
    "        taxser.append(EMP_TaxMeta.loc[i])\n",
    "EMP_TaxFiltered=pd.concat(taxser,axis=1).T"
   ]
  },
  {
   "cell_type": "markdown",
   "id": "5ea6ec29-730f-4732-93ff-a6c1f3282046",
   "metadata": {},
   "source": [
    "After this, the name format was set as the one used in the GAtlas dataset."
   ]
  },
  {
   "cell_type": "code",
   "execution_count": null,
   "id": "c6953d45-9f73-4db5-98ba-d7ffbbae3c58",
   "metadata": {},
   "outputs": [],
   "source": [
    "EMP=pd.DataFrame()\n",
    "EMP[\"Latitude\"]=EMP_Indexed[\"Latitude\"]\n",
    "EMP[\"Longitude\"]=EMP_Indexed[\"Longitude\"]\n",
    "\n",
    "def decompose(identifier):\n",
    "    if(np.int64(identifier) not in EMP_TaxFiltered.index):\n",
    "        return []\n",
    "    \n",
    "    series=list(EMP_TaxFiltered.loc[np.int64(identifier)])[3:-1]\n",
    "    for i in range(len(series)):\n",
    "        if(len(series[i])<=3):\n",
    "            return series[:i]\n",
    "    \n",
    "    return series\n",
    "\n",
    "series_lst=[]\n",
    "for classification in EMP_TaxFiltered.columns:\n",
    "    uniques=EMP_TaxFiltered[classification][3:-1].unique()\n",
    "    for unique in uniques:\n",
    "        series_lst.append(pd.Series(data=np.zeros(EMP.shape[0]),index=EMP.index,name=unique))\n",
    "EMP=pd.concat([EMP]+series_lst,axis=1)\n",
    "EMP=EMP.copy()\n",
    "\n",
    "from fastprogress import *\n",
    "def PandasNightmares():\n",
    "    global EMP\n",
    "    mb=master_bar(EMP_Indexed.index)\n",
    "    \n",
    "    for sample in mb:\n",
    "        for ident in progress_bar(EMP_Indexed.columns[2:],parent=mb):\n",
    "            v=EMP_Indexed.loc[sample,ident]\n",
    "            if(type(v)!=np.float64):\n",
    "                v=v.values[0]\n",
    "            if(v>0):\n",
    "                taxonomy=decompose(ident)\n",
    "                for t in taxonomy:\n",
    "                    EMP.loc[sample,t]+=v\n",
    "        \n",
    "import warnings\n",
    "#Too many pandas were harmed in the making of this movie.\n",
    "with warnings.catch_warnings():\n",
    "    warnings.simplefilter(\"ignore\")\n",
    "    PandasNightmares()"
   ]
  },
  {
   "cell_type": "code",
   "execution_count": null,
   "id": "462bf445-ec4b-4125-9d0c-43e625538279",
   "metadata": {},
   "outputs": [],
   "source": [
    "newcol={c:c.replace(\"[\",\"\").replace(\"]\",\"\") for c in EMP.columns}\n",
    "EMP.rename(columns=newcol,inplace=True)\n",
    "EMP.columns\n",
    "EMP.drop(columns=\"c__\",inplace=True)\n",
    "EMP.drop(columns=\"o__\",inplace=True)\n",
    "EMP.drop(columns=\"f__\",inplace=True)\n",
    "EMP.drop(columns=\"g__\",inplace=True)\n",
    "EMP.drop(columns=\"s__\",inplace=True)\n",
    "newcol={c:c[:3]+c[3].upper()+c[4:] for c in EMP.columns[2:]}\n",
    "EMP.rename(columns=newcol,inplace=True)"
   ]
  },
  {
   "cell_type": "markdown",
   "id": "85d53279-5fc1-4cc3-9cc3-d9a5ae545de5",
   "metadata": {},
   "source": [
    "### EMP dataset resultant table\n",
    "The resultant table presents a sample per row, the columns contained the Latitude, Longitude, and the proportion of each taxonomic group for that sample."
   ]
  },
  {
   "cell_type": "code",
   "execution_count": null,
   "id": "e3987644-fc1d-44c4-9fc2-a787fd9314e5",
   "metadata": {},
   "outputs": [],
   "source": [
    "EMP.head()"
   ]
  },
  {
   "cell_type": "markdown",
   "id": "11b2a9f4-03a4-41b9-abf2-a5a9856a27ea",
   "metadata": {
    "jp-MarkdownHeadingCollapsed": true,
    "tags": []
   },
   "source": [
    "## Merged table"
   ]
  },
  {
   "cell_type": "code",
   "execution_count": null,
   "id": "5591bc8b-8dcb-49c2-bf3e-948659946b90",
   "metadata": {},
   "outputs": [],
   "source": [
    "Merged=pd.merge(EMP,GAtlas,how=\"outer\").fillna(0)"
   ]
  },
  {
   "cell_type": "code",
   "execution_count": null,
   "id": "e99739b6-af2e-4760-b94b-b8b042451613",
   "metadata": {},
   "outputs": [],
   "source": [
    "Merged.head()"
   ]
  }
 ],
 "metadata": {
  "kernelspec": {
   "display_name": "Python 3 (ipykernel)",
   "language": "python",
   "name": "python3"
  },
  "language_info": {
   "codemirror_mode": {
    "name": "ipython",
    "version": 3
   },
   "file_extension": ".py",
   "mimetype": "text/x-python",
   "name": "python",
   "nbconvert_exporter": "python",
   "pygments_lexer": "ipython3",
   "version": "3.10.8"
  }
 },
 "nbformat": 4,
 "nbformat_minor": 5
}
