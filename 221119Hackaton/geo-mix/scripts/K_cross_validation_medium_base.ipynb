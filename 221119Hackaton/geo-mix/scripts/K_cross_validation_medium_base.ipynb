{
 "cells": [
  {
   "cell_type": "code",
   "execution_count": null,
   "metadata": {
    "id": "IklufuqUwcpX"
   },
   "outputs": [],
   "source": [
    "import matplotlib.pyplot as plt\n",
    "import tqdm\n",
    "from time import time"
   ]
  },
  {
   "cell_type": "markdown",
   "metadata": {
    "id": "MpFOG--QxVDX"
   },
   "source": [
    "# Estructura de los datos."
   ]
  },
  {
   "cell_type": "markdown",
   "metadata": {
    "id": "7vQyM0HZoFW9"
   },
   "source": [
    "Tenemos 3043 observaciones de dimensión 500. Estas características provienen de un análisis de componentes principales, pues se buscó reducir la dimensión."
   ]
  },
  {
   "cell_type": "markdown",
   "metadata": {
    "id": "NrrajEuRytBP"
   },
   "source": [
    "# Datos del ejercicio"
   ]
  },
  {
   "cell_type": "code",
   "execution_count": null,
   "metadata": {
    "colab": {
     "base_uri": "https://localhost:8080/"
    },
    "id": "30vL3CcXxUUE",
    "outputId": "008807be-899f-404a-dffb-9bd7fc9223b4"
   },
   "outputs": [
    {
     "name": "stdout",
     "output_type": "stream",
     "text": [
      "   muestra         0         1         2         3         4         5  \\\n",
      "0        0 -0.017698 -0.018833 -0.005616 -0.000572 -0.005652 -0.018966   \n",
      "1        1 -0.019763 -0.018925 -0.005570 -0.000452 -0.005316 -0.018045   \n",
      "2        2 -0.020007 -0.020142 -0.005839 -0.000438 -0.005355 -0.018727   \n",
      "3        3 -0.014178 -0.015676 -0.005112 -0.000345 -0.005809 -0.019237   \n",
      "4        4 -0.020483 -0.020830 -0.005978 -0.000489 -0.005396 -0.019325   \n",
      "\n",
      "          6         7         8  ...       491       492       493       494  \\\n",
      "0 -0.012661 -0.016314 -0.001750  ...  0.000706 -0.001257  0.001123 -0.001063   \n",
      "1 -0.012203 -0.015462 -0.001681  ...  0.001495  0.000359 -0.000335 -0.000279   \n",
      "2 -0.012396 -0.015604 -0.001798  ... -0.000068 -0.000303  0.000749 -0.000299   \n",
      "3 -0.013223 -0.017674 -0.001145  ...  0.000358 -0.000483  0.000012 -0.000220   \n",
      "4 -0.012630 -0.016130 -0.002057  ... -0.000909  0.000261  0.001696 -0.000984   \n",
      "\n",
      "        495       496       497       498       499              etiqueta  \n",
      "0  0.000162  0.000123  0.000698 -0.002180 -0.000647  WarmT-SumDry-HotSum0  \n",
      "1  0.001268  0.001126 -0.001163  0.001068  0.001447  WarmT-SumDry-HotSum0  \n",
      "2 -0.000938 -0.000155 -0.000818 -0.002170 -0.001276  WarmT-SumDry-HotSum0  \n",
      "3  0.000219 -0.000326 -0.000354  0.000327 -0.001916  WarmT-SumDry-HotSum0  \n",
      "4 -0.001747  0.000657  0.000909 -0.001606 -0.001416  WarmT-SumDry-HotSum0  \n",
      "\n",
      "[5 rows x 502 columns]\n"
     ]
    }
   ],
   "source": [
    "import pandas as pd\n",
    "import matplotlib.pyplot as plt\n",
    "\n",
    "df = pd.read_csv(\"base.csv\")\n",
    "print(df.head())\n",
    "from sklearn.utils import shuffle\n",
    "#df = shuffle(df)###El ajuste depende de este shuffle*****"
   ]
  },
  {
   "cell_type": "code",
   "execution_count": null,
   "metadata": {
    "colab": {
     "base_uri": "https://localhost:8080/"
    },
    "id": "2zSWbW5vz3PI",
    "outputId": "bfaf7a13-56e4-4046-9767-b565e2f60894"
   },
   "outputs": [
    {
     "name": "stdout",
     "output_type": "stream",
     "text": [
      "(3043, 502)\n"
     ]
    }
   ],
   "source": [
    "print(df.shape)"
   ]
  },
  {
   "cell_type": "code",
   "execution_count": null,
   "metadata": {
    "id": "E6fYhQo7BNGu"
   },
   "outputs": [],
   "source": [
    "import numpy as np"
   ]
  },
  {
   "cell_type": "code",
   "execution_count": null,
   "metadata": {
    "colab": {
     "base_uri": "https://localhost:8080/",
     "height": 265
    },
    "id": "QVlF0yPp2YOY",
    "outputId": "faf65b43-70e7-4ec2-91fe-caa80df52155"
   },
   "outputs": [
    {
     "data": {
      "image/png": "[encoded data removed]",
      "text/plain": [
       "<Figure size 432x288 with 1 Axes>"
      ]
     },
     "metadata": {
      "needs_background": "light"
     },
     "output_type": "display_data"
    }
   ],
   "source": [
    "ytags=df['etiqueta']\n",
    "_,idx = np.unique(ytags,return_inverse=True)\n",
    "plt.hist(idx,bins=len(_))\n",
    "plt.show()#Mala representatividad de clases."
   ]
  },
  {
   "cell_type": "markdown",
   "metadata": {
    "id": "fOP0O0MV3pmP"
   },
   "source": [
    "# Definición del modelo."
   ]
  },
  {
   "cell_type": "code",
   "execution_count": null,
   "metadata": {
    "id": "XVlSzWd23fCO"
   },
   "outputs": [],
   "source": [
    "import tensorflow as tf\n",
    "import keras\n",
    "import pandas as pd\n",
    "from keras import layers\n",
    "from keras import models"
   ]
  },
  {
   "cell_type": "markdown",
   "metadata": {
    "id": "FFepTzwtn_GO"
   },
   "source": [
    "Se considera un modelo 2 dos capas ocultas de tipo densas. Una con 256 nodos y la otra con 64, cada una con función de activación de tipo \"relu\".\n",
    "\n",
    "Para la clasificación, se utiliza una función de pérdida de tipo categórica-crossentropy, con una capa de salida de 41 clases, una para cada etiqueta única definida en los datos.\n",
    "\n",
    "Se da un número fijo de epocas (20) y un batch-size fijo (10)"
   ]
  },
  {
   "cell_type": "markdown",
   "metadata": {
    "id": "8vkMeWY7dUeA"
   },
   "source": [
    "#k-Cross-validation. \n",
    "\n",
    "Consideraremos distintos datos de entrenamiento/validación a fin de promediar el desempeño obtenido."
   ]
  },
  {
   "cell_type": "code",
   "execution_count": null,
   "metadata": {
    "id": "9sibGkawehRv"
   },
   "outputs": [],
   "source": [
    "import matplotlib.pyplot as plt\n",
    "\n",
    "from sklearn.metrics import accuracy_score,confusion_matrix, precision_score, recall_score,roc_auc_score\n",
    "\n",
    "from sklearn.metrics import f1_score, cohen_kappa_score\n",
    "import seaborn as sns "
   ]
  },
  {
   "cell_type": "code",
   "execution_count": null,
   "metadata": {
    "id": "KM-ZnwpAdRuZ"
   },
   "outputs": [],
   "source": [
    "input_shape=500\n",
    "def RN(X_train_set,Y_train_set,X_val_set,Y_val_set):\n",
    "    model = models.Sequential()\n",
    "    model.add(layers.InputLayer(input_shape=(input_shape,), name='Input_Layer'))#Obligatoria\n",
    "    model.add(layers.Dense(512, activation='relu'))# Numero de capas ocultas: Opcional\n",
    "    model.add(layers.Dense(64, activation='relu'))# Numero de neuronas en cada capa: Opcional\n",
    "    model.add(layers.Dense(41, activation='Softmax', name='Output_Layer'))#Obligatoria\n",
    "    #model.summary()\n",
    "    model.compile(optimizer='adam',\n",
    "                loss='categorical_crossentropy',\n",
    "                metrics=['accuracy'])\n",
    "    model.fit(x = X_train_set, \n",
    "            y = Y_train_set,##Cuando haya otra base, se modifica ese 200\n",
    "            batch_size=10,\n",
    "            epochs=20,\n",
    "            verbose=0,shuffle=True)\n",
    "    test_predicted_labels_raw = model.predict(X_val_set)\n",
    "    test_true_labels      = np.argmax(Y_val_set,axis=1)\n",
    "    test_predicted_labels = np.argmax(test_predicted_labels_raw,axis=1)\n",
    "    accuracy = accuracy_score(test_true_labels,test_predicted_labels)\n",
    "    precision = precision_score(test_true_labels,test_predicted_labels,average='weighted',zero_division=1)\n",
    "    recall = recall_score(test_true_labels,test_predicted_labels,average='weighted',zero_division=1)\n",
    "    f1 = f1_score(test_true_labels,test_predicted_labels,average='weighted')\n",
    "    return(accuracy,precision,recall,f1)\n"
   ]
  },
  {
   "cell_type": "code",
   "execution_count": null,
   "metadata": {
    "colab": {
     "base_uri": "https://localhost:8080/"
    },
    "id": "4k9hwpNZejbX",
    "outputId": "07e2b4a9-f88f-495a-e5b4-4a94dd181cb9"
   },
   "outputs": [
    {
     "name": "stdout",
     "output_type": "stream",
     "text": [
      "20/20 [==============================] - 0s 3ms/step\n",
      "0\n",
      "20/20 [==============================] - 0s 3ms/step\n",
      "20/20 [==============================] - 0s 3ms/step\n",
      "20/20 [==============================] - 0s 3ms/step\n",
      "20/20 [==============================] - 0s 2ms/step\n",
      "20/20 [==============================] - 0s 2ms/step\n",
      "5\n",
      "20/20 [==============================] - 0s 3ms/step\n",
      "20/20 [==============================] - 0s 2ms/step\n",
      "20/20 [==============================] - 0s 4ms/step\n",
      "20/20 [==============================] - 0s 3ms/step\n",
      "20/20 [==============================] - 0s 3ms/step\n",
      "10\n",
      "20/20 [==============================] - 0s 4ms/step\n",
      "20/20 [==============================] - 0s 4ms/step\n",
      "20/20 [==============================] - 0s 3ms/step\n",
      "20/20 [==============================] - 0s 3ms/step\n",
      "20/20 [==============================] - 0s 3ms/step\n",
      "15\n",
      "20/20 [==============================] - 0s 3ms/step\n",
      "20/20 [==============================] - 0s 3ms/step\n",
      "20/20 [==============================] - 0s 4ms/step\n",
      "20/20 [==============================] - 0s 3ms/step\n",
      "[[0.95073892 0.96636204 0.95073892 0.95191927]\n",
      " [0.9589491  0.96406609 0.9589491  0.95645611]\n",
      " [0.94417077 0.95669808 0.94417077 0.94112057]\n",
      " [0.9589491  0.9639297  0.9589491  0.95822558]\n",
      " [0.94417077 0.95126595 0.94417077 0.9390454 ]\n",
      " [0.95402299 0.96710023 0.95402299 0.95715921]\n",
      " [0.96223317 0.9682486  0.96223317 0.95921395]\n",
      " [0.96059113 0.96604245 0.96059113 0.95494177]\n",
      " [0.95402299 0.96226605 0.95402299 0.94971314]\n",
      " [0.9589491  0.96509762 0.9589491  0.95634197]\n",
      " [0.95238095 0.96021089 0.95238095 0.95342144]\n",
      " [0.95402299 0.95645573 0.95402299 0.94996408]\n",
      " [0.94252874 0.94807754 0.94252874 0.94076131]\n",
      " [0.95730706 0.96809998 0.95730706 0.95579866]\n",
      " [0.95566502 0.96638155 0.95566502 0.95199824]\n",
      " [0.95730706 0.96368809 0.95730706 0.95886792]\n",
      " [0.95238095 0.96003767 0.95238095 0.94817082]\n",
      " [0.94581281 0.95915196 0.94581281 0.94422231]\n",
      " [0.94252874 0.95229296 0.94252874 0.94136994]\n",
      " [0.95073892 0.95901853 0.95073892 0.9482283 ]]\n"
     ]
    }
   ],
   "source": [
    "from keras.utils import to_categorical\n",
    "K=20# se consideran 20 subconjuntos aleatorios de entrenamiento.\n",
    "metrics=np.zeros((K,4))\n",
    "for k in range(K):\n",
    "    df=shuffle(df)##Este hace todo el truco\n",
    "    ytags=df['etiqueta']\n",
    "    X_total=df.drop(columns=['muestra','etiqueta'])\n",
    "    _,idx = np.unique(ytags,return_inverse=True)\n",
    "    Y_total=to_categorical(idx)\n",
    "    train_perc=int(0.80*len(X_total))\n",
    "    X_train=X_total[0:train_perc]\n",
    "    Y_train=Y_total[0:train_perc]\n",
    "    X_val=X_total[train_perc:]\n",
    "    Y_val=Y_total[train_perc:]\n",
    "    metrics[k]=RN(X_train_set=X_train,Y_train_set=Y_train,X_val_set=X_val,Y_val_set=Y_val)\n",
    "    if(k%5==0):\n",
    "        print(k)"
   ]
  },
  {
   "cell_type": "markdown",
   "metadata": {
    "id": "aNfMKOWOpZTy"
   },
   "source": [
    "#Métricas de desempeño."
   ]
  },
  {
   "cell_type": "code",
   "execution_count": null,
   "metadata": {
    "colab": {
     "base_uri": "https://localhost:8080/",
     "height": 596
    },
    "id": "sqA2Yl0olP5A",
    "outputId": "18b3ef8a-4abc-4442-fb75-145896ccd6d2"
   },
   "outputs": [
    {
     "data": {
      "image/png": "[encoded data removed]",
      "text/plain": [
       "<Figure size 720x720 with 1 Axes>"
      ]
     },
     "metadata": {
      "needs_background": "light"
     },
     "output_type": "display_data"
    }
   ],
   "source": [
    "plt.figure(figsize=(10,10))\n",
    "plt.boxplot(metrics[:,0:],labels=['Accuracy','Precision','Recall','F1-score'])\n",
    "plt.ylim((0.937,0.97))\n",
    "plt.show()"
   ]
  },
  {
   "cell_type": "markdown",
   "metadata": {
    "id": "CNKcMj9qpfzT"
   },
   "source": [
    "## Promedios"
   ]
  },
  {
   "cell_type": "code",
   "execution_count": null,
   "metadata": {
    "colab": {
     "base_uri": "https://localhost:8080/"
    },
    "id": "yHKtGOZji7gK",
    "outputId": "2115dde7-b6ea-4dc7-d68b-43ebc63b23a2"
   },
   "outputs": [
    {
     "name": "stdout",
     "output_type": "stream",
     "text": [
      "  Accuracy    Precision    Recall    F1-score\n",
      "----------  -----------  --------  ----------\n",
      "    0.9529       0.9612    0.9529      0.9508\n"
     ]
    }
   ],
   "source": [
    "from tabulate import tabulate\n",
    "print(tabulate([[str(np.round(metrics.mean(0).tolist()[i],4)) for i in range(4)]], headers=[\"Accuracy\", \"Precision\",\"Recall\", \"F1-score\"]))"
   ]
  },
  {
   "cell_type": "markdown",
   "metadata": {
    "id": "a7bKQOX8pife"
   },
   "source": [
    "Recordemos que se trata de un problema multiclase, por lo que se puede decir que tenemos un muy buen desempeño en la clasificación."
   ]
  }
 ],
 "metadata": {
  "colab": {
   "provenance": []
  },
  "kernelspec": {
   "display_name": "Python 3 (ipykernel)",
   "language": "python",
   "name": "python3"
  },
  "language_info": {
   "codemirror_mode": {
    "name": "ipython",
    "version": 3
   },
   "file_extension": ".py",
   "mimetype": "text/x-python",
   "name": "python",
   "nbconvert_exporter": "python",
   "pygments_lexer": "ipython3",
   "version": "3.10.8"
  }
 },
 "nbformat": 4,
 "nbformat_minor": 1
}
