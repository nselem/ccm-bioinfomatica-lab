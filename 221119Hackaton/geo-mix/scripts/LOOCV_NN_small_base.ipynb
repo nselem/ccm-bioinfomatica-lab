{
 "cells": [
  {
   "cell_type": "markdown",
   "metadata": {
    "id": "rYu2VOad4e2c"
   },
   "source": [
    "# Segundo intento. Leave One Out Cross Validation Method."
   ]
  },
  {
   "cell_type": "markdown",
   "metadata": {
    "id": "pRGzMDUp4mj9"
   },
   "source": [
    "Sean $X_1,X_2,\\ldots, X_n$ las observaciones. \n",
    "Para cada $i\\in\\{1,2,\\ldots,n\\}$ se define una red $RN(i)$, que es entrenada con los datos \n",
    "$$X_{train}^{(i)}=\\{X\\}_{i=1}^n - \\{X_i\\}$$\n",
    "$$X_{val}^{(i)}=\\{X_i\\}$$\n",
    "\n",
    "\n",
    "Sea $Y_{pred}^{(i)}=RN(i)(X_i)$ la predicción del dato de entrenamiento.\n",
    "\n",
    "Para cada $i$, se obtiene un error $\\epsilon_i\\in\\{0,1\\}$.\n",
    "\n",
    "Definimos una precisión global como \n",
    "$$\\frac{1}{n}\\sum_{i=1}^n \\epsilon_i$$"
   ]
  },
  {
   "cell_type": "code",
   "execution_count": null,
   "metadata": {
    "id": "PN3ik5Bk7dZB"
   },
   "outputs": [],
   "source": [
    "import pandas as pd\n",
    "import matplotlib.pyplot as plt\n",
    "import numpy as np\n",
    "from keras.utils import to_categorical\n",
    "\n",
    "df = pd.read_csv(\"Dataset_w_tags.csv\")\n",
    "df.head()\n",
    "y_tags=df['Tag']\n",
    "df_X=df.drop(columns=['Tag','Dominant_taxa_ID/ID_Environmental'])\n",
    "_,idx_Total = np.unique(y_tags,return_inverse=True)\n",
    "#from sklearn.utils import shuffle\n",
    "#df = shuffle(df)###El ajuste depende de este shuffle"
   ]
  },
  {
   "cell_type": "code",
   "execution_count": null,
   "metadata": {
    "colab": {
     "base_uri": "https://localhost:8080/",
     "height": 473
    },
    "id": "XXtvMrTAmaFy",
    "outputId": "3adacc19-bac8-45de-e45b-2789cafc7ba8"
   },
   "outputs": [
    {
     "data": {
      "text/plain": [
       "(array([ 1.,  3.,  4.,  3., 11., 16.,  1.,  3.,  1.,  1., 60.,  2.,  7.,\n",
       "        16.,  4.,  2.,  2.,  9.,  1.,  6., 24.,  2.,  4.,  1.,  3.,  1.,\n",
       "         2.,  5.,  3.,  2.,  2.,  1., 22.,  3.,  1.,  1.,  7.]),\n",
       " array([ 0.        ,  0.97297297,  1.94594595,  2.91891892,  3.89189189,\n",
       "         4.86486486,  5.83783784,  6.81081081,  7.78378378,  8.75675676,\n",
       "         9.72972973, 10.7027027 , 11.67567568, 12.64864865, 13.62162162,\n",
       "        14.59459459, 15.56756757, 16.54054054, 17.51351351, 18.48648649,\n",
       "        19.45945946, 20.43243243, 21.40540541, 22.37837838, 23.35135135,\n",
       "        24.32432432, 25.2972973 , 26.27027027, 27.24324324, 28.21621622,\n",
       "        29.18918919, 30.16216216, 31.13513514, 32.10810811, 33.08108108,\n",
       "        34.05405405, 35.02702703, 36.        ]),\n",
       " <a list of 37 Patch objects>)"
      ]
     },
     "execution_count": 2,
     "metadata": {},
     "output_type": "execute_result"
    },
    {
     "data": {
      "image/png": "[encoded data removed]",
      "text/plain": [
       "<Figure size 432x288 with 1 Axes>"
      ]
     },
     "metadata": {
      "needs_background": "light"
     },
     "output_type": "display_data"
    }
   ],
   "source": [
    "plt.hist(idx_Total,bins=37)"
   ]
  },
  {
   "cell_type": "markdown",
   "metadata": {
    "id": "Rziaivnh0KR-"
   },
   "source": [
    "Observamos que en esta base con pocas muestras, hay clases con un único representante, por lo que no tiene sentido dejarlo fuera pues disminuiría el número de clases y por lo tanto una correcta clasificación tiene inmediatamente probabilidad cero."
   ]
  },
  {
   "cell_type": "markdown",
   "metadata": {
    "id": "-9P_FPBW1CTi"
   },
   "source": [
    "Como solución improvisada, haremos réplica (¿cuántas veces?) de muestras para aquellas clases con muy pocas (¿cuántas son muy pocas?), para incrementar la representatividad. \n",
    "\n",
    "Esto es equivalente a agregarle pesos de clasificación a estas clases, y un caso extremo sería homogeneizar los números de observaciones por clase de manera que una nueva muestra tenga probabilidad uniforme de provenir de una de las clases. (cita_pendiente)"
   ]
  },
  {
   "cell_type": "code",
   "execution_count": null,
   "metadata": {
    "colab": {
     "base_uri": "https://localhost:8080/"
    },
    "id": "1PXctZD4nb_-",
    "outputId": "1623d54f-cf32-4daa-b0f4-d9c55724e341"
   },
   "outputs": [
    {
     "name": "stdout",
     "output_type": "stream",
     "text": [
      "[148]\n",
      "[31]\n",
      "[16]\n",
      "[66]\n",
      "[25]\n",
      "[17]\n",
      "[5]\n",
      "[210]\n",
      "[0]\n",
      "[8]\n"
     ]
    }
   ],
   "source": [
    "uniques,ocurr=np.unique(idx_Total,return_counts=True)\n",
    "indices_w_varios=[]\n",
    "for k in range(len(ocurr)):\n",
    "    if ocurr[k]<=1:#Indices de la base donde hay pocos \n",
    "        indices=np.where(idx_Total==k)[0]\n",
    "        df=df.append(df.loc[indices],ignore_index=True)\n",
    "        print(indices)\n",
    "df2=pd.DataFrame(df)"
   ]
  },
  {
   "cell_type": "code",
   "execution_count": null,
   "metadata": {
    "id": "mHulWL34832f"
   },
   "outputs": [],
   "source": [
    "y_tags_2=df2['Tag']\n",
    "df2_X=df2.drop(columns=['Tag','Dominant_taxa_ID/ID_Environmental'])\n",
    "a_a,idx2_Total = np.unique(y_tags_2,return_inverse=True)"
   ]
  },
  {
   "cell_type": "code",
   "execution_count": null,
   "metadata": {
    "colab": {
     "base_uri": "https://localhost:8080/"
    },
    "id": "DrhtrFIu9LOK",
    "outputId": "42793d34-3e28-4999-eced-a0ad81903624"
   },
   "outputs": [
    {
     "name": "stdout",
     "output_type": "stream",
     "text": [
      "[ 2  3  4  3 11 16  2  3  2  2 60  2  7 16  4  2  2  9  2  6 24  2  4  2\n",
      "  3  2  2  5  3  2  2  2 22  3  2  2  7]\n"
     ]
    }
   ],
   "source": [
    "uniques2,ocurr2=np.unique(idx2_Total,return_counts=True)\n",
    "print(ocurr2)"
   ]
  },
  {
   "cell_type": "markdown",
   "metadata": {
    "id": "9nJuwlwb1BnR"
   },
   "source": [
    "Ya no hay clases con únicos elementos ni con solo 2."
   ]
  },
  {
   "cell_type": "code",
   "execution_count": null,
   "metadata": {
    "id": "9ZVOA4Cs5-Sk"
   },
   "outputs": [],
   "source": [
    "import tensorflow as tf\n",
    "import keras\n",
    "import pandas as pd\n",
    "from keras import layers\n",
    "from keras import models\n",
    "from keras.utils import to_categorical\n",
    "\n",
    "batch_size_fijo=10\n",
    "epochs_fijas=10\n",
    "def RN(i):#Recibe $i\\in\\{0,\\ldots,n\\}$\n",
    "    X_total=df2_X\n",
    "    Y_total=idx2_Total\n",
    "    X_train_i=X_total.drop(index=i)\n",
    "    Y_train_i=to_categorical(np.delete(Y_total,i))\n",
    "    X_val=X_total.loc[i]\n",
    "    Y_val=idx2_Total[i]###Que sea de tipo categorical_keras\n",
    "    Y_val_cat=np.zeros(len(uniques))\n",
    "    Y_val_cat[Y_val]=1\n",
    "    \n",
    "    model = models.Sequential()\n",
    "    model.add(layers.InputLayer(input_shape=(511,), name='Input_Layer'))#Obligatoria\n",
    "    model.add(layers.Dense(512, activation='relu'))# Numero de capas ocultas: Opcional\n",
    "    model.add(layers.Dense(64, activation='relu'))# Numero de neuronas en cada capa: Opcional\n",
    "    model.add(layers.Dense(37, activation='Softmax', name='Output_Layer'))#Obligatoria\n",
    "    #model.summary()\n",
    "    model.compile(optimizer='adam',\n",
    "                loss='categorical_crossentropy',\n",
    "                metrics=['accuracy'])\n",
    "    callback = tf.keras.callbacks.EarlyStopping(monitor='loss', patience=3)\n",
    "# This callback will stop the training when there is no improvement in\n",
    "# the loss for three consecutive epochs.\n",
    "    if(i==0):  \n",
    "        model.fit(x = X_train_i, \n",
    "            y = Y_train_i,\n",
    "            batch_size=batch_size_fijo,\n",
    "            epochs=epochs_fijas,\n",
    "            verbose=2,shuffle=True,callbacks=[callback])\n",
    "    else: \n",
    "        model.fit(x = X_train_i, \n",
    "        y = Y_train_i,\n",
    "        batch_size=batch_size_fijo,\n",
    "        epochs=epochs_fijas,\n",
    "        verbose=0,shuffle=True,callbacks=[callback])\n",
    "    #Asumimos que se terminó de entrenar\n",
    "    return model"
   ]
  },
  {
   "cell_type": "markdown",
   "metadata": {
    "id": "-F45NpTELDEW"
   },
   "source": [
    "Error encontrado: Cuando consideramos suficientes neuronas, podemos conseguir un error de clasificación de los datos de entrenamiento muy cerca del 100%. Esto último se puede identificar como una memorización de estos datos, por lo que la clasificación de nuevos climas sólo tiene sentido para los datos con más de 2 elementos.\n",
    "\n",
    "Se puede considerar una red más sencilla, con menos neuronas de manera que no se aprenda los datos de entrenamiento, sacrificando precisión pero buscando generalidad."
   ]
  },
  {
   "cell_type": "code",
   "execution_count": null,
   "metadata": {
    "colab": {
     "base_uri": "https://localhost:8080/"
    },
    "id": "egnpwZS8DtDi",
    "outputId": "c59d017d-e00d-4ec0-8f6b-f3c34d902615"
   },
   "outputs": [
    {
     "name": "stdout",
     "output_type": "stream",
     "text": [
      "Epoch 1/10\n",
      "25/25 - 1s - loss: 9.6955 - accuracy: 0.2073 - 859ms/epoch - 34ms/step\n",
      "Epoch 2/10\n",
      "25/25 - 0s - loss: 2.4050 - accuracy: 0.3537 - 96ms/epoch - 4ms/step\n",
      "Epoch 3/10\n",
      "25/25 - 0s - loss: 1.8119 - accuracy: 0.4512 - 97ms/epoch - 4ms/step\n",
      "Epoch 4/10\n",
      "25/25 - 0s - loss: 1.4728 - accuracy: 0.5285 - 114ms/epoch - 5ms/step\n",
      "Epoch 5/10\n",
      "25/25 - 0s - loss: 1.2734 - accuracy: 0.6341 - 109ms/epoch - 4ms/step\n",
      "Epoch 6/10\n",
      "25/25 - 0s - loss: 1.1625 - accuracy: 0.6463 - 113ms/epoch - 5ms/step\n",
      "Epoch 7/10\n",
      "25/25 - 0s - loss: 1.0685 - accuracy: 0.6545 - 89ms/epoch - 4ms/step\n",
      "Epoch 8/10\n",
      "25/25 - 0s - loss: 0.9936 - accuracy: 0.7073 - 100ms/epoch - 4ms/step\n",
      "Epoch 9/10\n",
      "25/25 - 0s - loss: 0.8685 - accuracy: 0.7317 - 91ms/epoch - 4ms/step\n",
      "Epoch 10/10\n",
      "25/25 - 0s - loss: 0.7491 - accuracy: 0.7602 - 109ms/epoch - 4ms/step\n",
      "8/8 [==============================] - 0s 5ms/step\n",
      "8/8 [==============================] - 0s 4ms/step\n",
      "8/8 [==============================] - 0s 4ms/step\n",
      "8/8 [==============================] - 0s 4ms/step\n",
      "8/8 [==============================] - 0s 4ms/step\n",
      "8/8 [==============================] - 0s 3ms/step\n",
      "8/8 [==============================] - 0s 4ms/step\n",
      "8/8 [==============================] - 0s 4ms/step\n",
      "8/8 [==============================] - 0s 7ms/step\n",
      "8/8 [==============================] - 0s 3ms/step\n",
      "8/8 [==============================] - 0s 4ms/step\n",
      "8/8 [==============================] - 0s 3ms/step\n",
      "8/8 [==============================] - 0s 4ms/step\n",
      "8/8 [==============================] - 0s 5ms/step\n",
      "8/8 [==============================] - 0s 3ms/step\n",
      "8/8 [==============================] - 0s 4ms/step\n",
      "8/8 [==============================] - 0s 3ms/step\n",
      "8/8 [==============================] - 0s 3ms/step\n",
      "8/8 [==============================] - 0s 4ms/step\n",
      "8/8 [==============================] - 0s 5ms/step\n",
      "8/8 [==============================] - 0s 4ms/step\n",
      "8/8 [==============================] - 0s 3ms/step\n",
      "8/8 [==============================] - 0s 4ms/step\n",
      "8/8 [==============================] - 0s 4ms/step\n",
      "8/8 [==============================] - 0s 3ms/step\n",
      "8/8 [==============================] - 0s 3ms/step\n",
      "8/8 [==============================] - 0s 4ms/step\n",
      "8/8 [==============================] - 0s 4ms/step\n",
      "8/8 [==============================] - 0s 3ms/step\n",
      "8/8 [==============================] - 0s 4ms/step\n",
      "8/8 [==============================] - 0s 4ms/step\n",
      "8/8 [==============================] - 0s 4ms/step\n",
      "8/8 [==============================] - 0s 3ms/step\n",
      "8/8 [==============================] - 0s 4ms/step\n",
      "8/8 [==============================] - 0s 3ms/step\n",
      "8/8 [==============================] - 0s 4ms/step\n",
      "8/8 [==============================] - 0s 4ms/step\n",
      "8/8 [==============================] - 0s 5ms/step\n",
      "8/8 [==============================] - 0s 4ms/step\n",
      "8/8 [==============================] - 0s 3ms/step\n",
      "8/8 [==============================] - 0s 3ms/step\n",
      "8/8 [==============================] - 0s 4ms/step\n",
      "8/8 [==============================] - 0s 3ms/step\n",
      "8/8 [==============================] - 0s 3ms/step\n",
      "8/8 [==============================] - 0s 4ms/step\n",
      "8/8 [==============================] - 0s 4ms/step\n",
      "8/8 [==============================] - 0s 3ms/step\n",
      "8/8 [==============================] - 0s 3ms/step\n",
      "8/8 [==============================] - 0s 3ms/step\n",
      "8/8 [==============================] - 0s 5ms/step\n",
      "8/8 [==============================] - 0s 4ms/step\n",
      "8/8 [==============================] - 0s 4ms/step\n",
      "8/8 [==============================] - 0s 4ms/step\n",
      "8/8 [==============================] - 0s 3ms/step\n",
      "8/8 [==============================] - 0s 3ms/step\n",
      "8/8 [==============================] - 0s 3ms/step\n",
      "8/8 [==============================] - 0s 3ms/step\n",
      "8/8 [==============================] - 0s 3ms/step\n",
      "8/8 [==============================] - 0s 3ms/step\n",
      "8/8 [==============================] - 0s 5ms/step\n",
      "8/8 [==============================] - 0s 3ms/step\n",
      "8/8 [==============================] - 0s 3ms/step\n",
      "8/8 [==============================] - 0s 4ms/step\n",
      "8/8 [==============================] - 0s 4ms/step\n",
      "8/8 [==============================] - 0s 4ms/step\n",
      "8/8 [==============================] - 0s 4ms/step\n",
      "8/8 [==============================] - 0s 3ms/step\n",
      "8/8 [==============================] - 0s 3ms/step\n",
      "8/8 [==============================] - 0s 3ms/step\n",
      "8/8 [==============================] - 0s 3ms/step\n",
      "8/8 [==============================] - 0s 3ms/step\n",
      "8/8 [==============================] - 0s 4ms/step\n",
      "8/8 [==============================] - 0s 3ms/step\n",
      "8/8 [==============================] - 0s 5ms/step\n",
      "8/8 [==============================] - 0s 3ms/step\n",
      "8/8 [==============================] - 0s 5ms/step\n",
      "8/8 [==============================] - 0s 3ms/step\n",
      "8/8 [==============================] - 0s 3ms/step\n",
      "8/8 [==============================] - 0s 4ms/step\n",
      "8/8 [==============================] - 0s 4ms/step\n",
      "8/8 [==============================] - 0s 3ms/step\n",
      "8/8 [==============================] - 0s 3ms/step\n",
      "8/8 [==============================] - 0s 3ms/step\n",
      "8/8 [==============================] - 0s 3ms/step\n",
      "8/8 [==============================] - 0s 4ms/step\n",
      "8/8 [==============================] - 0s 5ms/step\n",
      "8/8 [==============================] - 0s 4ms/step\n",
      "8/8 [==============================] - 0s 3ms/step\n",
      "8/8 [==============================] - 0s 4ms/step\n",
      "8/8 [==============================] - 0s 3ms/step\n",
      "8/8 [==============================] - 0s 4ms/step\n",
      "8/8 [==============================] - 0s 3ms/step\n",
      "8/8 [==============================] - 0s 3ms/step\n",
      "8/8 [==============================] - 0s 4ms/step\n",
      "8/8 [==============================] - 0s 4ms/step\n",
      "8/8 [==============================] - 0s 3ms/step\n",
      "8/8 [==============================] - 0s 4ms/step\n",
      "8/8 [==============================] - 0s 4ms/step\n",
      "8/8 [==============================] - 0s 3ms/step\n",
      "8/8 [==============================] - 0s 3ms/step\n",
      "8/8 [==============================] - 0s 4ms/step\n",
      "8/8 [==============================] - 0s 4ms/step\n",
      "8/8 [==============================] - 0s 4ms/step\n",
      "8/8 [==============================] - 0s 4ms/step\n",
      "8/8 [==============================] - 0s 3ms/step\n",
      "8/8 [==============================] - 0s 4ms/step\n",
      "8/8 [==============================] - 0s 4ms/step\n",
      "8/8 [==============================] - 0s 3ms/step\n",
      "8/8 [==============================] - 0s 3ms/step\n",
      "8/8 [==============================] - 0s 4ms/step\n",
      "8/8 [==============================] - 0s 4ms/step\n",
      "8/8 [==============================] - 0s 3ms/step\n",
      "8/8 [==============================] - 0s 3ms/step\n",
      "8/8 [==============================] - 0s 3ms/step\n",
      "8/8 [==============================] - 0s 3ms/step\n",
      "8/8 [==============================] - 0s 3ms/step\n",
      "8/8 [==============================] - 0s 4ms/step\n",
      "8/8 [==============================] - 0s 4ms/step\n",
      "8/8 [==============================] - 0s 3ms/step\n",
      "8/8 [==============================] - 0s 3ms/step\n",
      "8/8 [==============================] - 0s 4ms/step\n",
      "8/8 [==============================] - 0s 3ms/step\n",
      "8/8 [==============================] - 0s 3ms/step\n",
      "8/8 [==============================] - 0s 4ms/step\n",
      "8/8 [==============================] - 0s 4ms/step\n",
      "8/8 [==============================] - 0s 4ms/step\n",
      "8/8 [==============================] - 0s 4ms/step\n",
      "8/8 [==============================] - 0s 4ms/step\n",
      "8/8 [==============================] - 0s 4ms/step\n",
      "8/8 [==============================] - 0s 4ms/step\n",
      "8/8 [==============================] - 0s 3ms/step\n",
      "8/8 [==============================] - 0s 4ms/step\n",
      "8/8 [==============================] - 0s 3ms/step\n",
      "8/8 [==============================] - 0s 4ms/step\n",
      "8/8 [==============================] - 0s 3ms/step\n",
      "8/8 [==============================] - 0s 3ms/step\n",
      "8/8 [==============================] - 0s 4ms/step\n",
      "8/8 [==============================] - 0s 3ms/step\n",
      "8/8 [==============================] - 0s 3ms/step\n",
      "8/8 [==============================] - 0s 4ms/step\n",
      "8/8 [==============================] - 0s 4ms/step\n",
      "8/8 [==============================] - 0s 4ms/step\n",
      "8/8 [==============================] - 0s 4ms/step\n",
      "8/8 [==============================] - 0s 4ms/step\n",
      "8/8 [==============================] - 0s 5ms/step\n",
      "8/8 [==============================] - 0s 3ms/step\n",
      "8/8 [==============================] - 0s 5ms/step\n",
      "8/8 [==============================] - 0s 4ms/step\n",
      "8/8 [==============================] - 0s 3ms/step\n",
      "8/8 [==============================] - 0s 4ms/step\n",
      "8/8 [==============================] - 0s 4ms/step\n",
      "8/8 [==============================] - 0s 4ms/step\n",
      "8/8 [==============================] - 0s 4ms/step\n",
      "8/8 [==============================] - 0s 4ms/step\n",
      "8/8 [==============================] - 0s 4ms/step\n",
      "8/8 [==============================] - 0s 5ms/step\n",
      "8/8 [==============================] - 0s 4ms/step\n",
      "8/8 [==============================] - 0s 4ms/step\n",
      "8/8 [==============================] - 0s 5ms/step\n",
      "8/8 [==============================] - 0s 4ms/step\n",
      "8/8 [==============================] - 0s 4ms/step\n",
      "8/8 [==============================] - 0s 3ms/step\n",
      "8/8 [==============================] - 0s 3ms/step\n",
      "8/8 [==============================] - 0s 3ms/step\n",
      "8/8 [==============================] - 0s 3ms/step\n",
      "8/8 [==============================] - 0s 4ms/step\n",
      "8/8 [==============================] - 0s 3ms/step\n",
      "8/8 [==============================] - 0s 3ms/step\n",
      "8/8 [==============================] - 0s 5ms/step\n",
      "8/8 [==============================] - 0s 3ms/step\n",
      "8/8 [==============================] - 0s 4ms/step\n",
      "8/8 [==============================] - 0s 4ms/step\n",
      "8/8 [==============================] - 0s 4ms/step\n",
      "8/8 [==============================] - 0s 3ms/step\n",
      "8/8 [==============================] - 0s 3ms/step\n",
      "8/8 [==============================] - 0s 4ms/step\n",
      "8/8 [==============================] - 0s 4ms/step\n",
      "8/8 [==============================] - 0s 3ms/step\n",
      "8/8 [==============================] - 0s 3ms/step\n",
      "8/8 [==============================] - 0s 3ms/step\n",
      "8/8 [==============================] - 0s 4ms/step\n",
      "8/8 [==============================] - 0s 3ms/step\n",
      "8/8 [==============================] - 0s 4ms/step\n",
      "8/8 [==============================] - 0s 4ms/step\n",
      "8/8 [==============================] - 0s 3ms/step\n",
      "8/8 [==============================] - 0s 3ms/step\n",
      "8/8 [==============================] - 0s 3ms/step\n",
      "8/8 [==============================] - 0s 3ms/step\n",
      "8/8 [==============================] - 0s 3ms/step\n",
      "8/8 [==============================] - 0s 3ms/step\n",
      "8/8 [==============================] - 0s 3ms/step\n",
      "8/8 [==============================] - 0s 4ms/step\n",
      "8/8 [==============================] - 0s 3ms/step\n",
      "8/8 [==============================] - 0s 3ms/step\n",
      "8/8 [==============================] - 0s 3ms/step\n",
      "8/8 [==============================] - 0s 3ms/step\n",
      "8/8 [==============================] - 0s 4ms/step\n",
      "8/8 [==============================] - 0s 4ms/step\n",
      "8/8 [==============================] - 0s 4ms/step\n",
      "8/8 [==============================] - 0s 3ms/step\n",
      "8/8 [==============================] - 0s 4ms/step\n",
      "8/8 [==============================] - 0s 4ms/step\n",
      "8/8 [==============================] - 0s 4ms/step\n",
      "8/8 [==============================] - 0s 4ms/step\n",
      "8/8 [==============================] - 0s 4ms/step\n",
      "8/8 [==============================] - 0s 6ms/step\n",
      "8/8 [==============================] - 0s 4ms/step\n",
      "8/8 [==============================] - 0s 4ms/step\n",
      "8/8 [==============================] - 0s 4ms/step\n",
      "8/8 [==============================] - 0s 3ms/step\n",
      "8/8 [==============================] - 0s 3ms/step\n",
      "8/8 [==============================] - 0s 7ms/step\n",
      "8/8 [==============================] - 0s 3ms/step\n",
      "8/8 [==============================] - 0s 4ms/step\n",
      "8/8 [==============================] - 0s 3ms/step\n",
      "8/8 [==============================] - 0s 4ms/step\n",
      "8/8 [==============================] - 0s 4ms/step\n",
      "8/8 [==============================] - 0s 3ms/step\n",
      "8/8 [==============================] - 0s 4ms/step\n",
      "8/8 [==============================] - 0s 3ms/step\n",
      "8/8 [==============================] - 0s 4ms/step\n",
      "8/8 [==============================] - 0s 4ms/step\n",
      "8/8 [==============================] - 0s 5ms/step\n",
      "8/8 [==============================] - 0s 4ms/step\n",
      "8/8 [==============================] - 0s 4ms/step\n",
      "8/8 [==============================] - 0s 4ms/step\n",
      "8/8 [==============================] - 0s 3ms/step\n",
      "8/8 [==============================] - 0s 4ms/step\n",
      "8/8 [==============================] - 0s 4ms/step\n",
      "8/8 [==============================] - 0s 4ms/step\n",
      "8/8 [==============================] - 0s 4ms/step\n",
      "8/8 [==============================] - 0s 4ms/step\n",
      "8/8 [==============================] - 0s 3ms/step\n",
      "8/8 [==============================] - 0s 3ms/step\n",
      "8/8 [==============================] - 0s 3ms/step\n",
      "8/8 [==============================] - 0s 4ms/step\n",
      "8/8 [==============================] - 0s 3ms/step\n",
      "8/8 [==============================] - 0s 3ms/step\n",
      "8/8 [==============================] - 0s 5ms/step\n",
      "8/8 [==============================] - 0s 3ms/step\n",
      "8/8 [==============================] - 0s 4ms/step\n",
      "8/8 [==============================] - 0s 3ms/step\n",
      "8/8 [==============================] - 0s 4ms/step\n",
      "8/8 [==============================] - 0s 4ms/step\n",
      "8/8 [==============================] - 0s 4ms/step\n",
      "8/8 [==============================] - 0s 4ms/step\n",
      "8/8 [==============================] - 0s 3ms/step\n"
     ]
    }
   ],
   "source": [
    "X_total=df2_X\n",
    "Y_total=idx2_Total\n",
    "pred_trues=[]\n",
    "test_true_labels = np.argmax(to_categorical(Y_total),axis=1)\n",
    "indices_prueba=range(len(X_total))\n",
    "test_pred_glob=[]\n",
    "for i in indices_prueba:\n",
    "    test_predicted_labels = RN(i).predict(X_total)\n",
    "    test_predicted_labels = np.argmax(test_predicted_labels,axis=1)\n",
    "    test_pred_glob.append(test_predicted_labels[i])"
   ]
  },
  {
   "cell_type": "code",
   "execution_count": null,
   "metadata": {
    "colab": {
     "base_uri": "https://localhost:8080/"
    },
    "id": "bb3S3Pu5b3yZ",
    "outputId": "b36c5a2c-5999-485f-ae2e-1af251f7f9ee"
   },
   "outputs": [
    {
     "data": {
      "text/plain": [
       "0.5465587044534413"
      ]
     },
     "execution_count": 9,
     "metadata": {},
     "output_type": "execute_result"
    }
   ],
   "source": [
    "test_true_global=test_true_labels[indices_prueba]\n",
    "np.sum(test_pred_glob==test_true_global)/len(X_total)"
   ]
  },
  {
   "cell_type": "markdown",
   "metadata": {
    "id": "dXG4dmMdTEos"
   },
   "source": [
    "Obtuvimos una precisión de aproximadamente 60% para datos de validación (global).\n"
   ]
  },
  {
   "cell_type": "code",
   "execution_count": null,
   "metadata": {
    "colab": {
     "base_uri": "https://localhost:8080/"
    },
    "id": "MkqPgVuP3cNN",
    "outputId": "a02b02c5-bed9-49f8-bd15-a75565a2670a"
   },
   "outputs": [
    {
     "data": {
      "text/plain": [
       "array([34,  1,  2, 33, 22, 25,  4,  5, 36,  5,  5,  5,  2,  5,  1,  2,  8,\n",
       "       23, 19,  2,  5,  1, 36, 33, 24, 10, 10, 24, 24,  5, 12,  6, 19,  5,\n",
       "        5, 22,  5, 19,  5,  5,  5,  5,  5,  5,  5,  5,  5,  5,  4, 36, 36,\n",
       "       36, 14, 36,  4,  4,  4,  4,  4,  4,  4,  4,  4,  4,  5,  5,  6, 36,\n",
       "       10, 10, 10, 10, 10, 10, 10, 10, 10, 10, 10, 10, 10, 10, 10, 10, 10,\n",
       "       10, 10, 10, 10, 10, 10, 10, 10, 10, 10, 10, 10, 10, 10, 10, 10, 10,\n",
       "       10, 10, 10, 10, 10, 10, 10, 32, 32, 32, 32, 32, 32, 10, 32, 10, 10,\n",
       "       10, 10, 10, 20, 20, 20, 20, 20, 20, 20, 20, 20, 20, 20, 21,  6, 28,\n",
       "       28, 10, 10, 10, 10, 10, 11, 11,  7, 26, 14, 26,  0,  7,  7,  7, 16,\n",
       "       16, 29, 15, 13, 15, 26, 12, 12, 26, 12, 12, 12, 12, 20, 20, 20, 20,\n",
       "       20, 13, 20, 20, 20, 20, 20, 20, 20, 13, 20, 20, 20, 13, 20, 13, 13,\n",
       "       27, 13, 27, 13, 20, 27, 27, 13, 13, 13, 13, 13, 13, 30, 17, 17, 17,\n",
       "       30, 17, 17, 17, 17, 17, 31, 32, 10, 10, 32, 32, 32, 32, 32, 32, 32,\n",
       "       32, 32, 32, 32, 32, 32, 10, 10, 32, 32, 10, 10,  3,  3,  3, 20,  0,\n",
       "        6,  8,  6, 10, 23, 25, 31, 34, 36])"
      ]
     },
     "execution_count": 17,
     "metadata": {},
     "output_type": "execute_result"
    }
   ],
   "source": []
  },
  {
   "cell_type": "code",
   "execution_count": null,
   "metadata": {
    "colab": {
     "base_uri": "https://localhost:8080/"
    },
    "id": "tVPaUGXJYEjo",
    "outputId": "b98b7c85-1ba4-46c0-8772-cd0defa4e7cd"
   },
   "outputs": [
    {
     "name": "stdout",
     "output_type": "stream",
     "text": [
      "Accuracy: 0.546559\n",
      "Precision: %f 0.5345372439868806\n",
      "Recall: %f 0.5465587044534413\n",
      "F1 score: 0.520529\n"
     ]
    }
   ],
   "source": [
    "import matplotlib.pyplot as plt\n",
    "\n",
    "from sklearn.metrics import accuracy_score,confusion_matrix, precision_score, recall_score,roc_auc_score\n",
    "\n",
    "from sklearn.metrics import f1_score, cohen_kappa_score\n",
    "import seaborn as sns \n",
    "\n",
    "accuracy = accuracy_score(test_true_global, test_pred_glob)\n",
    "print('Accuracy: %f' % accuracy)\n",
    "# precision tp / (tp + fp)\n",
    "precision = precision_score(test_true_global, test_pred_glob,average='weighted',zero_division=1)\n",
    "print('Precision: %f',precision)\n",
    "# recall: tp / (tp + fn)\n",
    "recall = recall_score(test_true_global, test_pred_glob,average='weighted',zero_division=1)\n",
    "print('Recall: %f' , recall)\n",
    "# f1: 2 tp / (2 tp + fp + fn)\n",
    "f1 = f1_score(test_true_global, test_pred_glob,average='weighted')\n",
    "print('F1 score: %f' % f1)\n"
   ]
  },
  {
   "cell_type": "markdown",
   "metadata": {
    "id": "AKp9xr7q4wMC"
   },
   "source": [
    "Prueba para calcular el AUC"
   ]
  },
  {
   "cell_type": "code",
   "execution_count": null,
   "metadata": {
    "colab": {
     "base_uri": "https://localhost:8080/"
    },
    "id": "alGqpsVC4vno",
    "outputId": "ea8d1f66-f064-42dc-d0a8-51f1a694639a"
   },
   "outputs": [
    {
     "name": "stdout",
     "output_type": "stream",
     "text": [
      "Epoch 1/10\n",
      "25/25 - 1s - loss: 11.5940 - accuracy: 0.2846 - 549ms/epoch - 22ms/step\n",
      "Epoch 2/10\n",
      "25/25 - 0s - loss: 2.3831 - accuracy: 0.4146 - 98ms/epoch - 4ms/step\n",
      "Epoch 3/10\n",
      "25/25 - 0s - loss: 1.7985 - accuracy: 0.5203 - 92ms/epoch - 4ms/step\n",
      "Epoch 4/10\n",
      "25/25 - 0s - loss: 1.3978 - accuracy: 0.6179 - 104ms/epoch - 4ms/step\n",
      "Epoch 5/10\n",
      "25/25 - 0s - loss: 1.2995 - accuracy: 0.6098 - 90ms/epoch - 4ms/step\n",
      "Epoch 6/10\n",
      "25/25 - 0s - loss: 1.1075 - accuracy: 0.6789 - 100ms/epoch - 4ms/step\n",
      "Epoch 7/10\n",
      "25/25 - 0s - loss: 0.9364 - accuracy: 0.7480 - 102ms/epoch - 4ms/step\n",
      "Epoch 8/10\n",
      "25/25 - 0s - loss: 0.7811 - accuracy: 0.7764 - 90ms/epoch - 4ms/step\n",
      "Epoch 9/10\n",
      "25/25 - 0s - loss: 0.9022 - accuracy: 0.7805 - 106ms/epoch - 4ms/step\n",
      "Epoch 10/10\n",
      "25/25 - 0s - loss: 0.6029 - accuracy: 0.8089 - 80ms/epoch - 3ms/step\n",
      "8/8 [==============================] - 0s 3ms/step\n",
      "8/8 [==============================] - 0s 4ms/step\n",
      "8/8 [==============================] - 0s 4ms/step\n",
      "8/8 [==============================] - 0s 3ms/step\n",
      "8/8 [==============================] - 0s 4ms/step\n",
      "8/8 [==============================] - 0s 3ms/step\n",
      "8/8 [==============================] - 0s 4ms/step\n",
      "8/8 [==============================] - 0s 3ms/step\n",
      "8/8 [==============================] - 0s 3ms/step\n",
      "8/8 [==============================] - 0s 3ms/step\n",
      "8/8 [==============================] - 0s 3ms/step\n",
      "8/8 [==============================] - 0s 3ms/step\n",
      "8/8 [==============================] - 0s 3ms/step\n",
      "8/8 [==============================] - 0s 3ms/step\n",
      "8/8 [==============================] - 0s 3ms/step\n",
      "8/8 [==============================] - 0s 4ms/step\n",
      "8/8 [==============================] - 0s 4ms/step\n",
      "8/8 [==============================] - 0s 3ms/step\n",
      "8/8 [==============================] - 0s 3ms/step\n",
      "8/8 [==============================] - 0s 4ms/step\n",
      "8/8 [==============================] - 0s 4ms/step\n",
      "8/8 [==============================] - 0s 4ms/step\n",
      "8/8 [==============================] - 0s 3ms/step\n",
      "8/8 [==============================] - 0s 4ms/step\n",
      "8/8 [==============================] - 0s 3ms/step\n",
      "8/8 [==============================] - 0s 3ms/step\n",
      "8/8 [==============================] - 0s 3ms/step\n",
      "8/8 [==============================] - 0s 3ms/step\n",
      "8/8 [==============================] - 0s 3ms/step\n",
      "8/8 [==============================] - 0s 4ms/step\n",
      "8/8 [==============================] - 0s 3ms/step\n",
      "8/8 [==============================] - 0s 4ms/step\n",
      "8/8 [==============================] - 0s 4ms/step\n",
      "8/8 [==============================] - 0s 4ms/step\n",
      "8/8 [==============================] - 0s 4ms/step\n",
      "8/8 [==============================] - 0s 3ms/step\n",
      "8/8 [==============================] - 0s 3ms/step\n",
      "8/8 [==============================] - 0s 3ms/step\n",
      "8/8 [==============================] - 0s 4ms/step\n",
      "8/8 [==============================] - 0s 3ms/step\n",
      "8/8 [==============================] - 0s 3ms/step\n",
      "8/8 [==============================] - 0s 3ms/step\n",
      "8/8 [==============================] - 0s 3ms/step\n",
      "8/8 [==============================] - 0s 3ms/step\n",
      "8/8 [==============================] - 0s 3ms/step\n",
      "8/8 [==============================] - 0s 3ms/step\n",
      "8/8 [==============================] - 0s 4ms/step\n",
      "8/8 [==============================] - 0s 3ms/step\n",
      "8/8 [==============================] - 0s 4ms/step\n",
      "8/8 [==============================] - 0s 3ms/step\n",
      "8/8 [==============================] - 0s 3ms/step\n",
      "8/8 [==============================] - 0s 3ms/step\n",
      "8/8 [==============================] - 0s 4ms/step\n",
      "8/8 [==============================] - 0s 4ms/step\n",
      "8/8 [==============================] - 0s 3ms/step\n",
      "8/8 [==============================] - 0s 4ms/step\n",
      "8/8 [==============================] - 0s 3ms/step\n",
      "8/8 [==============================] - 0s 4ms/step\n",
      "8/8 [==============================] - 0s 3ms/step\n",
      "8/8 [==============================] - 0s 3ms/step\n",
      "8/8 [==============================] - 0s 3ms/step\n",
      "8/8 [==============================] - 0s 3ms/step\n",
      "8/8 [==============================] - 0s 3ms/step\n",
      "8/8 [==============================] - 0s 4ms/step\n",
      "8/8 [==============================] - 0s 4ms/step\n",
      "8/8 [==============================] - 0s 3ms/step\n",
      "8/8 [==============================] - 0s 3ms/step\n",
      "8/8 [==============================] - 0s 3ms/step\n",
      "8/8 [==============================] - 0s 5ms/step\n",
      "8/8 [==============================] - 0s 3ms/step\n",
      "8/8 [==============================] - 0s 3ms/step\n",
      "8/8 [==============================] - 0s 4ms/step\n",
      "8/8 [==============================] - 0s 3ms/step\n",
      "8/8 [==============================] - 0s 4ms/step\n",
      "8/8 [==============================] - 0s 3ms/step\n",
      "8/8 [==============================] - 0s 4ms/step\n",
      "8/8 [==============================] - 0s 4ms/step\n",
      "8/8 [==============================] - 0s 4ms/step\n",
      "8/8 [==============================] - 0s 3ms/step\n",
      "8/8 [==============================] - 0s 4ms/step\n",
      "8/8 [==============================] - 0s 3ms/step\n",
      "8/8 [==============================] - 0s 4ms/step\n",
      "8/8 [==============================] - 0s 3ms/step\n",
      "8/8 [==============================] - 0s 3ms/step\n",
      "8/8 [==============================] - 0s 4ms/step\n",
      "8/8 [==============================] - 0s 3ms/step\n",
      "8/8 [==============================] - 0s 4ms/step\n",
      "8/8 [==============================] - 0s 3ms/step\n",
      "8/8 [==============================] - 0s 4ms/step\n",
      "8/8 [==============================] - 0s 3ms/step\n",
      "8/8 [==============================] - 0s 3ms/step\n",
      "8/8 [==============================] - 0s 3ms/step\n",
      "8/8 [==============================] - 0s 5ms/step\n",
      "8/8 [==============================] - 0s 3ms/step\n",
      "8/8 [==============================] - 0s 3ms/step\n",
      "8/8 [==============================] - 0s 3ms/step\n",
      "8/8 [==============================] - 0s 3ms/step\n",
      "8/8 [==============================] - 0s 3ms/step\n",
      "8/8 [==============================] - 0s 5ms/step\n",
      "8/8 [==============================] - 0s 3ms/step\n",
      "8/8 [==============================] - 0s 3ms/step\n",
      "8/8 [==============================] - 0s 4ms/step\n",
      "8/8 [==============================] - 0s 3ms/step\n",
      "8/8 [==============================] - 0s 4ms/step\n",
      "8/8 [==============================] - 0s 4ms/step\n",
      "8/8 [==============================] - 0s 4ms/step\n",
      "8/8 [==============================] - 0s 3ms/step\n",
      "8/8 [==============================] - 0s 3ms/step\n",
      "8/8 [==============================] - 0s 3ms/step\n",
      "8/8 [==============================] - 0s 4ms/step\n",
      "8/8 [==============================] - 0s 5ms/step\n",
      "8/8 [==============================] - 0s 3ms/step\n",
      "8/8 [==============================] - 0s 3ms/step\n",
      "8/8 [==============================] - 0s 3ms/step\n",
      "8/8 [==============================] - 0s 6ms/step\n",
      "8/8 [==============================] - 0s 4ms/step\n",
      "8/8 [==============================] - 0s 3ms/step\n",
      "8/8 [==============================] - 0s 3ms/step\n",
      "8/8 [==============================] - 0s 3ms/step\n",
      "8/8 [==============================] - 0s 3ms/step\n",
      "8/8 [==============================] - 0s 3ms/step\n",
      "8/8 [==============================] - 0s 4ms/step\n",
      "8/8 [==============================] - 0s 4ms/step\n",
      "8/8 [==============================] - 0s 4ms/step\n",
      "8/8 [==============================] - 0s 4ms/step\n",
      "8/8 [==============================] - 0s 3ms/step\n",
      "8/8 [==============================] - 0s 4ms/step\n",
      "8/8 [==============================] - 0s 3ms/step\n",
      "8/8 [==============================] - 0s 4ms/step\n",
      "8/8 [==============================] - 0s 4ms/step\n",
      "8/8 [==============================] - 0s 3ms/step\n",
      "8/8 [==============================] - 0s 5ms/step\n",
      "8/8 [==============================] - 0s 4ms/step\n",
      "8/8 [==============================] - 0s 3ms/step\n",
      "8/8 [==============================] - 0s 3ms/step\n",
      "8/8 [==============================] - 0s 3ms/step\n",
      "8/8 [==============================] - 0s 4ms/step\n",
      "8/8 [==============================] - 0s 4ms/step\n",
      "8/8 [==============================] - 0s 3ms/step\n",
      "8/8 [==============================] - 0s 4ms/step\n",
      "8/8 [==============================] - 0s 3ms/step\n",
      "8/8 [==============================] - 0s 4ms/step\n",
      "8/8 [==============================] - 0s 4ms/step\n",
      "8/8 [==============================] - 0s 3ms/step\n",
      "8/8 [==============================] - 0s 3ms/step\n",
      "8/8 [==============================] - 0s 4ms/step\n",
      "8/8 [==============================] - 0s 4ms/step\n",
      "8/8 [==============================] - 0s 4ms/step\n",
      "8/8 [==============================] - 0s 3ms/step\n",
      "8/8 [==============================] - 0s 3ms/step\n",
      "8/8 [==============================] - 0s 4ms/step\n",
      "8/8 [==============================] - 0s 3ms/step\n",
      "8/8 [==============================] - 0s 4ms/step\n",
      "8/8 [==============================] - 0s 3ms/step\n",
      "8/8 [==============================] - 0s 4ms/step\n",
      "8/8 [==============================] - 0s 4ms/step\n",
      "8/8 [==============================] - 0s 3ms/step\n",
      "8/8 [==============================] - 0s 4ms/step\n",
      "8/8 [==============================] - 0s 5ms/step\n",
      "8/8 [==============================] - 0s 4ms/step\n",
      "8/8 [==============================] - 0s 5ms/step\n",
      "8/8 [==============================] - 0s 4ms/step\n",
      "8/8 [==============================] - 0s 4ms/step\n",
      "8/8 [==============================] - 0s 3ms/step\n",
      "8/8 [==============================] - 0s 4ms/step\n",
      "8/8 [==============================] - 0s 3ms/step\n",
      "8/8 [==============================] - 0s 3ms/step\n",
      "8/8 [==============================] - 0s 3ms/step\n",
      "8/8 [==============================] - 0s 3ms/step\n",
      "8/8 [==============================] - 0s 3ms/step\n",
      "8/8 [==============================] - 0s 4ms/step\n",
      "8/8 [==============================] - 0s 4ms/step\n",
      "8/8 [==============================] - 0s 4ms/step\n",
      "8/8 [==============================] - 0s 3ms/step\n",
      "8/8 [==============================] - 0s 5ms/step\n",
      "8/8 [==============================] - 0s 3ms/step\n",
      "8/8 [==============================] - 0s 3ms/step\n",
      "8/8 [==============================] - 0s 3ms/step\n",
      "8/8 [==============================] - 0s 3ms/step\n",
      "8/8 [==============================] - 0s 4ms/step\n",
      "8/8 [==============================] - 0s 4ms/step\n",
      "8/8 [==============================] - 0s 3ms/step\n",
      "8/8 [==============================] - 0s 3ms/step\n",
      "8/8 [==============================] - 0s 3ms/step\n",
      "8/8 [==============================] - 0s 5ms/step\n",
      "8/8 [==============================] - 0s 4ms/step\n",
      "8/8 [==============================] - 0s 3ms/step\n",
      "8/8 [==============================] - 0s 3ms/step\n",
      "8/8 [==============================] - 0s 4ms/step\n",
      "8/8 [==============================] - 0s 4ms/step\n",
      "8/8 [==============================] - 0s 4ms/step\n",
      "8/8 [==============================] - 0s 3ms/step\n",
      "8/8 [==============================] - 0s 3ms/step\n",
      "8/8 [==============================] - 0s 3ms/step\n",
      "8/8 [==============================] - 0s 3ms/step\n",
      "8/8 [==============================] - 0s 3ms/step\n",
      "8/8 [==============================] - 0s 3ms/step\n",
      "8/8 [==============================] - 0s 4ms/step\n",
      "8/8 [==============================] - 0s 4ms/step\n",
      "8/8 [==============================] - 0s 3ms/step\n",
      "8/8 [==============================] - 0s 4ms/step\n",
      "8/8 [==============================] - 0s 3ms/step\n",
      "8/8 [==============================] - 0s 4ms/step\n",
      "8/8 [==============================] - 0s 3ms/step\n",
      "8/8 [==============================] - 0s 4ms/step\n",
      "8/8 [==============================] - 0s 4ms/step\n",
      "8/8 [==============================] - 0s 3ms/step\n",
      "8/8 [==============================] - 0s 3ms/step\n",
      "8/8 [==============================] - 0s 3ms/step\n",
      "8/8 [==============================] - 0s 3ms/step\n",
      "8/8 [==============================] - 0s 4ms/step\n",
      "8/8 [==============================] - 0s 3ms/step\n",
      "8/8 [==============================] - 0s 4ms/step\n",
      "8/8 [==============================] - 0s 4ms/step\n",
      "8/8 [==============================] - 0s 3ms/step\n",
      "8/8 [==============================] - 0s 4ms/step\n",
      "8/8 [==============================] - 0s 4ms/step\n",
      "8/8 [==============================] - 0s 3ms/step\n",
      "8/8 [==============================] - 0s 3ms/step\n",
      "8/8 [==============================] - 0s 3ms/step\n",
      "8/8 [==============================] - 0s 3ms/step\n",
      "8/8 [==============================] - 0s 3ms/step\n",
      "8/8 [==============================] - 0s 4ms/step\n",
      "8/8 [==============================] - 0s 4ms/step\n",
      "8/8 [==============================] - 0s 4ms/step\n",
      "8/8 [==============================] - 0s 4ms/step\n",
      "8/8 [==============================] - 0s 4ms/step\n",
      "8/8 [==============================] - 0s 4ms/step\n",
      "8/8 [==============================] - 0s 4ms/step\n",
      "8/8 [==============================] - 0s 4ms/step\n",
      "8/8 [==============================] - 0s 4ms/step\n",
      "8/8 [==============================] - 0s 3ms/step\n",
      "8/8 [==============================] - 0s 3ms/step\n",
      "8/8 [==============================] - 0s 4ms/step\n",
      "8/8 [==============================] - 0s 3ms/step\n",
      "8/8 [==============================] - 0s 4ms/step\n",
      "8/8 [==============================] - 0s 3ms/step\n",
      "8/8 [==============================] - 0s 4ms/step\n",
      "8/8 [==============================] - 0s 3ms/step\n",
      "8/8 [==============================] - 0s 4ms/step\n",
      "8/8 [==============================] - 0s 4ms/step\n",
      "8/8 [==============================] - 0s 4ms/step\n",
      "8/8 [==============================] - 0s 4ms/step\n",
      "8/8 [==============================] - 0s 3ms/step\n",
      "8/8 [==============================] - 0s 4ms/step\n",
      "8/8 [==============================] - 0s 4ms/step\n",
      "8/8 [==============================] - 0s 4ms/step\n"
     ]
    }
   ],
   "source": [
    "X_total=df2_X\n",
    "Y_total=idx2_Total\n",
    "pred_trues=[]\n",
    "test_true_labels = np.argmax(to_categorical(Y_total),axis=1)\n",
    "indices_prueba=range(len(X_total))\n",
    "test_pred_glob=[]\n",
    "test_predicted_labels_raw=[]\n",
    "for i in indices_prueba:\n",
    "    test_predicted_labels_raw.append(RN(i).predict(X_total)[i])"
   ]
  },
  {
   "cell_type": "code",
   "execution_count": null,
   "metadata": {
    "id": "hgtGE12s53nn"
   },
   "outputs": [],
   "source": [
    "Y_true_in=test_true_labels[indices_prueba]"
   ]
  },
  {
   "cell_type": "code",
   "execution_count": null,
   "metadata": {
    "colab": {
     "base_uri": "https://localhost:8080/"
    },
    "id": "24fhzdTn51B4",
    "outputId": "97e40a1d-ada1-4eff-c535-8d874cb9602e"
   },
   "outputs": [
    {
     "name": "stdout",
     "output_type": "stream",
     "text": [
      "AUC-ROC:  0.8571154432106668\n"
     ]
    }
   ],
   "source": [
    "print(\"AUC-ROC: \",roc_auc_score(Y_true_in,np.array(test_predicted_labels_raw).tolist(),multi_class ='ovr'))"
   ]
  },
  {
   "cell_type": "markdown",
   "metadata": {
    "id": "3yw3TF_I99mX"
   },
   "source": [
    "Buen desempeño c:"
   ]
  }
 ],
 "metadata": {
  "colab": {
   "provenance": []
  },
  "kernelspec": {
   "display_name": "Python 3 (ipykernel)",
   "language": "python",
   "name": "python3"
  },
  "language_info": {
   "codemirror_mode": {
    "name": "ipython",
    "version": 3
   },
   "file_extension": ".py",
   "mimetype": "text/x-python",
   "name": "python",
   "nbconvert_exporter": "python",
   "pygments_lexer": "ipython3",
   "version": "3.10.8"
  }
 },
 "nbformat": 4,
 "nbformat_minor": 1
}
