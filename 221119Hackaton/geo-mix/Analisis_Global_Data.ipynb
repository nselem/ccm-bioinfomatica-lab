{
 "cells": [
  {
   "cell_type": "code",
   "execution_count": 7,
   "id": "f4e4d02e-8006-4305-be8c-12c11b977a89",
   "metadata": {},
   "outputs": [],
   "source": [
    "import pandas as pd\n",
    "import numpy as np\n",
    "import plotly as plt\n",
    "import plotly.express as px\n",
    "from biom import load_table\n",
    "\n",
    "import matplotlib.pyplot as plt\n",
    "from matplotlib.colors import ListedColormap\n",
    "import matplotlib.patches as mpatches\n",
    "import seaborn as sb\n",
    " \n",
    "#%matplotlib inline\n",
    "#plt.rcParams['figure.figsize'] = (16, 9)\n",
    "#plt.style.use('ggplot')\n",
    "\n",
    "from sklearn.preprocessing import LabelEncoder\n",
    "from sklearn.preprocessing import MinMaxScaler\n",
    "\n",
    "from sklearn.model_selection import train_test_split\n",
    "from sklearn.model_selection import GridSearchCV\n",
    "\n",
    "from sklearn.metrics import classification_report\n",
    "from sklearn.metrics import confusion_matrix\n",
    "from sklearn.metrics import accuracy_score\n",
    "\n",
    "# KMeans\n",
    "from sklearn.cluster import KMeans\n",
    "\n",
    "# KNN\n",
    "from sklearn.neighbors import KNeighborsRegressor\n",
    "\n",
    "# Random Forest\n",
    "from sklearn.ensemble import RandomForestClassifier\n",
    "\n",
    "# SVM\n",
    "from sklearn.svm import SVC"
   ]
  },
  {
   "cell_type": "code",
   "execution_count": 8,
   "id": "10a68920-111c-4ad1-b38a-154240c99f8c",
   "metadata": {},
   "outputs": [
    {
     "data": {
      "text/html": [
       "<div>\n",
       "<style scoped>\n",
       "    .dataframe tbody tr th:only-of-type {\n",
       "        vertical-align: middle;\n",
       "    }\n",
       "\n",
       "    .dataframe tbody tr th {\n",
       "        vertical-align: top;\n",
       "    }\n",
       "\n",
       "    .dataframe thead th {\n",
       "        text-align: right;\n",
       "    }\n",
       "</style>\n",
       "<table border=\"1\" class=\"dataframe\">\n",
       "  <thead>\n",
       "    <tr style=\"text-align: right;\">\n",
       "      <th></th>\n",
       "      <th>Unnamed: 0</th>\n",
       "      <th>ID_sequencing</th>\n",
       "      <th>ID_Environmental</th>\n",
       "      <th>Longitude</th>\n",
       "      <th>Latitude</th>\n",
       "      <th>Continent</th>\n",
       "      <th>Clay_silt</th>\n",
       "      <th>Soil_C</th>\n",
       "      <th>Soil_N</th>\n",
       "      <th>Soil_P</th>\n",
       "      <th>...</th>\n",
       "      <th>Shrubland</th>\n",
       "      <th>UV_Light</th>\n",
       "      <th>NPP2003_2015</th>\n",
       "      <th>Ecosystem_type</th>\n",
       "      <th>Low_pH_cluster</th>\n",
       "      <th>Drylands_cluster</th>\n",
       "      <th>High_pH_cluster</th>\n",
       "      <th>Dry_forest_cluster</th>\n",
       "      <th>Low_productivity_cluster</th>\n",
       "      <th>CZ</th>\n",
       "    </tr>\n",
       "  </thead>\n",
       "  <tbody>\n",
       "    <tr>\n",
       "      <th>0</th>\n",
       "      <td>1</td>\n",
       "      <td>1</td>\n",
       "      <td>1</td>\n",
       "      <td>-54.683333</td>\n",
       "      <td>-26.733333</td>\n",
       "      <td>South_america</td>\n",
       "      <td>82.0</td>\n",
       "      <td>1.771</td>\n",
       "      <td>0.248</td>\n",
       "      <td>559.298</td>\n",
       "      <td>...</td>\n",
       "      <td>0</td>\n",
       "      <td>10.525</td>\n",
       "      <td>0.819973</td>\n",
       "      <td>Temperate forests</td>\n",
       "      <td>-0.203029</td>\n",
       "      <td>-0.692027</td>\n",
       "      <td>-0.457046</td>\n",
       "      <td>-0.519431</td>\n",
       "      <td>-0.698867</td>\n",
       "      <td>Cfa</td>\n",
       "    </tr>\n",
       "    <tr>\n",
       "      <th>1</th>\n",
       "      <td>2</td>\n",
       "      <td>2</td>\n",
       "      <td>2</td>\n",
       "      <td>-148.250000</td>\n",
       "      <td>64.800000</td>\n",
       "      <td>North_America</td>\n",
       "      <td>80.0</td>\n",
       "      <td>3.217</td>\n",
       "      <td>0.156</td>\n",
       "      <td>911.506</td>\n",
       "      <td>...</td>\n",
       "      <td>0</td>\n",
       "      <td>2.322</td>\n",
       "      <td>0.380480</td>\n",
       "      <td>Boreal</td>\n",
       "      <td>0.279473</td>\n",
       "      <td>-0.740384</td>\n",
       "      <td>-0.730829</td>\n",
       "      <td>-0.323655</td>\n",
       "      <td>-0.730370</td>\n",
       "      <td>Dfc</td>\n",
       "    </tr>\n",
       "    <tr>\n",
       "      <th>2</th>\n",
       "      <td>3</td>\n",
       "      <td>3</td>\n",
       "      <td>3</td>\n",
       "      <td>-72.190000</td>\n",
       "      <td>42.530000</td>\n",
       "      <td>North_America</td>\n",
       "      <td>42.0</td>\n",
       "      <td>34.772</td>\n",
       "      <td>1.398</td>\n",
       "      <td>1269.108</td>\n",
       "      <td>...</td>\n",
       "      <td>0</td>\n",
       "      <td>5.407</td>\n",
       "      <td>0.658017</td>\n",
       "      <td>Cold forests</td>\n",
       "      <td>0.288032</td>\n",
       "      <td>-0.765861</td>\n",
       "      <td>-0.721772</td>\n",
       "      <td>-0.671151</td>\n",
       "      <td>-0.730370</td>\n",
       "      <td>Dfb</td>\n",
       "    </tr>\n",
       "    <tr>\n",
       "      <th>3</th>\n",
       "      <td>4</td>\n",
       "      <td>4</td>\n",
       "      <td>4</td>\n",
       "      <td>-96.570000</td>\n",
       "      <td>39.090000</td>\n",
       "      <td>North_America</td>\n",
       "      <td>35.8</td>\n",
       "      <td>5.931</td>\n",
       "      <td>0.585</td>\n",
       "      <td>763.273</td>\n",
       "      <td>...</td>\n",
       "      <td>0</td>\n",
       "      <td>6.410</td>\n",
       "      <td>0.475787</td>\n",
       "      <td>Temperate forests</td>\n",
       "      <td>-0.387621</td>\n",
       "      <td>-0.586796</td>\n",
       "      <td>0.216583</td>\n",
       "      <td>-0.492100</td>\n",
       "      <td>-0.686480</td>\n",
       "      <td>Cfa</td>\n",
       "    </tr>\n",
       "    <tr>\n",
       "      <th>4</th>\n",
       "      <td>5</td>\n",
       "      <td>5</td>\n",
       "      <td>5</td>\n",
       "      <td>-122.260000</td>\n",
       "      <td>44.210000</td>\n",
       "      <td>North_America</td>\n",
       "      <td>28.2</td>\n",
       "      <td>9.713</td>\n",
       "      <td>0.895</td>\n",
       "      <td>1702.348</td>\n",
       "      <td>...</td>\n",
       "      <td>0</td>\n",
       "      <td>6.029</td>\n",
       "      <td>0.779492</td>\n",
       "      <td>Grasslands</td>\n",
       "      <td>0.553378</td>\n",
       "      <td>-0.703947</td>\n",
       "      <td>-0.646651</td>\n",
       "      <td>-0.164321</td>\n",
       "      <td>-0.375900</td>\n",
       "      <td>Csb</td>\n",
       "    </tr>\n",
       "  </tbody>\n",
       "</table>\n",
       "<p>5 rows × 29 columns</p>\n",
       "</div>"
      ],
      "text/plain": [
       "   Unnamed: 0  ID_sequencing  ID_Environmental   Longitude   Latitude  \\\n",
       "0           1              1                 1  -54.683333 -26.733333   \n",
       "1           2              2                 2 -148.250000  64.800000   \n",
       "2           3              3                 3  -72.190000  42.530000   \n",
       "3           4              4                 4  -96.570000  39.090000   \n",
       "4           5              5                 5 -122.260000  44.210000   \n",
       "\n",
       "       Continent  Clay_silt  Soil_C  Soil_N    Soil_P  ...  Shrubland  \\\n",
       "0  South_america       82.0   1.771   0.248   559.298  ...          0   \n",
       "1  North_America       80.0   3.217   0.156   911.506  ...          0   \n",
       "2  North_America       42.0  34.772   1.398  1269.108  ...          0   \n",
       "3  North_America       35.8   5.931   0.585   763.273  ...          0   \n",
       "4  North_America       28.2   9.713   0.895  1702.348  ...          0   \n",
       "\n",
       "   UV_Light  NPP2003_2015     Ecosystem_type  Low_pH_cluster  \\\n",
       "0    10.525      0.819973  Temperate forests       -0.203029   \n",
       "1     2.322      0.380480             Boreal        0.279473   \n",
       "2     5.407      0.658017       Cold forests        0.288032   \n",
       "3     6.410      0.475787  Temperate forests       -0.387621   \n",
       "4     6.029      0.779492         Grasslands        0.553378   \n",
       "\n",
       "   Drylands_cluster  High_pH_cluster  Dry_forest_cluster  \\\n",
       "0         -0.692027        -0.457046           -0.519431   \n",
       "1         -0.740384        -0.730829           -0.323655   \n",
       "2         -0.765861        -0.721772           -0.671151   \n",
       "3         -0.586796         0.216583           -0.492100   \n",
       "4         -0.703947        -0.646651           -0.164321   \n",
       "\n",
       "   Low_productivity_cluster   CZ  \n",
       "0                 -0.698867  Cfa  \n",
       "1                 -0.730370  Dfc  \n",
       "2                 -0.730370  Dfb  \n",
       "3                 -0.686480  Cfa  \n",
       "4                 -0.375900  Csb  \n",
       "\n",
       "[5 rows x 29 columns]"
      ]
     },
     "execution_count": 8,
     "metadata": {},
     "output_type": "execute_result"
    }
   ],
   "source": [
    "#2022_Hackaton/Data/GlobalAtlas-16S/Dataset_19_11_2022.csv\n",
    "#df = pd.read_excel('/home/csilva/GIT/2022_Hackaton/Data/GlobalAtlas-16S/Dataset_01_22_2018.xlsx')\n",
    "df = pd.read_csv('/home/shaday/GIT/ccm-bioinfomatica-lab/221119Hackaton/geo-mix/data/Dataset_01_22_2018.csv')\n",
    "df.head()"
   ]
  },
  {
   "cell_type": "code",
   "execution_count": 9,
   "id": "19330a94-3cc7-4faf-bd57-ff4bfc219a9d",
   "metadata": {},
   "outputs": [
    {
     "name": "stderr",
     "output_type": "stream",
     "text": [
      "/miniconda3/lib/python3.10/site-packages/sklearn/cluster/_kmeans.py:870: FutureWarning:\n",
      "\n",
      "The default value of `n_init` will change from 10 to 'auto' in 1.4. Set the value of `n_init` explicitly to suppress the warning\n",
      "\n"
     ]
    },
    {
     "data": {
      "application/vnd.plotly.v1+json": {
       "config": {
        "plotlyServerURL": "https://plot.ly"
       },
       "data": [
        {
         "hovertemplate": "Longitude=%{x}<br>Latitude=%{y}<br>color=%{marker.color}<extra></extra>",
         "legendgroup": "",
         "marker": {
          "color": [
           3,
           2,
           2,
           2,
           2,
           2,
           2,
           2,
           2,
           2,
           2,
           2,
           2,
           2,
           2,
           2,
           2,
           2,
           2,
           2,
           2,
           2,
           2,
           2,
           1,
           0,
           0,
           1,
           1,
           2,
           2,
           1,
           2,
           2,
           2,
           2,
           2,
           2,
           2,
           2,
           2,
           2,
           2,
           2,
           2,
           2,
           2,
           2,
           2,
           2,
           2,
           2,
           3,
           2,
           2,
           2,
           2,
           2,
           2,
           2,
           2,
           2,
           2,
           2,
           2,
           2,
           2,
           2,
           0,
           0,
           0,
           0,
           0,
           0,
           0,
           0,
           0,
           0,
           0,
           0,
           0,
           0,
           0,
           0,
           0,
           0,
           0,
           0,
           0,
           0,
           0,
           0,
           0,
           0,
           0,
           0,
           0,
           0,
           0,
           0,
           0,
           0,
           0,
           0,
           0,
           0,
           0,
           0,
           0,
           0,
           0,
           0,
           0,
           0,
           0,
           0,
           0,
           0,
           0,
           0,
           0,
           0,
           1,
           1,
           1,
           1,
           1,
           1,
           1,
           1,
           1,
           1,
           1,
           3,
           3,
           3,
           3,
           0,
           0,
           0,
           0,
           0,
           0,
           0,
           3,
           3,
           3,
           3,
           4,
           4,
           4,
           4,
           4,
           4,
           4,
           4,
           4,
           1,
           2,
           2,
           2,
           2,
           2,
           2,
           2,
           2,
           1,
           1,
           1,
           1,
           1,
           1,
           1,
           1,
           1,
           1,
           1,
           1,
           1,
           1,
           1,
           1,
           1,
           1,
           1,
           1,
           1,
           1,
           1,
           1,
           1,
           1,
           1,
           1,
           1,
           1,
           1,
           1,
           1,
           1,
           2,
           2,
           2,
           2,
           2,
           2,
           2,
           2,
           2,
           2,
           2,
           0,
           0,
           0,
           0,
           0,
           0,
           0,
           0,
           0,
           0,
           0,
           0,
           0,
           0,
           0,
           0,
           0,
           0,
           0,
           0,
           0,
           0,
           3,
           3,
           3,
           3
          ],
          "coloraxis": "coloraxis",
          "symbol": "circle"
         },
         "mode": "markers",
         "name": "",
         "orientation": "v",
         "showlegend": false,
         "type": "scatter",
         "x": [
          -54.68333333,
          -148.25,
          -72.19,
          -96.57,
          -122.26,
          -155.26,
          -105.37,
          -83.5,
          -155.26,
          -72.19,
          -83.5,
          -71.75,
          -71.75,
          -85.4,
          -147.84,
          -85.4,
          -105.37,
          -65.8,
          -96.57,
          -93.2,
          -93.2,
          -147.84,
          -65.8,
          -79.08333333,
          30.71573,
          151.139517,
          117.610853,
          30.29174,
          30.4,
          -86.70167,
          -101.63,
          10.372252,
          -96.582821,
          -123.38,
          -120.24,
          -121.9680169,
          -93.38538333,
          -96.88,
          -95.54,
          -96.52,
          -96.81,
          -97.11,
          -95.58,
          -93.66,
          -96.97,
          -96.78,
          -96.71,
          -96.43,
          -96.6,
          -79.7442,
          -79.7427,
          -79.771875,
          -71.23333333,
          -79.8553,
          -111.00378,
          -111.00378,
          -111.00378,
          -111.00378,
          -111.00378,
          -111.00378,
          -111.00378,
          -111.00378,
          -111.00378,
          -111.00378,
          -106.7333333,
          -96.57,
          -149.5833333,
          -79.7453,
          146.212,
          146.197,
          145.759,
          144.525,
          145.786,
          146.347,
          144.816,
          144.833,
          146.187,
          144.878,
          144.827,
          144.819,
          145.582,
          145.596,
          146.38558,
          145.758459,
          145.55909,
          145.747545,
          145.25161,
          145.261715,
          145.591506,
          145.613197,
          145.765813,
          145.774749,
          145.698279,
          145.631861,
          145.637641,
          146.481861,
          146.490617,
          145.992029,
          145.90637,
          146.465998,
          145.5878,
          145.88378,
          145.67999,
          145.2644,
          145.97622,
          145.96507,
          145.829136,
          145.788243,
          145.779652,
          145.891286,
          145.87919,
          145.74798,
          145.685582,
          145.6486,
          145.601954,
          144.614926,
          144.580937,
          144.574145,
          144.647202,
          145.70554,
          144.5354,
          144.52706,
          -2.285400608,
          -2.067171822,
          -2.0793194,
          -2.0077184,
          -2.0332443,
          -2.9004561,
          -2.3406767,
          -3.875976,
          -4.427518,
          0.81922022,
          -2.0036085,
          -69.676417,
          -71.059489,
          -70.080944,
          -70.524528,
          142.556909,
          142.481679,
          142.508839,
          142.460103,
          142.686154,
          146.309722,
          147.707778,
          -71.244902,
          -71.250724,
          -71.663635,
          -71.585444,
          119.177417,
          118.403778,
          117.272139,
          116.994528,
          116.786556,
          116.015833,
          58.6695,
          56.560944,
          58.109556,
          34.820866,
          -99.655561,
          -100.943528,
          -100.420636,
          -99.894557,
          -101.055406,
          -101.273809,
          -101.248559,
          -102.455579,
          -2.422588,
          -2.372904,
          -2.192604,
          -3.373502,
          -3.638859,
          -1.999301,
          -3.558751,
          -2.728708,
          -3.464915,
          -2.2306,
          -2.900725,
          -3.419164,
          -3.618947,
          -1.673747,
          -2.514767,
          -1.199478,
          -2.877436,
          -1.717695,
          -1.836988,
          -1.784601,
          -0.963246,
          -3.388677,
          -1.232379,
          -1.802287,
          -1.527039,
          -2.345141,
          -2.879354,
          -2.039614,
          9.647121,
          8.673783,
          9.97436,
          9.116646,
          9.717897,
          10.498595,
          -112.552224,
          -109.710268,
          -109.910049,
          -111.696845,
          -112.02167,
          -109.413583,
          -110.516686,
          -111.856829,
          -115.79572,
          -115.811803,
          -69.946911,
          147.388211,
          146.208538,
          146.308989,
          146.576361111111,
          146.919987,
          147.422757,
          149.88757,
          150.862162,
          150.771211,
          148.919106,
          148.947758,
          148.609224,
          148.172742,
          148.203347,
          148.164342,
          150.238876,
          145.726367,
          146.071294,
          150.99395,
          151.057451,
          142.0837778,
          142.20495,
          -67.6355555555555,
          -67.6352777777777,
          -67.6325,
          -67.6327777777777
         ],
         "xaxis": "x",
         "y": [
          -26.73333333,
          64.8,
          42.53,
          39.09,
          44.21,
          19.81,
          39.99,
          35,
          19.81,
          42.53,
          35,
          43.94,
          43.94,
          42.4,
          64.85,
          42.4,
          39.99,
          18.3,
          39.09,
          45.4,
          45.4,
          64.85,
          18.3,
          35.96666667,
          -29.81161,
          -27.734896,
          -31.782138,
          -29.28424,
          -29.67,
          36.871944,
          41.2,
          46.631345,
          39.070856,
          48.46,
          39.43,
          44.27668543,
          41.78506667,
          31.48,
          40.15,
          40.16,
          40.87,
          41.61,
          42.88,
          43.51,
          43.55,
          44.04,
          44.26,
          47.05,
          39.1,
          9.1565,
          9.16093,
          9.15761,
          -12.63333333,
          9.15125,
          45.573646,
          45.573646,
          45.573646,
          45.573646,
          45.573646,
          45.573646,
          45.573646,
          45.573646,
          45.573646,
          45.573646,
          34.33333333,
          44.8,
          68.63333333,
          9.16176,
          -34.7118,
          -34.7133,
          -33.3576,
          -35.3443,
          -34.5205,
          -34.6507,
          -35.4101,
          -35.4128,
          -34.5303,
          -35.504,
          -35.494,
          -35.4895,
          -33.4569,
          -33.4563,
          -34.5578,
          -33.35119,
          -33.47484,
          -33.346019,
          -31.8654,
          -31.844558,
          -32.633899,
          -32.640211,
          -33.99013,
          -33.984529,
          -33.993636,
          -33.797051,
          -33.794211,
          -34.798363,
          -34.825074,
          -34.76219,
          -34.747744,
          -34.811983,
          -33.8422,
          -34.7974,
          -32.62636,
          -31.875593,
          -34.554395,
          -34.557097,
          -34.556716,
          -34.56556,
          -34.538107,
          -35.934712,
          -35.950539,
          -35.953218,
          -35.9228,
          -35.884732,
          -35.864302,
          -35.358242,
          -35.351175,
          -35.329233,
          -35.350591,
          -34.5239,
          -35.3858,
          -35.3523,
          52.04949371,
          52.17127185,
          52.243108,
          52.249886,
          52.281878,
          51.065861,
          54.168173,
          50.808636,
          50.835199,
          52.440139,
          51.814047,
          -41.807778,
          -41.004278,
          -41.253333,
          -41.0335,
          -34.204296,
          -34.24777,
          -34.018527,
          -33.960183,
          -33.931135,
          -31.556111,
          -31.8575,
          -29.311377,
          -29.749902,
          -30.662263,
          -31.199813,
          49.262694,
          49.494333,
          49.525333,
          49.031528,
          48.609778,
          48.223083,
          36.696167,
          37.371111,
          37.429083,
          31.35779,
          22.246529,
          23.601688,
          22.644511,
          22.64831,
          23.254883,
          23.204697,
          23.737999,
          22.352438,
          33.052487,
          34.159182,
          34.430867,
          33.976574,
          34.473045,
          34.309672,
          33.932621,
          33.06768,
          34.625548,
          39.048208,
          40.068228,
          40.208781,
          39.992036,
          37.821156,
          39.207539,
          38.588606,
          40.354792,
          38.791855,
          37.721332,
          37.726728,
          38.308579,
          40.36936,
          37.593066,
          39.538668,
          38.065532,
          39.127509,
          40.018028,
          37.6339,
          34.494253,
          35.167767,
          33.52157,
          35.160036,
          34.956452,
          32.98347,
          37.113448,
          38.173514,
          37.581928,
          37.086092,
          37.507278,
          37.730413,
          38.003108,
          36.685466,
          33.754262,
          33.750666,
          9.666497,
          -33.844892,
          -34.357823,
          -34.415466,
          -34.2837222222222,
          -34.346187,
          -34.435437,
          -34.743692,
          -33.654888,
          -33.621635,
          -34.362568,
          -33.981005,
          -33.833655,
          -33.505705,
          -33.729918,
          -33.324038,
          -34.506477,
          -34,
          -34.254023,
          -33.909637,
          -33.982,
          -34.127508,
          -34.158906,
          -54.9349999999999,
          -54.9541666666666,
          -54.9588888888888,
          -54.9718611111111
         ],
         "yaxis": "y"
        }
       ],
       "layout": {
        "coloraxis": {
         "colorbar": {
          "title": {
           "text": "color"
          }
         },
         "colorscale": [
          [
           0,
           "#0d0887"
          ],
          [
           0.1111111111111111,
           "#46039f"
          ],
          [
           0.2222222222222222,
           "#7201a8"
          ],
          [
           0.3333333333333333,
           "#9c179e"
          ],
          [
           0.4444444444444444,
           "#bd3786"
          ],
          [
           0.5555555555555556,
           "#d8576b"
          ],
          [
           0.6666666666666666,
           "#ed7953"
          ],
          [
           0.7777777777777778,
           "#fb9f3a"
          ],
          [
           0.8888888888888888,
           "#fdca26"
          ],
          [
           1,
           "#f0f921"
          ]
         ]
        },
        "legend": {
         "tracegroupgap": 0
        },
        "margin": {
         "t": 60
        },
        "template": {
         "data": {
          "bar": [
           {
            "error_x": {
             "color": "#2a3f5f"
            },
            "error_y": {
             "color": "#2a3f5f"
            },
            "marker": {
             "line": {
              "color": "#E5ECF6",
              "width": 0.5
             },
             "pattern": {
              "fillmode": "overlay",
              "size": 10,
              "solidity": 0.2
             }
            },
            "type": "bar"
           }
          ],
          "barpolar": [
           {
            "marker": {
             "line": {
              "color": "#E5ECF6",
              "width": 0.5
             },
             "pattern": {
              "fillmode": "overlay",
              "size": 10,
              "solidity": 0.2
             }
            },
            "type": "barpolar"
           }
          ],
          "carpet": [
           {
            "aaxis": {
             "endlinecolor": "#2a3f5f",
             "gridcolor": "white",
             "linecolor": "white",
             "minorgridcolor": "white",
             "startlinecolor": "#2a3f5f"
            },
            "baxis": {
             "endlinecolor": "#2a3f5f",
             "gridcolor": "white",
             "linecolor": "white",
             "minorgridcolor": "white",
             "startlinecolor": "#2a3f5f"
            },
            "type": "carpet"
           }
          ],
          "choropleth": [
           {
            "colorbar": {
             "outlinewidth": 0,
             "ticks": ""
            },
            "type": "choropleth"
           }
          ],
          "contour": [
           {
            "colorbar": {
             "outlinewidth": 0,
             "ticks": ""
            },
            "colorscale": [
             [
              0,
              "#0d0887"
             ],
             [
              0.1111111111111111,
              "#46039f"
             ],
             [
              0.2222222222222222,
              "#7201a8"
             ],
             [
              0.3333333333333333,
              "#9c179e"
             ],
             [
              0.4444444444444444,
              "#bd3786"
             ],
             [
              0.5555555555555556,
              "#d8576b"
             ],
             [
              0.6666666666666666,
              "#ed7953"
             ],
             [
              0.7777777777777778,
              "#fb9f3a"
             ],
             [
              0.8888888888888888,
              "#fdca26"
             ],
             [
              1,
              "#f0f921"
             ]
            ],
            "type": "contour"
           }
          ],
          "contourcarpet": [
           {
            "colorbar": {
             "outlinewidth": 0,
             "ticks": ""
            },
            "type": "contourcarpet"
           }
          ],
          "heatmap": [
           {
            "colorbar": {
             "outlinewidth": 0,
             "ticks": ""
            },
            "colorscale": [
             [
              0,
              "#0d0887"
             ],
             [
              0.1111111111111111,
              "#46039f"
             ],
             [
              0.2222222222222222,
              "#7201a8"
             ],
             [
              0.3333333333333333,
              "#9c179e"
             ],
             [
              0.4444444444444444,
              "#bd3786"
             ],
             [
              0.5555555555555556,
              "#d8576b"
             ],
             [
              0.6666666666666666,
              "#ed7953"
             ],
             [
              0.7777777777777778,
              "#fb9f3a"
             ],
             [
              0.8888888888888888,
              "#fdca26"
             ],
             [
              1,
              "#f0f921"
             ]
            ],
            "type": "heatmap"
           }
          ],
          "heatmapgl": [
           {
            "colorbar": {
             "outlinewidth": 0,
             "ticks": ""
            },
            "colorscale": [
             [
              0,
              "#0d0887"
             ],
             [
              0.1111111111111111,
              "#46039f"
             ],
             [
              0.2222222222222222,
              "#7201a8"
             ],
             [
              0.3333333333333333,
              "#9c179e"
             ],
             [
              0.4444444444444444,
              "#bd3786"
             ],
             [
              0.5555555555555556,
              "#d8576b"
             ],
             [
              0.6666666666666666,
              "#ed7953"
             ],
             [
              0.7777777777777778,
              "#fb9f3a"
             ],
             [
              0.8888888888888888,
              "#fdca26"
             ],
             [
              1,
              "#f0f921"
             ]
            ],
            "type": "heatmapgl"
           }
          ],
          "histogram": [
           {
            "marker": {
             "pattern": {
              "fillmode": "overlay",
              "size": 10,
              "solidity": 0.2
             }
            },
            "type": "histogram"
           }
          ],
          "histogram2d": [
           {
            "colorbar": {
             "outlinewidth": 0,
             "ticks": ""
            },
            "colorscale": [
             [
              0,
              "#0d0887"
             ],
             [
              0.1111111111111111,
              "#46039f"
             ],
             [
              0.2222222222222222,
              "#7201a8"
             ],
             [
              0.3333333333333333,
              "#9c179e"
             ],
             [
              0.4444444444444444,
              "#bd3786"
             ],
             [
              0.5555555555555556,
              "#d8576b"
             ],
             [
              0.6666666666666666,
              "#ed7953"
             ],
             [
              0.7777777777777778,
              "#fb9f3a"
             ],
             [
              0.8888888888888888,
              "#fdca26"
             ],
             [
              1,
              "#f0f921"
             ]
            ],
            "type": "histogram2d"
           }
          ],
          "histogram2dcontour": [
           {
            "colorbar": {
             "outlinewidth": 0,
             "ticks": ""
            },
            "colorscale": [
             [
              0,
              "#0d0887"
             ],
             [
              0.1111111111111111,
              "#46039f"
             ],
             [
              0.2222222222222222,
              "#7201a8"
             ],
             [
              0.3333333333333333,
              "#9c179e"
             ],
             [
              0.4444444444444444,
              "#bd3786"
             ],
             [
              0.5555555555555556,
              "#d8576b"
             ],
             [
              0.6666666666666666,
              "#ed7953"
             ],
             [
              0.7777777777777778,
              "#fb9f3a"
             ],
             [
              0.8888888888888888,
              "#fdca26"
             ],
             [
              1,
              "#f0f921"
             ]
            ],
            "type": "histogram2dcontour"
           }
          ],
          "mesh3d": [
           {
            "colorbar": {
             "outlinewidth": 0,
             "ticks": ""
            },
            "type": "mesh3d"
           }
          ],
          "parcoords": [
           {
            "line": {
             "colorbar": {
              "outlinewidth": 0,
              "ticks": ""
             }
            },
            "type": "parcoords"
           }
          ],
          "pie": [
           {
            "automargin": true,
            "type": "pie"
           }
          ],
          "scatter": [
           {
            "fillpattern": {
             "fillmode": "overlay",
             "size": 10,
             "solidity": 0.2
            },
            "type": "scatter"
           }
          ],
          "scatter3d": [
           {
            "line": {
             "colorbar": {
              "outlinewidth": 0,
              "ticks": ""
             }
            },
            "marker": {
             "colorbar": {
              "outlinewidth": 0,
              "ticks": ""
             }
            },
            "type": "scatter3d"
           }
          ],
          "scattercarpet": [
           {
            "marker": {
             "colorbar": {
              "outlinewidth": 0,
              "ticks": ""
             }
            },
            "type": "scattercarpet"
           }
          ],
          "scattergeo": [
           {
            "marker": {
             "colorbar": {
              "outlinewidth": 0,
              "ticks": ""
             }
            },
            "type": "scattergeo"
           }
          ],
          "scattergl": [
           {
            "marker": {
             "colorbar": {
              "outlinewidth": 0,
              "ticks": ""
             }
            },
            "type": "scattergl"
           }
          ],
          "scattermapbox": [
           {
            "marker": {
             "colorbar": {
              "outlinewidth": 0,
              "ticks": ""
             }
            },
            "type": "scattermapbox"
           }
          ],
          "scatterpolar": [
           {
            "marker": {
             "colorbar": {
              "outlinewidth": 0,
              "ticks": ""
             }
            },
            "type": "scatterpolar"
           }
          ],
          "scatterpolargl": [
           {
            "marker": {
             "colorbar": {
              "outlinewidth": 0,
              "ticks": ""
             }
            },
            "type": "scatterpolargl"
           }
          ],
          "scatterternary": [
           {
            "marker": {
             "colorbar": {
              "outlinewidth": 0,
              "ticks": ""
             }
            },
            "type": "scatterternary"
           }
          ],
          "surface": [
           {
            "colorbar": {
             "outlinewidth": 0,
             "ticks": ""
            },
            "colorscale": [
             [
              0,
              "#0d0887"
             ],
             [
              0.1111111111111111,
              "#46039f"
             ],
             [
              0.2222222222222222,
              "#7201a8"
             ],
             [
              0.3333333333333333,
              "#9c179e"
             ],
             [
              0.4444444444444444,
              "#bd3786"
             ],
             [
              0.5555555555555556,
              "#d8576b"
             ],
             [
              0.6666666666666666,
              "#ed7953"
             ],
             [
              0.7777777777777778,
              "#fb9f3a"
             ],
             [
              0.8888888888888888,
              "#fdca26"
             ],
             [
              1,
              "#f0f921"
             ]
            ],
            "type": "surface"
           }
          ],
          "table": [
           {
            "cells": {
             "fill": {
              "color": "#EBF0F8"
             },
             "line": {
              "color": "white"
             }
            },
            "header": {
             "fill": {
              "color": "#C8D4E3"
             },
             "line": {
              "color": "white"
             }
            },
            "type": "table"
           }
          ]
         },
         "layout": {
          "annotationdefaults": {
           "arrowcolor": "#2a3f5f",
           "arrowhead": 0,
           "arrowwidth": 1
          },
          "autotypenumbers": "strict",
          "coloraxis": {
           "colorbar": {
            "outlinewidth": 0,
            "ticks": ""
           }
          },
          "colorscale": {
           "diverging": [
            [
             0,
             "#8e0152"
            ],
            [
             0.1,
             "#c51b7d"
            ],
            [
             0.2,
             "#de77ae"
            ],
            [
             0.3,
             "#f1b6da"
            ],
            [
             0.4,
             "#fde0ef"
            ],
            [
             0.5,
             "#f7f7f7"
            ],
            [
             0.6,
             "#e6f5d0"
            ],
            [
             0.7,
             "#b8e186"
            ],
            [
             0.8,
             "#7fbc41"
            ],
            [
             0.9,
             "#4d9221"
            ],
            [
             1,
             "#276419"
            ]
           ],
           "sequential": [
            [
             0,
             "#0d0887"
            ],
            [
             0.1111111111111111,
             "#46039f"
            ],
            [
             0.2222222222222222,
             "#7201a8"
            ],
            [
             0.3333333333333333,
             "#9c179e"
            ],
            [
             0.4444444444444444,
             "#bd3786"
            ],
            [
             0.5555555555555556,
             "#d8576b"
            ],
            [
             0.6666666666666666,
             "#ed7953"
            ],
            [
             0.7777777777777778,
             "#fb9f3a"
            ],
            [
             0.8888888888888888,
             "#fdca26"
            ],
            [
             1,
             "#f0f921"
            ]
           ],
           "sequentialminus": [
            [
             0,
             "#0d0887"
            ],
            [
             0.1111111111111111,
             "#46039f"
            ],
            [
             0.2222222222222222,
             "#7201a8"
            ],
            [
             0.3333333333333333,
             "#9c179e"
            ],
            [
             0.4444444444444444,
             "#bd3786"
            ],
            [
             0.5555555555555556,
             "#d8576b"
            ],
            [
             0.6666666666666666,
             "#ed7953"
            ],
            [
             0.7777777777777778,
             "#fb9f3a"
            ],
            [
             0.8888888888888888,
             "#fdca26"
            ],
            [
             1,
             "#f0f921"
            ]
           ]
          },
          "colorway": [
           "#636efa",
           "#EF553B",
           "#00cc96",
           "#ab63fa",
           "#FFA15A",
           "#19d3f3",
           "#FF6692",
           "#B6E880",
           "#FF97FF",
           "#FECB52"
          ],
          "font": {
           "color": "#2a3f5f"
          },
          "geo": {
           "bgcolor": "white",
           "lakecolor": "white",
           "landcolor": "#E5ECF6",
           "showlakes": true,
           "showland": true,
           "subunitcolor": "white"
          },
          "hoverlabel": {
           "align": "left"
          },
          "hovermode": "closest",
          "mapbox": {
           "style": "light"
          },
          "paper_bgcolor": "white",
          "plot_bgcolor": "#E5ECF6",
          "polar": {
           "angularaxis": {
            "gridcolor": "white",
            "linecolor": "white",
            "ticks": ""
           },
           "bgcolor": "#E5ECF6",
           "radialaxis": {
            "gridcolor": "white",
            "linecolor": "white",
            "ticks": ""
           }
          },
          "scene": {
           "xaxis": {
            "backgroundcolor": "#E5ECF6",
            "gridcolor": "white",
            "gridwidth": 2,
            "linecolor": "white",
            "showbackground": true,
            "ticks": "",
            "zerolinecolor": "white"
           },
           "yaxis": {
            "backgroundcolor": "#E5ECF6",
            "gridcolor": "white",
            "gridwidth": 2,
            "linecolor": "white",
            "showbackground": true,
            "ticks": "",
            "zerolinecolor": "white"
           },
           "zaxis": {
            "backgroundcolor": "#E5ECF6",
            "gridcolor": "white",
            "gridwidth": 2,
            "linecolor": "white",
            "showbackground": true,
            "ticks": "",
            "zerolinecolor": "white"
           }
          },
          "shapedefaults": {
           "line": {
            "color": "#2a3f5f"
           }
          },
          "ternary": {
           "aaxis": {
            "gridcolor": "white",
            "linecolor": "white",
            "ticks": ""
           },
           "baxis": {
            "gridcolor": "white",
            "linecolor": "white",
            "ticks": ""
           },
           "bgcolor": "#E5ECF6",
           "caxis": {
            "gridcolor": "white",
            "linecolor": "white",
            "ticks": ""
           }
          },
          "title": {
           "x": 0.05
          },
          "xaxis": {
           "automargin": true,
           "gridcolor": "white",
           "linecolor": "white",
           "ticks": "",
           "title": {
            "standoff": 15
           },
           "zerolinecolor": "white",
           "zerolinewidth": 2
          },
          "yaxis": {
           "automargin": true,
           "gridcolor": "white",
           "linecolor": "white",
           "ticks": "",
           "title": {
            "standoff": 15
           },
           "zerolinecolor": "white",
           "zerolinewidth": 2
          }
         }
        },
        "xaxis": {
         "anchor": "y",
         "domain": [
          0,
          1
         ],
         "title": {
          "text": "Longitude"
         }
        },
        "yaxis": {
         "anchor": "x",
         "domain": [
          0,
          1
         ],
         "title": {
          "text": "Latitude"
         }
        }
       }
      },
      "text/html": [
       "<div>                            <div id=\"9553a5e4-dfea-49db-8512-8faf7e734b73\" class=\"plotly-graph-div\" style=\"height:525px; width:100%;\"></div>            <script type=\"text/javascript\">                require([\"plotly\"], function(Plotly) {                    window.PLOTLYENV=window.PLOTLYENV || {};                                    if (document.getElementById(\"9553a5e4-dfea-49db-8512-8faf7e734b73\")) {                    Plotly.newPlot(                        \"9553a5e4-dfea-49db-8512-8faf7e734b73\",                        [{\"hovertemplate\":\"Longitude=%{x}<br>Latitude=%{y}<br>color=%{marker.color}<extra></extra>\",\"legendgroup\":\"\",\"marker\":{\"color\":[3,2,2,2,2,2,2,2,2,2,2,2,2,2,2,2,2,2,2,2,2,2,2,2,1,0,0,1,1,2,2,1,2,2,2,2,2,2,2,2,2,2,2,2,2,2,2,2,2,2,2,2,3,2,2,2,2,2,2,2,2,2,2,2,2,2,2,2,0,0,0,0,0,0,0,0,0,0,0,0,0,0,0,0,0,0,0,0,0,0,0,0,0,0,0,0,0,0,0,0,0,0,0,0,0,0,0,0,0,0,0,0,0,0,0,0,0,0,0,0,0,0,1,1,1,1,1,1,1,1,1,1,1,3,3,3,3,0,0,0,0,0,0,0,3,3,3,3,4,4,4,4,4,4,4,4,4,1,2,2,2,2,2,2,2,2,1,1,1,1,1,1,1,1,1,1,1,1,1,1,1,1,1,1,1,1,1,1,1,1,1,1,1,1,1,1,1,1,1,1,2,2,2,2,2,2,2,2,2,2,2,0,0,0,0,0,0,0,0,0,0,0,0,0,0,0,0,0,0,0,0,0,0,3,3,3,3],\"coloraxis\":\"coloraxis\",\"symbol\":\"circle\"},\"mode\":\"markers\",\"name\":\"\",\"orientation\":\"v\",\"showlegend\":false,\"x\":[-54.68333333,-148.25,-72.19,-96.57,-122.26,-155.26,-105.37,-83.5,-155.26,-72.19,-83.5,-71.75,-71.75,-85.4,-147.84,-85.4,-105.37,-65.8,-96.57,-93.2,-93.2,-147.84,-65.8,-79.08333333,30.71573,151.139517,117.610853,30.29174,30.4,-86.70167,-101.63,10.372252,-96.582821,-123.38,-120.24,-121.9680169,-93.38538333,-96.88,-95.54,-96.52,-96.81,-97.11,-95.58,-93.66,-96.97,-96.78,-96.71,-96.43,-96.6,-79.7442,-79.7427,-79.771875,-71.23333333,-79.8553,-111.00378,-111.00378,-111.00378,-111.00378,-111.00378,-111.00378,-111.00378,-111.00378,-111.00378,-111.00378,-106.7333333,-96.57,-149.5833333,-79.7453,146.212,146.197,145.759,144.525,145.786,146.347,144.816,144.833,146.187,144.878,144.827,144.819,145.582,145.596,146.38558,145.758459,145.55909,145.747545,145.25161,145.261715,145.591506,145.613197,145.765813,145.774749,145.698279,145.631861,145.637641,146.481861,146.490617,145.992029,145.90637,146.465998,145.5878,145.88378,145.67999,145.2644,145.97622,145.96507,145.829136,145.788243,145.779652,145.891286,145.87919,145.74798,145.685582,145.6486,145.601954,144.614926,144.580937,144.574145,144.647202,145.70554,144.5354,144.52706,-2.285400608,-2.067171822,-2.0793194,-2.0077184,-2.0332443,-2.9004561,-2.3406767,-3.875976,-4.427518,0.81922022,-2.0036085,-69.676417,-71.059489,-70.080944,-70.524528,142.556909,142.481679,142.508839,142.460103,142.686154,146.309722,147.707778,-71.244902,-71.250724,-71.663635,-71.585444,119.177417,118.403778,117.272139,116.994528,116.786556,116.015833,58.6695,56.560944,58.109556,34.820866,-99.655561,-100.943528,-100.420636,-99.894557,-101.055406,-101.273809,-101.248559,-102.455579,-2.422588,-2.372904,-2.192604,-3.373502,-3.638859,-1.999301,-3.558751,-2.728708,-3.464915,-2.2306,-2.900725,-3.419164,-3.618947,-1.673747,-2.514767,-1.199478,-2.877436,-1.717695,-1.836988,-1.784601,-0.963246,-3.388677,-1.232379,-1.802287,-1.527039,-2.345141,-2.879354,-2.039614,9.647121,8.673783,9.97436,9.116646,9.717897,10.498595,-112.552224,-109.710268,-109.910049,-111.696845,-112.02167,-109.413583,-110.516686,-111.856829,-115.79572,-115.811803,-69.946911,147.388211,146.208538,146.308989,146.576361111111,146.919987,147.422757,149.88757,150.862162,150.771211,148.919106,148.947758,148.609224,148.172742,148.203347,148.164342,150.238876,145.726367,146.071294,150.99395,151.057451,142.0837778,142.20495,-67.6355555555555,-67.6352777777777,-67.6325,-67.6327777777777],\"xaxis\":\"x\",\"y\":[-26.73333333,64.8,42.53,39.09,44.21,19.81,39.99,35.0,19.81,42.53,35.0,43.94,43.94,42.4,64.85,42.4,39.99,18.3,39.09,45.4,45.4,64.85,18.3,35.96666667,-29.81161,-27.734896,-31.782138,-29.28424,-29.67,36.871944,41.2,46.631345,39.070856,48.46,39.43,44.27668543,41.78506667,31.48,40.15,40.16,40.87,41.61,42.88,43.51,43.55,44.04,44.26,47.05,39.1,9.1565,9.16093,9.15761,-12.63333333,9.15125,45.573646,45.573646,45.573646,45.573646,45.573646,45.573646,45.573646,45.573646,45.573646,45.573646,34.33333333,44.8,68.63333333,9.16176,-34.7118,-34.7133,-33.3576,-35.3443,-34.5205,-34.6507,-35.4101,-35.4128,-34.5303,-35.504,-35.494,-35.4895,-33.4569,-33.4563,-34.5578,-33.35119,-33.47484,-33.346019,-31.8654,-31.844558,-32.633899,-32.640211,-33.99013,-33.984529,-33.993636,-33.797051,-33.794211,-34.798363,-34.825074,-34.76219,-34.747744,-34.811983,-33.8422,-34.7974,-32.62636,-31.875593,-34.554395,-34.557097,-34.556716,-34.56556,-34.538107,-35.934712,-35.950539,-35.953218,-35.9228,-35.884732,-35.864302,-35.358242,-35.351175,-35.329233,-35.350591,-34.5239,-35.3858,-35.3523,52.04949371,52.17127185,52.243108,52.249886,52.281878,51.065861,54.168173,50.808636,50.835199,52.440139,51.814047,-41.807778,-41.004278,-41.253333,-41.0335,-34.204296,-34.24777,-34.018527,-33.960183,-33.931135,-31.556111,-31.8575,-29.311377,-29.749902,-30.662263,-31.199813,49.262694,49.494333,49.525333,49.031528,48.609778,48.223083,36.696167,37.371111,37.429083,31.35779,22.246529,23.601688,22.644511,22.64831,23.254883,23.204697,23.737999,22.352438,33.052487,34.159182,34.430867,33.976574,34.473045,34.309672,33.932621,33.06768,34.625548,39.048208,40.068228,40.208781,39.992036,37.821156,39.207539,38.588606,40.354792,38.791855,37.721332,37.726728,38.308579,40.36936,37.593066,39.538668,38.065532,39.127509,40.018028,37.6339,34.494253,35.167767,33.52157,35.160036,34.956452,32.98347,37.113448,38.173514,37.581928,37.086092,37.507278,37.730413,38.003108,36.685466,33.754262,33.750666,9.666497,-33.844892,-34.357823,-34.415466,-34.2837222222222,-34.346187,-34.435437,-34.743692,-33.654888,-33.621635,-34.362568,-33.981005,-33.833655,-33.505705,-33.729918,-33.324038,-34.506477,-34.0,-34.254023,-33.909637,-33.982,-34.127508,-34.158906,-54.9349999999999,-54.9541666666666,-54.9588888888888,-54.9718611111111],\"yaxis\":\"y\",\"type\":\"scatter\"}],                        {\"template\":{\"data\":{\"histogram2dcontour\":[{\"type\":\"histogram2dcontour\",\"colorbar\":{\"outlinewidth\":0,\"ticks\":\"\"},\"colorscale\":[[0.0,\"#0d0887\"],[0.1111111111111111,\"#46039f\"],[0.2222222222222222,\"#7201a8\"],[0.3333333333333333,\"#9c179e\"],[0.4444444444444444,\"#bd3786\"],[0.5555555555555556,\"#d8576b\"],[0.6666666666666666,\"#ed7953\"],[0.7777777777777778,\"#fb9f3a\"],[0.8888888888888888,\"#fdca26\"],[1.0,\"#f0f921\"]]}],\"choropleth\":[{\"type\":\"choropleth\",\"colorbar\":{\"outlinewidth\":0,\"ticks\":\"\"}}],\"histogram2d\":[{\"type\":\"histogram2d\",\"colorbar\":{\"outlinewidth\":0,\"ticks\":\"\"},\"colorscale\":[[0.0,\"#0d0887\"],[0.1111111111111111,\"#46039f\"],[0.2222222222222222,\"#7201a8\"],[0.3333333333333333,\"#9c179e\"],[0.4444444444444444,\"#bd3786\"],[0.5555555555555556,\"#d8576b\"],[0.6666666666666666,\"#ed7953\"],[0.7777777777777778,\"#fb9f3a\"],[0.8888888888888888,\"#fdca26\"],[1.0,\"#f0f921\"]]}],\"heatmap\":[{\"type\":\"heatmap\",\"colorbar\":{\"outlinewidth\":0,\"ticks\":\"\"},\"colorscale\":[[0.0,\"#0d0887\"],[0.1111111111111111,\"#46039f\"],[0.2222222222222222,\"#7201a8\"],[0.3333333333333333,\"#9c179e\"],[0.4444444444444444,\"#bd3786\"],[0.5555555555555556,\"#d8576b\"],[0.6666666666666666,\"#ed7953\"],[0.7777777777777778,\"#fb9f3a\"],[0.8888888888888888,\"#fdca26\"],[1.0,\"#f0f921\"]]}],\"heatmapgl\":[{\"type\":\"heatmapgl\",\"colorbar\":{\"outlinewidth\":0,\"ticks\":\"\"},\"colorscale\":[[0.0,\"#0d0887\"],[0.1111111111111111,\"#46039f\"],[0.2222222222222222,\"#7201a8\"],[0.3333333333333333,\"#9c179e\"],[0.4444444444444444,\"#bd3786\"],[0.5555555555555556,\"#d8576b\"],[0.6666666666666666,\"#ed7953\"],[0.7777777777777778,\"#fb9f3a\"],[0.8888888888888888,\"#fdca26\"],[1.0,\"#f0f921\"]]}],\"contourcarpet\":[{\"type\":\"contourcarpet\",\"colorbar\":{\"outlinewidth\":0,\"ticks\":\"\"}}],\"contour\":[{\"type\":\"contour\",\"colorbar\":{\"outlinewidth\":0,\"ticks\":\"\"},\"colorscale\":[[0.0,\"#0d0887\"],[0.1111111111111111,\"#46039f\"],[0.2222222222222222,\"#7201a8\"],[0.3333333333333333,\"#9c179e\"],[0.4444444444444444,\"#bd3786\"],[0.5555555555555556,\"#d8576b\"],[0.6666666666666666,\"#ed7953\"],[0.7777777777777778,\"#fb9f3a\"],[0.8888888888888888,\"#fdca26\"],[1.0,\"#f0f921\"]]}],\"surface\":[{\"type\":\"surface\",\"colorbar\":{\"outlinewidth\":0,\"ticks\":\"\"},\"colorscale\":[[0.0,\"#0d0887\"],[0.1111111111111111,\"#46039f\"],[0.2222222222222222,\"#7201a8\"],[0.3333333333333333,\"#9c179e\"],[0.4444444444444444,\"#bd3786\"],[0.5555555555555556,\"#d8576b\"],[0.6666666666666666,\"#ed7953\"],[0.7777777777777778,\"#fb9f3a\"],[0.8888888888888888,\"#fdca26\"],[1.0,\"#f0f921\"]]}],\"mesh3d\":[{\"type\":\"mesh3d\",\"colorbar\":{\"outlinewidth\":0,\"ticks\":\"\"}}],\"scatter\":[{\"fillpattern\":{\"fillmode\":\"overlay\",\"size\":10,\"solidity\":0.2},\"type\":\"scatter\"}],\"parcoords\":[{\"type\":\"parcoords\",\"line\":{\"colorbar\":{\"outlinewidth\":0,\"ticks\":\"\"}}}],\"scatterpolargl\":[{\"type\":\"scatterpolargl\",\"marker\":{\"colorbar\":{\"outlinewidth\":0,\"ticks\":\"\"}}}],\"bar\":[{\"error_x\":{\"color\":\"#2a3f5f\"},\"error_y\":{\"color\":\"#2a3f5f\"},\"marker\":{\"line\":{\"color\":\"#E5ECF6\",\"width\":0.5},\"pattern\":{\"fillmode\":\"overlay\",\"size\":10,\"solidity\":0.2}},\"type\":\"bar\"}],\"scattergeo\":[{\"type\":\"scattergeo\",\"marker\":{\"colorbar\":{\"outlinewidth\":0,\"ticks\":\"\"}}}],\"scatterpolar\":[{\"type\":\"scatterpolar\",\"marker\":{\"colorbar\":{\"outlinewidth\":0,\"ticks\":\"\"}}}],\"histogram\":[{\"marker\":{\"pattern\":{\"fillmode\":\"overlay\",\"size\":10,\"solidity\":0.2}},\"type\":\"histogram\"}],\"scattergl\":[{\"type\":\"scattergl\",\"marker\":{\"colorbar\":{\"outlinewidth\":0,\"ticks\":\"\"}}}],\"scatter3d\":[{\"type\":\"scatter3d\",\"line\":{\"colorbar\":{\"outlinewidth\":0,\"ticks\":\"\"}},\"marker\":{\"colorbar\":{\"outlinewidth\":0,\"ticks\":\"\"}}}],\"scattermapbox\":[{\"type\":\"scattermapbox\",\"marker\":{\"colorbar\":{\"outlinewidth\":0,\"ticks\":\"\"}}}],\"scatterternary\":[{\"type\":\"scatterternary\",\"marker\":{\"colorbar\":{\"outlinewidth\":0,\"ticks\":\"\"}}}],\"scattercarpet\":[{\"type\":\"scattercarpet\",\"marker\":{\"colorbar\":{\"outlinewidth\":0,\"ticks\":\"\"}}}],\"carpet\":[{\"aaxis\":{\"endlinecolor\":\"#2a3f5f\",\"gridcolor\":\"white\",\"linecolor\":\"white\",\"minorgridcolor\":\"white\",\"startlinecolor\":\"#2a3f5f\"},\"baxis\":{\"endlinecolor\":\"#2a3f5f\",\"gridcolor\":\"white\",\"linecolor\":\"white\",\"minorgridcolor\":\"white\",\"startlinecolor\":\"#2a3f5f\"},\"type\":\"carpet\"}],\"table\":[{\"cells\":{\"fill\":{\"color\":\"#EBF0F8\"},\"line\":{\"color\":\"white\"}},\"header\":{\"fill\":{\"color\":\"#C8D4E3\"},\"line\":{\"color\":\"white\"}},\"type\":\"table\"}],\"barpolar\":[{\"marker\":{\"line\":{\"color\":\"#E5ECF6\",\"width\":0.5},\"pattern\":{\"fillmode\":\"overlay\",\"size\":10,\"solidity\":0.2}},\"type\":\"barpolar\"}],\"pie\":[{\"automargin\":true,\"type\":\"pie\"}]},\"layout\":{\"autotypenumbers\":\"strict\",\"colorway\":[\"#636efa\",\"#EF553B\",\"#00cc96\",\"#ab63fa\",\"#FFA15A\",\"#19d3f3\",\"#FF6692\",\"#B6E880\",\"#FF97FF\",\"#FECB52\"],\"font\":{\"color\":\"#2a3f5f\"},\"hovermode\":\"closest\",\"hoverlabel\":{\"align\":\"left\"},\"paper_bgcolor\":\"white\",\"plot_bgcolor\":\"#E5ECF6\",\"polar\":{\"bgcolor\":\"#E5ECF6\",\"angularaxis\":{\"gridcolor\":\"white\",\"linecolor\":\"white\",\"ticks\":\"\"},\"radialaxis\":{\"gridcolor\":\"white\",\"linecolor\":\"white\",\"ticks\":\"\"}},\"ternary\":{\"bgcolor\":\"#E5ECF6\",\"aaxis\":{\"gridcolor\":\"white\",\"linecolor\":\"white\",\"ticks\":\"\"},\"baxis\":{\"gridcolor\":\"white\",\"linecolor\":\"white\",\"ticks\":\"\"},\"caxis\":{\"gridcolor\":\"white\",\"linecolor\":\"white\",\"ticks\":\"\"}},\"coloraxis\":{\"colorbar\":{\"outlinewidth\":0,\"ticks\":\"\"}},\"colorscale\":{\"sequential\":[[0.0,\"#0d0887\"],[0.1111111111111111,\"#46039f\"],[0.2222222222222222,\"#7201a8\"],[0.3333333333333333,\"#9c179e\"],[0.4444444444444444,\"#bd3786\"],[0.5555555555555556,\"#d8576b\"],[0.6666666666666666,\"#ed7953\"],[0.7777777777777778,\"#fb9f3a\"],[0.8888888888888888,\"#fdca26\"],[1.0,\"#f0f921\"]],\"sequentialminus\":[[0.0,\"#0d0887\"],[0.1111111111111111,\"#46039f\"],[0.2222222222222222,\"#7201a8\"],[0.3333333333333333,\"#9c179e\"],[0.4444444444444444,\"#bd3786\"],[0.5555555555555556,\"#d8576b\"],[0.6666666666666666,\"#ed7953\"],[0.7777777777777778,\"#fb9f3a\"],[0.8888888888888888,\"#fdca26\"],[1.0,\"#f0f921\"]],\"diverging\":[[0,\"#8e0152\"],[0.1,\"#c51b7d\"],[0.2,\"#de77ae\"],[0.3,\"#f1b6da\"],[0.4,\"#fde0ef\"],[0.5,\"#f7f7f7\"],[0.6,\"#e6f5d0\"],[0.7,\"#b8e186\"],[0.8,\"#7fbc41\"],[0.9,\"#4d9221\"],[1,\"#276419\"]]},\"xaxis\":{\"gridcolor\":\"white\",\"linecolor\":\"white\",\"ticks\":\"\",\"title\":{\"standoff\":15},\"zerolinecolor\":\"white\",\"automargin\":true,\"zerolinewidth\":2},\"yaxis\":{\"gridcolor\":\"white\",\"linecolor\":\"white\",\"ticks\":\"\",\"title\":{\"standoff\":15},\"zerolinecolor\":\"white\",\"automargin\":true,\"zerolinewidth\":2},\"scene\":{\"xaxis\":{\"backgroundcolor\":\"#E5ECF6\",\"gridcolor\":\"white\",\"linecolor\":\"white\",\"showbackground\":true,\"ticks\":\"\",\"zerolinecolor\":\"white\",\"gridwidth\":2},\"yaxis\":{\"backgroundcolor\":\"#E5ECF6\",\"gridcolor\":\"white\",\"linecolor\":\"white\",\"showbackground\":true,\"ticks\":\"\",\"zerolinecolor\":\"white\",\"gridwidth\":2},\"zaxis\":{\"backgroundcolor\":\"#E5ECF6\",\"gridcolor\":\"white\",\"linecolor\":\"white\",\"showbackground\":true,\"ticks\":\"\",\"zerolinecolor\":\"white\",\"gridwidth\":2}},\"shapedefaults\":{\"line\":{\"color\":\"#2a3f5f\"}},\"annotationdefaults\":{\"arrowcolor\":\"#2a3f5f\",\"arrowhead\":0,\"arrowwidth\":1},\"geo\":{\"bgcolor\":\"white\",\"landcolor\":\"#E5ECF6\",\"subunitcolor\":\"white\",\"showland\":true,\"showlakes\":true,\"lakecolor\":\"white\"},\"title\":{\"x\":0.05},\"mapbox\":{\"style\":\"light\"}}},\"xaxis\":{\"anchor\":\"y\",\"domain\":[0.0,1.0],\"title\":{\"text\":\"Longitude\"}},\"yaxis\":{\"anchor\":\"x\",\"domain\":[0.0,1.0],\"title\":{\"text\":\"Latitude\"}},\"coloraxis\":{\"colorbar\":{\"title\":{\"text\":\"color\"}},\"colorscale\":[[0.0,\"#0d0887\"],[0.1111111111111111,\"#46039f\"],[0.2222222222222222,\"#7201a8\"],[0.3333333333333333,\"#9c179e\"],[0.4444444444444444,\"#bd3786\"],[0.5555555555555556,\"#d8576b\"],[0.6666666666666666,\"#ed7953\"],[0.7777777777777778,\"#fb9f3a\"],[0.8888888888888888,\"#fdca26\"],[1.0,\"#f0f921\"]]},\"legend\":{\"tracegroupgap\":0},\"margin\":{\"t\":60}},                        {\"responsive\": true}                    ).then(function(){\n",
       "                            \n",
       "var gd = document.getElementById('9553a5e4-dfea-49db-8512-8faf7e734b73');\n",
       "var x = new MutationObserver(function (mutations, observer) {{\n",
       "        var display = window.getComputedStyle(gd).display;\n",
       "        if (!display || display === 'none') {{\n",
       "            console.log([gd, 'removed!']);\n",
       "            Plotly.purge(gd);\n",
       "            observer.disconnect();\n",
       "        }}\n",
       "}});\n",
       "\n",
       "// Listen for the removal of the full notebook cells\n",
       "var notebookContainer = gd.closest('#notebook-container');\n",
       "if (notebookContainer) {{\n",
       "    x.observe(notebookContainer, {childList: true});\n",
       "}}\n",
       "\n",
       "// Listen for the clearing of the current output cell\n",
       "var outputEl = gd.closest('.output');\n",
       "if (outputEl) {{\n",
       "    x.observe(outputEl, {childList: true});\n",
       "}}\n",
       "\n",
       "                        })                };                });            </script>        </div>"
      ]
     },
     "metadata": {},
     "output_type": "display_data"
    }
   ],
   "source": [
    "df2 = pd.DataFrame(df, columns=['Longitude','Latitude'])\n",
    "kmeans = KMeans(n_clusters=5).fit_predict(df2)\n",
    "px.scatter(df2,x='Longitude',y='Latitude',color=kmeans)"
   ]
  },
  {
   "cell_type": "code",
   "execution_count": 4,
   "id": "51f8faaf-4dbf-421c-85f5-60409a0ebd38",
   "metadata": {},
   "outputs": [
    {
     "name": "stderr",
     "output_type": "stream",
     "text": [
      "/miniconda3/lib/python3.10/site-packages/sklearn/cluster/_kmeans.py:870: FutureWarning:\n",
      "\n",
      "The default value of `n_init` will change from 10 to 'auto' in 1.4. Set the value of `n_init` explicitly to suppress the warning\n",
      "\n"
     ]
    },
    {
     "data": {
      "application/vnd.plotly.v1+json": {
       "config": {
        "plotlyServerURL": "https://plot.ly"
       },
       "data": [
        {
         "hovertemplate": "symbol=4<br>Longitude=%{x}<br>Latitude=%{y}<br>Ecosystem_type=%{marker.color}<extra></extra>",
         "legendgroup": "4",
         "marker": {
          "color": [
           7,
           5,
           5,
           6,
           6,
           4,
           4,
           4,
           4,
           1,
           1,
           1,
           6
          ],
          "coloraxis": "coloraxis",
          "symbol": "circle"
         },
         "mode": "markers",
         "name": "4",
         "orientation": "v",
         "showlegend": true,
         "type": "scatter",
         "x": [
          -54.68333333,
          -69.676417,
          -71.059489,
          -70.080944,
          -70.524528,
          -71.244902,
          -71.250724,
          -71.663635,
          -71.585444,
          -67.6355555555555,
          -67.6352777777777,
          -67.6325,
          -67.6327777777777
         ],
         "xaxis": "x",
         "y": [
          -26.73333333,
          -41.807778,
          -41.004278,
          -41.253333,
          -41.0335,
          -29.311377,
          -29.749902,
          -30.662263,
          -31.199813,
          -54.9349999999999,
          -54.9541666666666,
          -54.9588888888888,
          -54.9718611111111
         ],
         "yaxis": "y"
        },
        {
         "hovertemplate": "symbol=9<br>Longitude=%{x}<br>Latitude=%{y}<br>Ecosystem_type=%{marker.color}<extra></extra>",
         "legendgroup": "9",
         "marker": {
          "color": [
           0,
           5,
           7,
           0,
           0,
           2
          ],
          "coloraxis": "coloraxis",
          "symbol": "diamond"
         },
         "mode": "markers",
         "name": "9",
         "orientation": "v",
         "showlegend": true,
         "type": "scatter",
         "x": [
          -148.25,
          -155.26,
          -155.26,
          -147.84,
          -147.84,
          -149.5833333
         ],
         "xaxis": "x",
         "y": [
          64.8,
          19.81,
          19.81,
          64.85,
          64.85,
          68.63333333
         ],
         "yaxis": "y"
        },
        {
         "hovertemplate": "symbol=0<br>Longitude=%{x}<br>Latitude=%{y}<br>Ecosystem_type=%{marker.color}<extra></extra>",
         "legendgroup": "0",
         "marker": {
          "color": [
           1,
           7,
           7,
           2,
           5,
           2,
           1,
           2,
           1,
           5,
           1,
           2,
           7,
           5,
           4,
           5,
           2,
           5,
           2,
           2,
           2,
           2,
           2,
           2,
           2,
           2,
           2,
           2,
           5,
           2,
           6,
           4,
           4,
           6,
           4,
           4,
           4,
           4
          ],
          "coloraxis": "coloraxis",
          "symbol": "square"
         },
         "mode": "markers",
         "name": "0",
         "orientation": "v",
         "showlegend": true,
         "type": "scatter",
         "x": [
          -72.19,
          -96.57,
          -83.5,
          -72.19,
          -83.5,
          -71.75,
          -71.75,
          -85.4,
          -85.4,
          -96.57,
          -93.2,
          -93.2,
          -79.08333333,
          -86.70167,
          -101.63,
          -96.582821,
          -93.38538333,
          -96.88,
          -95.54,
          -96.52,
          -96.81,
          -97.11,
          -95.58,
          -93.66,
          -96.97,
          -96.78,
          -96.71,
          -96.43,
          -96.6,
          -96.57,
          -99.655561,
          -100.943528,
          -100.420636,
          -99.894557,
          -101.055406,
          -101.273809,
          -101.248559,
          -102.455579
         ],
         "xaxis": "x",
         "y": [
          42.53,
          39.09,
          35,
          42.53,
          35,
          43.94,
          43.94,
          42.4,
          42.4,
          39.09,
          45.4,
          45.4,
          35.96666667,
          36.871944,
          41.2,
          39.070856,
          41.78506667,
          31.48,
          40.15,
          40.16,
          40.87,
          41.61,
          42.88,
          43.51,
          43.55,
          44.04,
          44.26,
          47.05,
          39.1,
          44.8,
          22.246529,
          23.601688,
          22.644511,
          22.64831,
          23.254883,
          23.204697,
          23.737999,
          22.352438
         ],
         "yaxis": "y"
        },
        {
         "hovertemplate": "symbol=7<br>Longitude=%{x}<br>Latitude=%{y}<br>Ecosystem_type=%{marker.color}<extra></extra>",
         "legendgroup": "7",
         "marker": {
          "color": [
           5,
           1,
           2,
           5,
           5,
           5,
           1,
           1,
           1,
           1,
           1,
           1,
           1,
           1,
           1,
           1,
           4,
           6,
           4,
           4,
           4,
           6,
           4,
           4,
           4,
           4,
           4
          ],
          "coloraxis": "coloraxis",
          "symbol": "x"
         },
         "mode": "markers",
         "name": "7",
         "orientation": "v",
         "showlegend": true,
         "type": "scatter",
         "x": [
          -122.26,
          -105.37,
          -105.37,
          -123.38,
          -120.24,
          -121.9680169,
          -111.00378,
          -111.00378,
          -111.00378,
          -111.00378,
          -111.00378,
          -111.00378,
          -111.00378,
          -111.00378,
          -111.00378,
          -111.00378,
          -106.7333333,
          -112.552224,
          -109.710268,
          -109.910049,
          -111.696845,
          -112.02167,
          -109.413583,
          -110.516686,
          -111.856829,
          -115.79572,
          -115.811803
         ],
         "xaxis": "x",
         "y": [
          44.21,
          39.99,
          39.99,
          48.46,
          39.43,
          44.27668543,
          45.573646,
          45.573646,
          45.573646,
          45.573646,
          45.573646,
          45.573646,
          45.573646,
          45.573646,
          45.573646,
          45.573646,
          34.33333333,
          37.113448,
          38.173514,
          37.581928,
          37.086092,
          37.507278,
          37.730413,
          38.003108,
          36.685466,
          33.754262,
          33.750666
         ],
         "yaxis": "y"
        },
        {
         "hovertemplate": "symbol=5<br>Longitude=%{x}<br>Latitude=%{y}<br>Ecosystem_type=%{marker.color}<extra></extra>",
         "legendgroup": "5",
         "marker": {
          "color": [
           5,
           8,
           8,
           8,
           8,
           8,
           8,
           8,
           6
          ],
          "coloraxis": "coloraxis",
          "symbol": "cross"
         },
         "mode": "markers",
         "name": "5",
         "orientation": "v",
         "showlegend": true,
         "type": "scatter",
         "x": [
          -65.8,
          -65.8,
          -79.7442,
          -79.7427,
          -79.771875,
          -71.23333333,
          -79.8553,
          -79.7453,
          -69.946911
         ],
         "xaxis": "x",
         "y": [
          18.3,
          18.3,
          9.1565,
          9.16093,
          9.15761,
          -12.63333333,
          9.15125,
          9.16176,
          9.666497
         ],
         "yaxis": "y"
        },
        {
         "hovertemplate": "symbol=6<br>Longitude=%{x}<br>Latitude=%{y}<br>Ecosystem_type=%{marker.color}<extra></extra>",
         "legendgroup": "6",
         "marker": {
          "color": [
           5,
           5,
           5
          ],
          "coloraxis": "coloraxis",
          "symbol": "circle"
         },
         "mode": "markers",
         "name": "6",
         "orientation": "v",
         "showlegend": true,
         "type": "scatter",
         "x": [
          30.71573,
          30.29174,
          30.4
         ],
         "xaxis": "x",
         "y": [
          -29.81161,
          -29.28424,
          -29.67
         ],
         "yaxis": "y"
        },
        {
         "hovertemplate": "symbol=1<br>Longitude=%{x}<br>Latitude=%{y}<br>Ecosystem_type=%{marker.color}<extra></extra>",
         "legendgroup": "1",
         "marker": {
          "color": [
           5,
           3,
           3,
           3,
           3,
           3,
           3,
           3,
           3,
           3,
           3,
           3,
           3,
           3,
           3,
           3,
           3,
           3,
           3,
           3,
           3,
           3,
           3,
           3,
           3,
           3,
           3,
           3,
           3,
           3,
           3,
           3,
           3,
           3,
           3,
           3,
           3,
           3,
           3,
           3,
           3,
           3,
           3,
           7,
           7,
           7,
           7,
           7,
           7,
           3,
           3,
           3,
           3,
           3,
           3,
           3,
           3,
           3,
           3,
           3,
           3,
           4,
           4,
           7,
           3,
           3,
           7,
           7,
           7,
           7,
           7,
           7,
           7,
           7,
           7,
           7,
           7,
           7,
           7,
           3,
           3,
           7,
           7,
           3,
           3
          ],
          "coloraxis": "coloraxis",
          "symbol": "diamond"
         },
         "mode": "markers",
         "name": "1",
         "orientation": "v",
         "showlegend": true,
         "type": "scatter",
         "x": [
          151.139517,
          117.610853,
          146.212,
          146.197,
          145.759,
          144.525,
          145.786,
          146.347,
          144.816,
          144.833,
          146.187,
          144.878,
          144.827,
          144.819,
          145.582,
          145.596,
          146.38558,
          145.758459,
          145.55909,
          145.747545,
          145.25161,
          145.261715,
          145.591506,
          145.613197,
          145.765813,
          145.774749,
          145.698279,
          145.631861,
          145.637641,
          146.481861,
          146.490617,
          145.992029,
          145.90637,
          146.465998,
          145.5878,
          145.88378,
          145.67999,
          145.2644,
          145.97622,
          145.96507,
          145.829136,
          145.788243,
          145.779652,
          145.891286,
          145.87919,
          145.74798,
          145.685582,
          145.6486,
          145.601954,
          144.614926,
          144.580937,
          144.574145,
          144.647202,
          145.70554,
          144.5354,
          144.52706,
          142.556909,
          142.481679,
          142.508839,
          142.460103,
          142.686154,
          146.309722,
          147.707778,
          147.388211,
          146.208538,
          146.308989,
          146.576361111111,
          146.919987,
          147.422757,
          149.88757,
          150.862162,
          150.771211,
          148.919106,
          148.947758,
          148.609224,
          148.172742,
          148.203347,
          148.164342,
          150.238876,
          145.726367,
          146.071294,
          150.99395,
          151.057451,
          142.0837778,
          142.20495
         ],
         "xaxis": "x",
         "y": [
          -27.734896,
          -31.782138,
          -34.7118,
          -34.7133,
          -33.3576,
          -35.3443,
          -34.5205,
          -34.6507,
          -35.4101,
          -35.4128,
          -34.5303,
          -35.504,
          -35.494,
          -35.4895,
          -33.4569,
          -33.4563,
          -34.5578,
          -33.35119,
          -33.47484,
          -33.346019,
          -31.8654,
          -31.844558,
          -32.633899,
          -32.640211,
          -33.99013,
          -33.984529,
          -33.993636,
          -33.797051,
          -33.794211,
          -34.798363,
          -34.825074,
          -34.76219,
          -34.747744,
          -34.811983,
          -33.8422,
          -34.7974,
          -32.62636,
          -31.875593,
          -34.554395,
          -34.557097,
          -34.556716,
          -34.56556,
          -34.538107,
          -35.934712,
          -35.950539,
          -35.953218,
          -35.9228,
          -35.884732,
          -35.864302,
          -35.358242,
          -35.351175,
          -35.329233,
          -35.350591,
          -34.5239,
          -35.3858,
          -35.3523,
          -34.204296,
          -34.24777,
          -34.018527,
          -33.960183,
          -33.931135,
          -31.556111,
          -31.8575,
          -33.844892,
          -34.357823,
          -34.415466,
          -34.2837222222222,
          -34.346187,
          -34.435437,
          -34.743692,
          -33.654888,
          -33.621635,
          -34.362568,
          -33.981005,
          -33.833655,
          -33.505705,
          -33.729918,
          -33.324038,
          -34.506477,
          -34,
          -34.254023,
          -33.909637,
          -33.982,
          -34.127508,
          -34.158906
         ],
         "yaxis": "y"
        },
        {
         "hovertemplate": "symbol=2<br>Longitude=%{x}<br>Latitude=%{y}<br>Ecosystem_type=%{marker.color}<extra></extra>",
         "legendgroup": "2",
         "marker": {
          "color": [
           2,
           5,
           5,
           5,
           5,
           5,
           5,
           5,
           5,
           5,
           5,
           5,
           5,
           5,
           5,
           5,
           5,
           4,
           5,
           5,
           5,
           5,
           5,
           5,
           4,
           4,
           5,
           4,
           5,
           4,
           4,
           4,
           4,
           6,
           4,
           6,
           4,
           6,
           6,
           6,
           4,
           4,
           4,
           4,
           4,
           4
          ],
          "coloraxis": "coloraxis",
          "symbol": "square"
         },
         "mode": "markers",
         "name": "2",
         "orientation": "v",
         "showlegend": true,
         "type": "scatter",
         "x": [
          10.372252,
          -2.285400608,
          -2.067171822,
          -2.0793194,
          -2.0077184,
          -2.0332443,
          -2.9004561,
          -2.3406767,
          -3.875976,
          -4.427518,
          0.81922022,
          -2.0036085,
          -2.422588,
          -2.372904,
          -2.192604,
          -3.373502,
          -3.638859,
          -1.999301,
          -3.558751,
          -2.728708,
          -3.464915,
          -2.2306,
          -2.900725,
          -3.419164,
          -3.618947,
          -1.673747,
          -2.514767,
          -1.199478,
          -2.877436,
          -1.717695,
          -1.836988,
          -1.784601,
          -0.963246,
          -3.388677,
          -1.232379,
          -1.802287,
          -1.527039,
          -2.345141,
          -2.879354,
          -2.039614,
          9.647121,
          8.673783,
          9.97436,
          9.116646,
          9.717897,
          10.498595
         ],
         "xaxis": "x",
         "y": [
          46.631345,
          52.04949371,
          52.17127185,
          52.243108,
          52.249886,
          52.281878,
          51.065861,
          54.168173,
          50.808636,
          50.835199,
          52.440139,
          51.814047,
          33.052487,
          34.159182,
          34.430867,
          33.976574,
          34.473045,
          34.309672,
          33.932621,
          33.06768,
          34.625548,
          39.048208,
          40.068228,
          40.208781,
          39.992036,
          37.821156,
          39.207539,
          38.588606,
          40.354792,
          38.791855,
          37.721332,
          37.726728,
          38.308579,
          40.36936,
          37.593066,
          39.538668,
          38.065532,
          39.127509,
          40.018028,
          37.6339,
          34.494253,
          35.167767,
          33.52157,
          35.160036,
          34.956452,
          32.98347
         ],
         "yaxis": "y"
        },
        {
         "hovertemplate": "symbol=3<br>Longitude=%{x}<br>Latitude=%{y}<br>Ecosystem_type=%{marker.color}<extra></extra>",
         "legendgroup": "3",
         "marker": {
          "color": [
           0,
           2,
           2,
           2,
           4,
           4
          ],
          "coloraxis": "coloraxis",
          "symbol": "x"
         },
         "mode": "markers",
         "name": "3",
         "orientation": "v",
         "showlegend": true,
         "type": "scatter",
         "x": [
          119.177417,
          118.403778,
          117.272139,
          116.994528,
          116.786556,
          116.015833
         ],
         "xaxis": "x",
         "y": [
          49.262694,
          49.494333,
          49.525333,
          49.031528,
          48.609778,
          48.223083
         ],
         "yaxis": "y"
        },
        {
         "hovertemplate": "symbol=8<br>Longitude=%{x}<br>Latitude=%{y}<br>Ecosystem_type=%{marker.color}<extra></extra>",
         "legendgroup": "8",
         "marker": {
          "color": [
           6,
           4,
           6,
           4
          ],
          "coloraxis": "coloraxis",
          "symbol": "cross"
         },
         "mode": "markers",
         "name": "8",
         "orientation": "v",
         "showlegend": true,
         "type": "scatter",
         "x": [
          58.6695,
          56.560944,
          58.109556,
          34.820866
         ],
         "xaxis": "x",
         "y": [
          36.696167,
          37.371111,
          37.429083,
          31.35779
         ],
         "yaxis": "y"
        }
       ],
       "layout": {
        "coloraxis": {
         "colorbar": {
          "title": {
           "text": "Ecosystem_type"
          }
         },
         "colorscale": [
          [
           0,
           "#0d0887"
          ],
          [
           0.1111111111111111,
           "#46039f"
          ],
          [
           0.2222222222222222,
           "#7201a8"
          ],
          [
           0.3333333333333333,
           "#9c179e"
          ],
          [
           0.4444444444444444,
           "#bd3786"
          ],
          [
           0.5555555555555556,
           "#d8576b"
          ],
          [
           0.6666666666666666,
           "#ed7953"
          ],
          [
           0.7777777777777778,
           "#fb9f3a"
          ],
          [
           0.8888888888888888,
           "#fdca26"
          ],
          [
           1,
           "#f0f921"
          ]
         ]
        },
        "legend": {
         "title": {
          "text": "symbol"
         },
         "tracegroupgap": 0
        },
        "margin": {
         "t": 60
        },
        "template": {
         "data": {
          "bar": [
           {
            "error_x": {
             "color": "#2a3f5f"
            },
            "error_y": {
             "color": "#2a3f5f"
            },
            "marker": {
             "line": {
              "color": "#E5ECF6",
              "width": 0.5
             },
             "pattern": {
              "fillmode": "overlay",
              "size": 10,
              "solidity": 0.2
             }
            },
            "type": "bar"
           }
          ],
          "barpolar": [
           {
            "marker": {
             "line": {
              "color": "#E5ECF6",
              "width": 0.5
             },
             "pattern": {
              "fillmode": "overlay",
              "size": 10,
              "solidity": 0.2
             }
            },
            "type": "barpolar"
           }
          ],
          "carpet": [
           {
            "aaxis": {
             "endlinecolor": "#2a3f5f",
             "gridcolor": "white",
             "linecolor": "white",
             "minorgridcolor": "white",
             "startlinecolor": "#2a3f5f"
            },
            "baxis": {
             "endlinecolor": "#2a3f5f",
             "gridcolor": "white",
             "linecolor": "white",
             "minorgridcolor": "white",
             "startlinecolor": "#2a3f5f"
            },
            "type": "carpet"
           }
          ],
          "choropleth": [
           {
            "colorbar": {
             "outlinewidth": 0,
             "ticks": ""
            },
            "type": "choropleth"
           }
          ],
          "contour": [
           {
            "colorbar": {
             "outlinewidth": 0,
             "ticks": ""
            },
            "colorscale": [
             [
              0,
              "#0d0887"
             ],
             [
              0.1111111111111111,
              "#46039f"
             ],
             [
              0.2222222222222222,
              "#7201a8"
             ],
             [
              0.3333333333333333,
              "#9c179e"
             ],
             [
              0.4444444444444444,
              "#bd3786"
             ],
             [
              0.5555555555555556,
              "#d8576b"
             ],
             [
              0.6666666666666666,
              "#ed7953"
             ],
             [
              0.7777777777777778,
              "#fb9f3a"
             ],
             [
              0.8888888888888888,
              "#fdca26"
             ],
             [
              1,
              "#f0f921"
             ]
            ],
            "type": "contour"
           }
          ],
          "contourcarpet": [
           {
            "colorbar": {
             "outlinewidth": 0,
             "ticks": ""
            },
            "type": "contourcarpet"
           }
          ],
          "heatmap": [
           {
            "colorbar": {
             "outlinewidth": 0,
             "ticks": ""
            },
            "colorscale": [
             [
              0,
              "#0d0887"
             ],
             [
              0.1111111111111111,
              "#46039f"
             ],
             [
              0.2222222222222222,
              "#7201a8"
             ],
             [
              0.3333333333333333,
              "#9c179e"
             ],
             [
              0.4444444444444444,
              "#bd3786"
             ],
             [
              0.5555555555555556,
              "#d8576b"
             ],
             [
              0.6666666666666666,
              "#ed7953"
             ],
             [
              0.7777777777777778,
              "#fb9f3a"
             ],
             [
              0.8888888888888888,
              "#fdca26"
             ],
             [
              1,
              "#f0f921"
             ]
            ],
            "type": "heatmap"
           }
          ],
          "heatmapgl": [
           {
            "colorbar": {
             "outlinewidth": 0,
             "ticks": ""
            },
            "colorscale": [
             [
              0,
              "#0d0887"
             ],
             [
              0.1111111111111111,
              "#46039f"
             ],
             [
              0.2222222222222222,
              "#7201a8"
             ],
             [
              0.3333333333333333,
              "#9c179e"
             ],
             [
              0.4444444444444444,
              "#bd3786"
             ],
             [
              0.5555555555555556,
              "#d8576b"
             ],
             [
              0.6666666666666666,
              "#ed7953"
             ],
             [
              0.7777777777777778,
              "#fb9f3a"
             ],
             [
              0.8888888888888888,
              "#fdca26"
             ],
             [
              1,
              "#f0f921"
             ]
            ],
            "type": "heatmapgl"
           }
          ],
          "histogram": [
           {
            "marker": {
             "pattern": {
              "fillmode": "overlay",
              "size": 10,
              "solidity": 0.2
             }
            },
            "type": "histogram"
           }
          ],
          "histogram2d": [
           {
            "colorbar": {
             "outlinewidth": 0,
             "ticks": ""
            },
            "colorscale": [
             [
              0,
              "#0d0887"
             ],
             [
              0.1111111111111111,
              "#46039f"
             ],
             [
              0.2222222222222222,
              "#7201a8"
             ],
             [
              0.3333333333333333,
              "#9c179e"
             ],
             [
              0.4444444444444444,
              "#bd3786"
             ],
             [
              0.5555555555555556,
              "#d8576b"
             ],
             [
              0.6666666666666666,
              "#ed7953"
             ],
             [
              0.7777777777777778,
              "#fb9f3a"
             ],
             [
              0.8888888888888888,
              "#fdca26"
             ],
             [
              1,
              "#f0f921"
             ]
            ],
            "type": "histogram2d"
           }
          ],
          "histogram2dcontour": [
           {
            "colorbar": {
             "outlinewidth": 0,
             "ticks": ""
            },
            "colorscale": [
             [
              0,
              "#0d0887"
             ],
             [
              0.1111111111111111,
              "#46039f"
             ],
             [
              0.2222222222222222,
              "#7201a8"
             ],
             [
              0.3333333333333333,
              "#9c179e"
             ],
             [
              0.4444444444444444,
              "#bd3786"
             ],
             [
              0.5555555555555556,
              "#d8576b"
             ],
             [
              0.6666666666666666,
              "#ed7953"
             ],
             [
              0.7777777777777778,
              "#fb9f3a"
             ],
             [
              0.8888888888888888,
              "#fdca26"
             ],
             [
              1,
              "#f0f921"
             ]
            ],
            "type": "histogram2dcontour"
           }
          ],
          "mesh3d": [
           {
            "colorbar": {
             "outlinewidth": 0,
             "ticks": ""
            },
            "type": "mesh3d"
           }
          ],
          "parcoords": [
           {
            "line": {
             "colorbar": {
              "outlinewidth": 0,
              "ticks": ""
             }
            },
            "type": "parcoords"
           }
          ],
          "pie": [
           {
            "automargin": true,
            "type": "pie"
           }
          ],
          "scatter": [
           {
            "fillpattern": {
             "fillmode": "overlay",
             "size": 10,
             "solidity": 0.2
            },
            "type": "scatter"
           }
          ],
          "scatter3d": [
           {
            "line": {
             "colorbar": {
              "outlinewidth": 0,
              "ticks": ""
             }
            },
            "marker": {
             "colorbar": {
              "outlinewidth": 0,
              "ticks": ""
             }
            },
            "type": "scatter3d"
           }
          ],
          "scattercarpet": [
           {
            "marker": {
             "colorbar": {
              "outlinewidth": 0,
              "ticks": ""
             }
            },
            "type": "scattercarpet"
           }
          ],
          "scattergeo": [
           {
            "marker": {
             "colorbar": {
              "outlinewidth": 0,
              "ticks": ""
             }
            },
            "type": "scattergeo"
           }
          ],
          "scattergl": [
           {
            "marker": {
             "colorbar": {
              "outlinewidth": 0,
              "ticks": ""
             }
            },
            "type": "scattergl"
           }
          ],
          "scattermapbox": [
           {
            "marker": {
             "colorbar": {
              "outlinewidth": 0,
              "ticks": ""
             }
            },
            "type": "scattermapbox"
           }
          ],
          "scatterpolar": [
           {
            "marker": {
             "colorbar": {
              "outlinewidth": 0,
              "ticks": ""
             }
            },
            "type": "scatterpolar"
           }
          ],
          "scatterpolargl": [
           {
            "marker": {
             "colorbar": {
              "outlinewidth": 0,
              "ticks": ""
             }
            },
            "type": "scatterpolargl"
           }
          ],
          "scatterternary": [
           {
            "marker": {
             "colorbar": {
              "outlinewidth": 0,
              "ticks": ""
             }
            },
            "type": "scatterternary"
           }
          ],
          "surface": [
           {
            "colorbar": {
             "outlinewidth": 0,
             "ticks": ""
            },
            "colorscale": [
             [
              0,
              "#0d0887"
             ],
             [
              0.1111111111111111,
              "#46039f"
             ],
             [
              0.2222222222222222,
              "#7201a8"
             ],
             [
              0.3333333333333333,
              "#9c179e"
             ],
             [
              0.4444444444444444,
              "#bd3786"
             ],
             [
              0.5555555555555556,
              "#d8576b"
             ],
             [
              0.6666666666666666,
              "#ed7953"
             ],
             [
              0.7777777777777778,
              "#fb9f3a"
             ],
             [
              0.8888888888888888,
              "#fdca26"
             ],
             [
              1,
              "#f0f921"
             ]
            ],
            "type": "surface"
           }
          ],
          "table": [
           {
            "cells": {
             "fill": {
              "color": "#EBF0F8"
             },
             "line": {
              "color": "white"
             }
            },
            "header": {
             "fill": {
              "color": "#C8D4E3"
             },
             "line": {
              "color": "white"
             }
            },
            "type": "table"
           }
          ]
         },
         "layout": {
          "annotationdefaults": {
           "arrowcolor": "#2a3f5f",
           "arrowhead": 0,
           "arrowwidth": 1
          },
          "autotypenumbers": "strict",
          "coloraxis": {
           "colorbar": {
            "outlinewidth": 0,
            "ticks": ""
           }
          },
          "colorscale": {
           "diverging": [
            [
             0,
             "#8e0152"
            ],
            [
             0.1,
             "#c51b7d"
            ],
            [
             0.2,
             "#de77ae"
            ],
            [
             0.3,
             "#f1b6da"
            ],
            [
             0.4,
             "#fde0ef"
            ],
            [
             0.5,
             "#f7f7f7"
            ],
            [
             0.6,
             "#e6f5d0"
            ],
            [
             0.7,
             "#b8e186"
            ],
            [
             0.8,
             "#7fbc41"
            ],
            [
             0.9,
             "#4d9221"
            ],
            [
             1,
             "#276419"
            ]
           ],
           "sequential": [
            [
             0,
             "#0d0887"
            ],
            [
             0.1111111111111111,
             "#46039f"
            ],
            [
             0.2222222222222222,
             "#7201a8"
            ],
            [
             0.3333333333333333,
             "#9c179e"
            ],
            [
             0.4444444444444444,
             "#bd3786"
            ],
            [
             0.5555555555555556,
             "#d8576b"
            ],
            [
             0.6666666666666666,
             "#ed7953"
            ],
            [
             0.7777777777777778,
             "#fb9f3a"
            ],
            [
             0.8888888888888888,
             "#fdca26"
            ],
            [
             1,
             "#f0f921"
            ]
           ],
           "sequentialminus": [
            [
             0,
             "#0d0887"
            ],
            [
             0.1111111111111111,
             "#46039f"
            ],
            [
             0.2222222222222222,
             "#7201a8"
            ],
            [
             0.3333333333333333,
             "#9c179e"
            ],
            [
             0.4444444444444444,
             "#bd3786"
            ],
            [
             0.5555555555555556,
             "#d8576b"
            ],
            [
             0.6666666666666666,
             "#ed7953"
            ],
            [
             0.7777777777777778,
             "#fb9f3a"
            ],
            [
             0.8888888888888888,
             "#fdca26"
            ],
            [
             1,
             "#f0f921"
            ]
           ]
          },
          "colorway": [
           "#636efa",
           "#EF553B",
           "#00cc96",
           "#ab63fa",
           "#FFA15A",
           "#19d3f3",
           "#FF6692",
           "#B6E880",
           "#FF97FF",
           "#FECB52"
          ],
          "font": {
           "color": "#2a3f5f"
          },
          "geo": {
           "bgcolor": "white",
           "lakecolor": "white",
           "landcolor": "#E5ECF6",
           "showlakes": true,
           "showland": true,
           "subunitcolor": "white"
          },
          "hoverlabel": {
           "align": "left"
          },
          "hovermode": "closest",
          "mapbox": {
           "style": "light"
          },
          "paper_bgcolor": "white",
          "plot_bgcolor": "#E5ECF6",
          "polar": {
           "angularaxis": {
            "gridcolor": "white",
            "linecolor": "white",
            "ticks": ""
           },
           "bgcolor": "#E5ECF6",
           "radialaxis": {
            "gridcolor": "white",
            "linecolor": "white",
            "ticks": ""
           }
          },
          "scene": {
           "xaxis": {
            "backgroundcolor": "#E5ECF6",
            "gridcolor": "white",
            "gridwidth": 2,
            "linecolor": "white",
            "showbackground": true,
            "ticks": "",
            "zerolinecolor": "white"
           },
           "yaxis": {
            "backgroundcolor": "#E5ECF6",
            "gridcolor": "white",
            "gridwidth": 2,
            "linecolor": "white",
            "showbackground": true,
            "ticks": "",
            "zerolinecolor": "white"
           },
           "zaxis": {
            "backgroundcolor": "#E5ECF6",
            "gridcolor": "white",
            "gridwidth": 2,
            "linecolor": "white",
            "showbackground": true,
            "ticks": "",
            "zerolinecolor": "white"
           }
          },
          "shapedefaults": {
           "line": {
            "color": "#2a3f5f"
           }
          },
          "ternary": {
           "aaxis": {
            "gridcolor": "white",
            "linecolor": "white",
            "ticks": ""
           },
           "baxis": {
            "gridcolor": "white",
            "linecolor": "white",
            "ticks": ""
           },
           "bgcolor": "#E5ECF6",
           "caxis": {
            "gridcolor": "white",
            "linecolor": "white",
            "ticks": ""
           }
          },
          "title": {
           "x": 0.05
          },
          "xaxis": {
           "automargin": true,
           "gridcolor": "white",
           "linecolor": "white",
           "ticks": "",
           "title": {
            "standoff": 15
           },
           "zerolinecolor": "white",
           "zerolinewidth": 2
          },
          "yaxis": {
           "automargin": true,
           "gridcolor": "white",
           "linecolor": "white",
           "ticks": "",
           "title": {
            "standoff": 15
           },
           "zerolinecolor": "white",
           "zerolinewidth": 2
          }
         }
        },
        "xaxis": {
         "anchor": "y",
         "domain": [
          0,
          1
         ],
         "title": {
          "text": "Longitude"
         }
        },
        "yaxis": {
         "anchor": "x",
         "domain": [
          0,
          1
         ],
         "title": {
          "text": "Latitude"
         }
        }
       }
      },
      "text/html": [
       "<div>                            <div id=\"cb5ca44d-04d7-41b3-bc09-139b61ee71bf\" class=\"plotly-graph-div\" style=\"height:525px; width:100%;\"></div>            <script type=\"text/javascript\">                require([\"plotly\"], function(Plotly) {                    window.PLOTLYENV=window.PLOTLYENV || {};                                    if (document.getElementById(\"cb5ca44d-04d7-41b3-bc09-139b61ee71bf\")) {                    Plotly.newPlot(                        \"cb5ca44d-04d7-41b3-bc09-139b61ee71bf\",                        [{\"hovertemplate\":\"symbol=4<br>Longitude=%{x}<br>Latitude=%{y}<br>Ecosystem_type=%{marker.color}<extra></extra>\",\"legendgroup\":\"4\",\"marker\":{\"color\":[7,5,5,6,6,4,4,4,4,1,1,1,6],\"coloraxis\":\"coloraxis\",\"symbol\":\"circle\"},\"mode\":\"markers\",\"name\":\"4\",\"orientation\":\"v\",\"showlegend\":true,\"x\":[-54.68333333,-69.676417,-71.059489,-70.080944,-70.524528,-71.244902,-71.250724,-71.663635,-71.585444,-67.6355555555555,-67.6352777777777,-67.6325,-67.6327777777777],\"xaxis\":\"x\",\"y\":[-26.73333333,-41.807778,-41.004278,-41.253333,-41.0335,-29.311377,-29.749902,-30.662263,-31.199813,-54.9349999999999,-54.9541666666666,-54.9588888888888,-54.9718611111111],\"yaxis\":\"y\",\"type\":\"scatter\"},{\"hovertemplate\":\"symbol=9<br>Longitude=%{x}<br>Latitude=%{y}<br>Ecosystem_type=%{marker.color}<extra></extra>\",\"legendgroup\":\"9\",\"marker\":{\"color\":[0,5,7,0,0,2],\"coloraxis\":\"coloraxis\",\"symbol\":\"diamond\"},\"mode\":\"markers\",\"name\":\"9\",\"orientation\":\"v\",\"showlegend\":true,\"x\":[-148.25,-155.26,-155.26,-147.84,-147.84,-149.5833333],\"xaxis\":\"x\",\"y\":[64.8,19.81,19.81,64.85,64.85,68.63333333],\"yaxis\":\"y\",\"type\":\"scatter\"},{\"hovertemplate\":\"symbol=0<br>Longitude=%{x}<br>Latitude=%{y}<br>Ecosystem_type=%{marker.color}<extra></extra>\",\"legendgroup\":\"0\",\"marker\":{\"color\":[1,7,7,2,5,2,1,2,1,5,1,2,7,5,4,5,2,5,2,2,2,2,2,2,2,2,2,2,5,2,6,4,4,6,4,4,4,4],\"coloraxis\":\"coloraxis\",\"symbol\":\"square\"},\"mode\":\"markers\",\"name\":\"0\",\"orientation\":\"v\",\"showlegend\":true,\"x\":[-72.19,-96.57,-83.5,-72.19,-83.5,-71.75,-71.75,-85.4,-85.4,-96.57,-93.2,-93.2,-79.08333333,-86.70167,-101.63,-96.582821,-93.38538333,-96.88,-95.54,-96.52,-96.81,-97.11,-95.58,-93.66,-96.97,-96.78,-96.71,-96.43,-96.6,-96.57,-99.655561,-100.943528,-100.420636,-99.894557,-101.055406,-101.273809,-101.248559,-102.455579],\"xaxis\":\"x\",\"y\":[42.53,39.09,35.0,42.53,35.0,43.94,43.94,42.4,42.4,39.09,45.4,45.4,35.96666667,36.871944,41.2,39.070856,41.78506667,31.48,40.15,40.16,40.87,41.61,42.88,43.51,43.55,44.04,44.26,47.05,39.1,44.8,22.246529,23.601688,22.644511,22.64831,23.254883,23.204697,23.737999,22.352438],\"yaxis\":\"y\",\"type\":\"scatter\"},{\"hovertemplate\":\"symbol=7<br>Longitude=%{x}<br>Latitude=%{y}<br>Ecosystem_type=%{marker.color}<extra></extra>\",\"legendgroup\":\"7\",\"marker\":{\"color\":[5,1,2,5,5,5,1,1,1,1,1,1,1,1,1,1,4,6,4,4,4,6,4,4,4,4,4],\"coloraxis\":\"coloraxis\",\"symbol\":\"x\"},\"mode\":\"markers\",\"name\":\"7\",\"orientation\":\"v\",\"showlegend\":true,\"x\":[-122.26,-105.37,-105.37,-123.38,-120.24,-121.9680169,-111.00378,-111.00378,-111.00378,-111.00378,-111.00378,-111.00378,-111.00378,-111.00378,-111.00378,-111.00378,-106.7333333,-112.552224,-109.710268,-109.910049,-111.696845,-112.02167,-109.413583,-110.516686,-111.856829,-115.79572,-115.811803],\"xaxis\":\"x\",\"y\":[44.21,39.99,39.99,48.46,39.43,44.27668543,45.573646,45.573646,45.573646,45.573646,45.573646,45.573646,45.573646,45.573646,45.573646,45.573646,34.33333333,37.113448,38.173514,37.581928,37.086092,37.507278,37.730413,38.003108,36.685466,33.754262,33.750666],\"yaxis\":\"y\",\"type\":\"scatter\"},{\"hovertemplate\":\"symbol=5<br>Longitude=%{x}<br>Latitude=%{y}<br>Ecosystem_type=%{marker.color}<extra></extra>\",\"legendgroup\":\"5\",\"marker\":{\"color\":[5,8,8,8,8,8,8,8,6],\"coloraxis\":\"coloraxis\",\"symbol\":\"cross\"},\"mode\":\"markers\",\"name\":\"5\",\"orientation\":\"v\",\"showlegend\":true,\"x\":[-65.8,-65.8,-79.7442,-79.7427,-79.771875,-71.23333333,-79.8553,-79.7453,-69.946911],\"xaxis\":\"x\",\"y\":[18.3,18.3,9.1565,9.16093,9.15761,-12.63333333,9.15125,9.16176,9.666497],\"yaxis\":\"y\",\"type\":\"scatter\"},{\"hovertemplate\":\"symbol=6<br>Longitude=%{x}<br>Latitude=%{y}<br>Ecosystem_type=%{marker.color}<extra></extra>\",\"legendgroup\":\"6\",\"marker\":{\"color\":[5,5,5],\"coloraxis\":\"coloraxis\",\"symbol\":\"circle\"},\"mode\":\"markers\",\"name\":\"6\",\"orientation\":\"v\",\"showlegend\":true,\"x\":[30.71573,30.29174,30.4],\"xaxis\":\"x\",\"y\":[-29.81161,-29.28424,-29.67],\"yaxis\":\"y\",\"type\":\"scatter\"},{\"hovertemplate\":\"symbol=1<br>Longitude=%{x}<br>Latitude=%{y}<br>Ecosystem_type=%{marker.color}<extra></extra>\",\"legendgroup\":\"1\",\"marker\":{\"color\":[5,3,3,3,3,3,3,3,3,3,3,3,3,3,3,3,3,3,3,3,3,3,3,3,3,3,3,3,3,3,3,3,3,3,3,3,3,3,3,3,3,3,3,7,7,7,7,7,7,3,3,3,3,3,3,3,3,3,3,3,3,4,4,7,3,3,7,7,7,7,7,7,7,7,7,7,7,7,7,3,3,7,7,3,3],\"coloraxis\":\"coloraxis\",\"symbol\":\"diamond\"},\"mode\":\"markers\",\"name\":\"1\",\"orientation\":\"v\",\"showlegend\":true,\"x\":[151.139517,117.610853,146.212,146.197,145.759,144.525,145.786,146.347,144.816,144.833,146.187,144.878,144.827,144.819,145.582,145.596,146.38558,145.758459,145.55909,145.747545,145.25161,145.261715,145.591506,145.613197,145.765813,145.774749,145.698279,145.631861,145.637641,146.481861,146.490617,145.992029,145.90637,146.465998,145.5878,145.88378,145.67999,145.2644,145.97622,145.96507,145.829136,145.788243,145.779652,145.891286,145.87919,145.74798,145.685582,145.6486,145.601954,144.614926,144.580937,144.574145,144.647202,145.70554,144.5354,144.52706,142.556909,142.481679,142.508839,142.460103,142.686154,146.309722,147.707778,147.388211,146.208538,146.308989,146.576361111111,146.919987,147.422757,149.88757,150.862162,150.771211,148.919106,148.947758,148.609224,148.172742,148.203347,148.164342,150.238876,145.726367,146.071294,150.99395,151.057451,142.0837778,142.20495],\"xaxis\":\"x\",\"y\":[-27.734896,-31.782138,-34.7118,-34.7133,-33.3576,-35.3443,-34.5205,-34.6507,-35.4101,-35.4128,-34.5303,-35.504,-35.494,-35.4895,-33.4569,-33.4563,-34.5578,-33.35119,-33.47484,-33.346019,-31.8654,-31.844558,-32.633899,-32.640211,-33.99013,-33.984529,-33.993636,-33.797051,-33.794211,-34.798363,-34.825074,-34.76219,-34.747744,-34.811983,-33.8422,-34.7974,-32.62636,-31.875593,-34.554395,-34.557097,-34.556716,-34.56556,-34.538107,-35.934712,-35.950539,-35.953218,-35.9228,-35.884732,-35.864302,-35.358242,-35.351175,-35.329233,-35.350591,-34.5239,-35.3858,-35.3523,-34.204296,-34.24777,-34.018527,-33.960183,-33.931135,-31.556111,-31.8575,-33.844892,-34.357823,-34.415466,-34.2837222222222,-34.346187,-34.435437,-34.743692,-33.654888,-33.621635,-34.362568,-33.981005,-33.833655,-33.505705,-33.729918,-33.324038,-34.506477,-34.0,-34.254023,-33.909637,-33.982,-34.127508,-34.158906],\"yaxis\":\"y\",\"type\":\"scatter\"},{\"hovertemplate\":\"symbol=2<br>Longitude=%{x}<br>Latitude=%{y}<br>Ecosystem_type=%{marker.color}<extra></extra>\",\"legendgroup\":\"2\",\"marker\":{\"color\":[2,5,5,5,5,5,5,5,5,5,5,5,5,5,5,5,5,4,5,5,5,5,5,5,4,4,5,4,5,4,4,4,4,6,4,6,4,6,6,6,4,4,4,4,4,4],\"coloraxis\":\"coloraxis\",\"symbol\":\"square\"},\"mode\":\"markers\",\"name\":\"2\",\"orientation\":\"v\",\"showlegend\":true,\"x\":[10.372252,-2.285400608,-2.067171822,-2.0793194,-2.0077184,-2.0332443,-2.9004561,-2.3406767,-3.875976,-4.427518,0.81922022,-2.0036085,-2.422588,-2.372904,-2.192604,-3.373502,-3.638859,-1.999301,-3.558751,-2.728708,-3.464915,-2.2306,-2.900725,-3.419164,-3.618947,-1.673747,-2.514767,-1.199478,-2.877436,-1.717695,-1.836988,-1.784601,-0.963246,-3.388677,-1.232379,-1.802287,-1.527039,-2.345141,-2.879354,-2.039614,9.647121,8.673783,9.97436,9.116646,9.717897,10.498595],\"xaxis\":\"x\",\"y\":[46.631345,52.04949371,52.17127185,52.243108,52.249886,52.281878,51.065861,54.168173,50.808636,50.835199,52.440139,51.814047,33.052487,34.159182,34.430867,33.976574,34.473045,34.309672,33.932621,33.06768,34.625548,39.048208,40.068228,40.208781,39.992036,37.821156,39.207539,38.588606,40.354792,38.791855,37.721332,37.726728,38.308579,40.36936,37.593066,39.538668,38.065532,39.127509,40.018028,37.6339,34.494253,35.167767,33.52157,35.160036,34.956452,32.98347],\"yaxis\":\"y\",\"type\":\"scatter\"},{\"hovertemplate\":\"symbol=3<br>Longitude=%{x}<br>Latitude=%{y}<br>Ecosystem_type=%{marker.color}<extra></extra>\",\"legendgroup\":\"3\",\"marker\":{\"color\":[0,2,2,2,4,4],\"coloraxis\":\"coloraxis\",\"symbol\":\"x\"},\"mode\":\"markers\",\"name\":\"3\",\"orientation\":\"v\",\"showlegend\":true,\"x\":[119.177417,118.403778,117.272139,116.994528,116.786556,116.015833],\"xaxis\":\"x\",\"y\":[49.262694,49.494333,49.525333,49.031528,48.609778,48.223083],\"yaxis\":\"y\",\"type\":\"scatter\"},{\"hovertemplate\":\"symbol=8<br>Longitude=%{x}<br>Latitude=%{y}<br>Ecosystem_type=%{marker.color}<extra></extra>\",\"legendgroup\":\"8\",\"marker\":{\"color\":[6,4,6,4],\"coloraxis\":\"coloraxis\",\"symbol\":\"cross\"},\"mode\":\"markers\",\"name\":\"8\",\"orientation\":\"v\",\"showlegend\":true,\"x\":[58.6695,56.560944,58.109556,34.820866],\"xaxis\":\"x\",\"y\":[36.696167,37.371111,37.429083,31.35779],\"yaxis\":\"y\",\"type\":\"scatter\"}],                        {\"template\":{\"data\":{\"histogram2dcontour\":[{\"type\":\"histogram2dcontour\",\"colorbar\":{\"outlinewidth\":0,\"ticks\":\"\"},\"colorscale\":[[0.0,\"#0d0887\"],[0.1111111111111111,\"#46039f\"],[0.2222222222222222,\"#7201a8\"],[0.3333333333333333,\"#9c179e\"],[0.4444444444444444,\"#bd3786\"],[0.5555555555555556,\"#d8576b\"],[0.6666666666666666,\"#ed7953\"],[0.7777777777777778,\"#fb9f3a\"],[0.8888888888888888,\"#fdca26\"],[1.0,\"#f0f921\"]]}],\"choropleth\":[{\"type\":\"choropleth\",\"colorbar\":{\"outlinewidth\":0,\"ticks\":\"\"}}],\"histogram2d\":[{\"type\":\"histogram2d\",\"colorbar\":{\"outlinewidth\":0,\"ticks\":\"\"},\"colorscale\":[[0.0,\"#0d0887\"],[0.1111111111111111,\"#46039f\"],[0.2222222222222222,\"#7201a8\"],[0.3333333333333333,\"#9c179e\"],[0.4444444444444444,\"#bd3786\"],[0.5555555555555556,\"#d8576b\"],[0.6666666666666666,\"#ed7953\"],[0.7777777777777778,\"#fb9f3a\"],[0.8888888888888888,\"#fdca26\"],[1.0,\"#f0f921\"]]}],\"heatmap\":[{\"type\":\"heatmap\",\"colorbar\":{\"outlinewidth\":0,\"ticks\":\"\"},\"colorscale\":[[0.0,\"#0d0887\"],[0.1111111111111111,\"#46039f\"],[0.2222222222222222,\"#7201a8\"],[0.3333333333333333,\"#9c179e\"],[0.4444444444444444,\"#bd3786\"],[0.5555555555555556,\"#d8576b\"],[0.6666666666666666,\"#ed7953\"],[0.7777777777777778,\"#fb9f3a\"],[0.8888888888888888,\"#fdca26\"],[1.0,\"#f0f921\"]]}],\"heatmapgl\":[{\"type\":\"heatmapgl\",\"colorbar\":{\"outlinewidth\":0,\"ticks\":\"\"},\"colorscale\":[[0.0,\"#0d0887\"],[0.1111111111111111,\"#46039f\"],[0.2222222222222222,\"#7201a8\"],[0.3333333333333333,\"#9c179e\"],[0.4444444444444444,\"#bd3786\"],[0.5555555555555556,\"#d8576b\"],[0.6666666666666666,\"#ed7953\"],[0.7777777777777778,\"#fb9f3a\"],[0.8888888888888888,\"#fdca26\"],[1.0,\"#f0f921\"]]}],\"contourcarpet\":[{\"type\":\"contourcarpet\",\"colorbar\":{\"outlinewidth\":0,\"ticks\":\"\"}}],\"contour\":[{\"type\":\"contour\",\"colorbar\":{\"outlinewidth\":0,\"ticks\":\"\"},\"colorscale\":[[0.0,\"#0d0887\"],[0.1111111111111111,\"#46039f\"],[0.2222222222222222,\"#7201a8\"],[0.3333333333333333,\"#9c179e\"],[0.4444444444444444,\"#bd3786\"],[0.5555555555555556,\"#d8576b\"],[0.6666666666666666,\"#ed7953\"],[0.7777777777777778,\"#fb9f3a\"],[0.8888888888888888,\"#fdca26\"],[1.0,\"#f0f921\"]]}],\"surface\":[{\"type\":\"surface\",\"colorbar\":{\"outlinewidth\":0,\"ticks\":\"\"},\"colorscale\":[[0.0,\"#0d0887\"],[0.1111111111111111,\"#46039f\"],[0.2222222222222222,\"#7201a8\"],[0.3333333333333333,\"#9c179e\"],[0.4444444444444444,\"#bd3786\"],[0.5555555555555556,\"#d8576b\"],[0.6666666666666666,\"#ed7953\"],[0.7777777777777778,\"#fb9f3a\"],[0.8888888888888888,\"#fdca26\"],[1.0,\"#f0f921\"]]}],\"mesh3d\":[{\"type\":\"mesh3d\",\"colorbar\":{\"outlinewidth\":0,\"ticks\":\"\"}}],\"scatter\":[{\"fillpattern\":{\"fillmode\":\"overlay\",\"size\":10,\"solidity\":0.2},\"type\":\"scatter\"}],\"parcoords\":[{\"type\":\"parcoords\",\"line\":{\"colorbar\":{\"outlinewidth\":0,\"ticks\":\"\"}}}],\"scatterpolargl\":[{\"type\":\"scatterpolargl\",\"marker\":{\"colorbar\":{\"outlinewidth\":0,\"ticks\":\"\"}}}],\"bar\":[{\"error_x\":{\"color\":\"#2a3f5f\"},\"error_y\":{\"color\":\"#2a3f5f\"},\"marker\":{\"line\":{\"color\":\"#E5ECF6\",\"width\":0.5},\"pattern\":{\"fillmode\":\"overlay\",\"size\":10,\"solidity\":0.2}},\"type\":\"bar\"}],\"scattergeo\":[{\"type\":\"scattergeo\",\"marker\":{\"colorbar\":{\"outlinewidth\":0,\"ticks\":\"\"}}}],\"scatterpolar\":[{\"type\":\"scatterpolar\",\"marker\":{\"colorbar\":{\"outlinewidth\":0,\"ticks\":\"\"}}}],\"histogram\":[{\"marker\":{\"pattern\":{\"fillmode\":\"overlay\",\"size\":10,\"solidity\":0.2}},\"type\":\"histogram\"}],\"scattergl\":[{\"type\":\"scattergl\",\"marker\":{\"colorbar\":{\"outlinewidth\":0,\"ticks\":\"\"}}}],\"scatter3d\":[{\"type\":\"scatter3d\",\"line\":{\"colorbar\":{\"outlinewidth\":0,\"ticks\":\"\"}},\"marker\":{\"colorbar\":{\"outlinewidth\":0,\"ticks\":\"\"}}}],\"scattermapbox\":[{\"type\":\"scattermapbox\",\"marker\":{\"colorbar\":{\"outlinewidth\":0,\"ticks\":\"\"}}}],\"scatterternary\":[{\"type\":\"scatterternary\",\"marker\":{\"colorbar\":{\"outlinewidth\":0,\"ticks\":\"\"}}}],\"scattercarpet\":[{\"type\":\"scattercarpet\",\"marker\":{\"colorbar\":{\"outlinewidth\":0,\"ticks\":\"\"}}}],\"carpet\":[{\"aaxis\":{\"endlinecolor\":\"#2a3f5f\",\"gridcolor\":\"white\",\"linecolor\":\"white\",\"minorgridcolor\":\"white\",\"startlinecolor\":\"#2a3f5f\"},\"baxis\":{\"endlinecolor\":\"#2a3f5f\",\"gridcolor\":\"white\",\"linecolor\":\"white\",\"minorgridcolor\":\"white\",\"startlinecolor\":\"#2a3f5f\"},\"type\":\"carpet\"}],\"table\":[{\"cells\":{\"fill\":{\"color\":\"#EBF0F8\"},\"line\":{\"color\":\"white\"}},\"header\":{\"fill\":{\"color\":\"#C8D4E3\"},\"line\":{\"color\":\"white\"}},\"type\":\"table\"}],\"barpolar\":[{\"marker\":{\"line\":{\"color\":\"#E5ECF6\",\"width\":0.5},\"pattern\":{\"fillmode\":\"overlay\",\"size\":10,\"solidity\":0.2}},\"type\":\"barpolar\"}],\"pie\":[{\"automargin\":true,\"type\":\"pie\"}]},\"layout\":{\"autotypenumbers\":\"strict\",\"colorway\":[\"#636efa\",\"#EF553B\",\"#00cc96\",\"#ab63fa\",\"#FFA15A\",\"#19d3f3\",\"#FF6692\",\"#B6E880\",\"#FF97FF\",\"#FECB52\"],\"font\":{\"color\":\"#2a3f5f\"},\"hovermode\":\"closest\",\"hoverlabel\":{\"align\":\"left\"},\"paper_bgcolor\":\"white\",\"plot_bgcolor\":\"#E5ECF6\",\"polar\":{\"bgcolor\":\"#E5ECF6\",\"angularaxis\":{\"gridcolor\":\"white\",\"linecolor\":\"white\",\"ticks\":\"\"},\"radialaxis\":{\"gridcolor\":\"white\",\"linecolor\":\"white\",\"ticks\":\"\"}},\"ternary\":{\"bgcolor\":\"#E5ECF6\",\"aaxis\":{\"gridcolor\":\"white\",\"linecolor\":\"white\",\"ticks\":\"\"},\"baxis\":{\"gridcolor\":\"white\",\"linecolor\":\"white\",\"ticks\":\"\"},\"caxis\":{\"gridcolor\":\"white\",\"linecolor\":\"white\",\"ticks\":\"\"}},\"coloraxis\":{\"colorbar\":{\"outlinewidth\":0,\"ticks\":\"\"}},\"colorscale\":{\"sequential\":[[0.0,\"#0d0887\"],[0.1111111111111111,\"#46039f\"],[0.2222222222222222,\"#7201a8\"],[0.3333333333333333,\"#9c179e\"],[0.4444444444444444,\"#bd3786\"],[0.5555555555555556,\"#d8576b\"],[0.6666666666666666,\"#ed7953\"],[0.7777777777777778,\"#fb9f3a\"],[0.8888888888888888,\"#fdca26\"],[1.0,\"#f0f921\"]],\"sequentialminus\":[[0.0,\"#0d0887\"],[0.1111111111111111,\"#46039f\"],[0.2222222222222222,\"#7201a8\"],[0.3333333333333333,\"#9c179e\"],[0.4444444444444444,\"#bd3786\"],[0.5555555555555556,\"#d8576b\"],[0.6666666666666666,\"#ed7953\"],[0.7777777777777778,\"#fb9f3a\"],[0.8888888888888888,\"#fdca26\"],[1.0,\"#f0f921\"]],\"diverging\":[[0,\"#8e0152\"],[0.1,\"#c51b7d\"],[0.2,\"#de77ae\"],[0.3,\"#f1b6da\"],[0.4,\"#fde0ef\"],[0.5,\"#f7f7f7\"],[0.6,\"#e6f5d0\"],[0.7,\"#b8e186\"],[0.8,\"#7fbc41\"],[0.9,\"#4d9221\"],[1,\"#276419\"]]},\"xaxis\":{\"gridcolor\":\"white\",\"linecolor\":\"white\",\"ticks\":\"\",\"title\":{\"standoff\":15},\"zerolinecolor\":\"white\",\"automargin\":true,\"zerolinewidth\":2},\"yaxis\":{\"gridcolor\":\"white\",\"linecolor\":\"white\",\"ticks\":\"\",\"title\":{\"standoff\":15},\"zerolinecolor\":\"white\",\"automargin\":true,\"zerolinewidth\":2},\"scene\":{\"xaxis\":{\"backgroundcolor\":\"#E5ECF6\",\"gridcolor\":\"white\",\"linecolor\":\"white\",\"showbackground\":true,\"ticks\":\"\",\"zerolinecolor\":\"white\",\"gridwidth\":2},\"yaxis\":{\"backgroundcolor\":\"#E5ECF6\",\"gridcolor\":\"white\",\"linecolor\":\"white\",\"showbackground\":true,\"ticks\":\"\",\"zerolinecolor\":\"white\",\"gridwidth\":2},\"zaxis\":{\"backgroundcolor\":\"#E5ECF6\",\"gridcolor\":\"white\",\"linecolor\":\"white\",\"showbackground\":true,\"ticks\":\"\",\"zerolinecolor\":\"white\",\"gridwidth\":2}},\"shapedefaults\":{\"line\":{\"color\":\"#2a3f5f\"}},\"annotationdefaults\":{\"arrowcolor\":\"#2a3f5f\",\"arrowhead\":0,\"arrowwidth\":1},\"geo\":{\"bgcolor\":\"white\",\"landcolor\":\"#E5ECF6\",\"subunitcolor\":\"white\",\"showland\":true,\"showlakes\":true,\"lakecolor\":\"white\"},\"title\":{\"x\":0.05},\"mapbox\":{\"style\":\"light\"}}},\"xaxis\":{\"anchor\":\"y\",\"domain\":[0.0,1.0],\"title\":{\"text\":\"Longitude\"}},\"yaxis\":{\"anchor\":\"x\",\"domain\":[0.0,1.0],\"title\":{\"text\":\"Latitude\"}},\"coloraxis\":{\"colorbar\":{\"title\":{\"text\":\"Ecosystem_type\"}},\"colorscale\":[[0.0,\"#0d0887\"],[0.1111111111111111,\"#46039f\"],[0.2222222222222222,\"#7201a8\"],[0.3333333333333333,\"#9c179e\"],[0.4444444444444444,\"#bd3786\"],[0.5555555555555556,\"#d8576b\"],[0.6666666666666666,\"#ed7953\"],[0.7777777777777778,\"#fb9f3a\"],[0.8888888888888888,\"#fdca26\"],[1.0,\"#f0f921\"]]},\"legend\":{\"title\":{\"text\":\"symbol\"},\"tracegroupgap\":0},\"margin\":{\"t\":60}},                        {\"responsive\": true}                    ).then(function(){\n",
       "                            \n",
       "var gd = document.getElementById('cb5ca44d-04d7-41b3-bc09-139b61ee71bf');\n",
       "var x = new MutationObserver(function (mutations, observer) {{\n",
       "        var display = window.getComputedStyle(gd).display;\n",
       "        if (!display || display === 'none') {{\n",
       "            console.log([gd, 'removed!']);\n",
       "            Plotly.purge(gd);\n",
       "            observer.disconnect();\n",
       "        }}\n",
       "}});\n",
       "\n",
       "// Listen for the removal of the full notebook cells\n",
       "var notebookContainer = gd.closest('#notebook-container');\n",
       "if (notebookContainer) {{\n",
       "    x.observe(notebookContainer, {childList: true});\n",
       "}}\n",
       "\n",
       "// Listen for the clearing of the current output cell\n",
       "var outputEl = gd.closest('.output');\n",
       "if (outputEl) {{\n",
       "    x.observe(outputEl, {childList: true});\n",
       "}}\n",
       "\n",
       "                        })                };                });            </script>        </div>"
      ]
     },
     "metadata": {},
     "output_type": "display_data"
    }
   ],
   "source": [
    "df3 = pd.DataFrame(df, columns=['Longitude', 'Latitude', 'Ecosystem_type'])\n",
    "lb_make = LabelEncoder()\n",
    "df3['Ecosystem_type'] = lb_make.fit_transform(df3['Ecosystem_type'])\n",
    "kmeans = KMeans(n_clusters=10).fit_predict(df3)\n",
    "px.scatter(df3, x='Longitude', y=\"Latitude\", color=\"Ecosystem_type\", symbol=kmeans)"
   ]
  },
  {
   "cell_type": "code",
   "execution_count": 5,
   "id": "85887bac-7331-4dd5-be9b-f75fcb8b1c6f",
   "metadata": {},
   "outputs": [
    {
     "data": {
      "text/plain": [
       "{'Boreal',\n",
       " 'Cold forests',\n",
       " 'Cold grasslands',\n",
       " 'Dry forests',\n",
       " 'Dry grasslands',\n",
       " 'Grasslands',\n",
       " 'Shrublands',\n",
       " 'Temperate forests',\n",
       " 'Tropical forests'}"
      ]
     },
     "execution_count": 5,
     "metadata": {},
     "output_type": "execute_result"
    }
   ],
   "source": [
    "ecosistema = set(lb_make.inverse_transform(df3['Ecosystem_type']))\n",
    "ecosistema"
   ]
  },
  {
   "cell_type": "code",
   "execution_count": null,
   "id": "56193a05-9057-4543-97cd-e5395a787c92",
   "metadata": {},
   "outputs": [],
   "source": [
    "# crear nuevas etiquetas ??"
   ]
  },
  {
   "cell_type": "code",
   "execution_count": null,
   "id": "1c17d7ef-145f-4ff0-abe8-fed34e0db9cf",
   "metadata": {},
   "outputs": [],
   "source": []
  },
  {
   "cell_type": "code",
   "execution_count": null,
   "id": "c8dd4274-3251-46c3-94cd-ef64eb531f72",
   "metadata": {},
   "outputs": [],
   "source": []
  },
  {
   "cell_type": "markdown",
   "id": "9d778b3b-6cd7-4e04-847c-f79f48c33bd3",
   "metadata": {},
   "source": [
    "# KNN"
   ]
  },
  {
   "cell_type": "code",
   "execution_count": null,
   "id": "e3b77549-8c84-45c1-8112-970091924e31",
   "metadata": {},
   "outputs": [],
   "source": []
  },
  {
   "cell_type": "code",
   "execution_count": null,
   "id": "90f53830-883d-405b-a157-58b88740388a",
   "metadata": {},
   "outputs": [],
   "source": []
  },
  {
   "cell_type": "code",
   "execution_count": null,
   "id": "f135c3b1-7249-4878-97e5-4aef44a08cab",
   "metadata": {},
   "outputs": [],
   "source": []
  },
  {
   "cell_type": "code",
   "execution_count": null,
   "id": "018a91a4-7f81-46c1-9279-8c883f091a67",
   "metadata": {},
   "outputs": [],
   "source": []
  },
  {
   "cell_type": "code",
   "execution_count": null,
   "id": "448b526c-5528-4175-9bc4-0bd9d41a61c4",
   "metadata": {},
   "outputs": [],
   "source": []
  },
  {
   "cell_type": "code",
   "execution_count": null,
   "id": "88e85c78-ef2d-4596-8333-1c81a3822c93",
   "metadata": {},
   "outputs": [],
   "source": []
  },
  {
   "cell_type": "code",
   "execution_count": null,
   "id": "42a096a9-3560-4d00-889f-b04c0bffd31c",
   "metadata": {},
   "outputs": [],
   "source": []
  },
  {
   "cell_type": "markdown",
   "id": "9d0d2136-dbd5-4716-a75b-4ea63794fa2f",
   "metadata": {},
   "source": [
    "# Linage taxonomico completo "
   ]
  },
  {
   "cell_type": "markdown",
   "id": "7a79c4ef-4485-4a84-96b6-f30afb356767",
   "metadata": {},
   "source": [
    "[NCBI en Python](http://etetoolkit.org/docs/2.3/tutorial/tutorial_ncbitaxonomy.html)"
   ]
  },
  {
   "cell_type": "code",
   "execution_count": 6,
   "id": "3a210072-6f78-46be-b009-e0b404261fdb",
   "metadata": {},
   "outputs": [
    {
     "ename": "FileNotFoundError",
     "evalue": "[Errno 2] No such file or directory: '/home/csilva/GIT/2022_Hackaton/Data/GlobalAtlas-16S/aap9516_Table_S1_v2.xlsx'",
     "output_type": "error",
     "traceback": [
      "\u001b[0;31m---------------------------------------------------------------------------\u001b[0m",
      "\u001b[0;31mFileNotFoundError\u001b[0m                         Traceback (most recent call last)",
      "Cell \u001b[0;32mIn[6], line 1\u001b[0m\n\u001b[0;32m----> 1\u001b[0m df_OTUs \u001b[38;5;241m=\u001b[39m \u001b[43mpd\u001b[49m\u001b[38;5;241;43m.\u001b[39;49m\u001b[43mread_excel\u001b[49m\u001b[43m(\u001b[49m\u001b[38;5;124;43m'\u001b[39;49m\u001b[38;5;124;43m/home/csilva/GIT/2022_Hackaton/Data/GlobalAtlas-16S/aap9516_Table_S1_v2.xlsx\u001b[39;49m\u001b[38;5;124;43m'\u001b[39;49m\u001b[43m)\u001b[49m\n",
      "File \u001b[0;32m/miniconda3/lib/python3.10/site-packages/pandas/util/_decorators.py:211\u001b[0m, in \u001b[0;36mdeprecate_kwarg.<locals>._deprecate_kwarg.<locals>.wrapper\u001b[0;34m(*args, **kwargs)\u001b[0m\n\u001b[1;32m    209\u001b[0m     \u001b[38;5;28;01melse\u001b[39;00m:\n\u001b[1;32m    210\u001b[0m         kwargs[new_arg_name] \u001b[38;5;241m=\u001b[39m new_arg_value\n\u001b[0;32m--> 211\u001b[0m \u001b[38;5;28;01mreturn\u001b[39;00m \u001b[43mfunc\u001b[49m\u001b[43m(\u001b[49m\u001b[38;5;241;43m*\u001b[39;49m\u001b[43margs\u001b[49m\u001b[43m,\u001b[49m\u001b[43m \u001b[49m\u001b[38;5;241;43m*\u001b[39;49m\u001b[38;5;241;43m*\u001b[39;49m\u001b[43mkwargs\u001b[49m\u001b[43m)\u001b[49m\n",
      "File \u001b[0;32m/miniconda3/lib/python3.10/site-packages/pandas/util/_decorators.py:331\u001b[0m, in \u001b[0;36mdeprecate_nonkeyword_arguments.<locals>.decorate.<locals>.wrapper\u001b[0;34m(*args, **kwargs)\u001b[0m\n\u001b[1;32m    325\u001b[0m \u001b[38;5;28;01mif\u001b[39;00m \u001b[38;5;28mlen\u001b[39m(args) \u001b[38;5;241m>\u001b[39m num_allow_args:\n\u001b[1;32m    326\u001b[0m     warnings\u001b[38;5;241m.\u001b[39mwarn(\n\u001b[1;32m    327\u001b[0m         msg\u001b[38;5;241m.\u001b[39mformat(arguments\u001b[38;5;241m=\u001b[39m_format_argument_list(allow_args)),\n\u001b[1;32m    328\u001b[0m         \u001b[38;5;167;01mFutureWarning\u001b[39;00m,\n\u001b[1;32m    329\u001b[0m         stacklevel\u001b[38;5;241m=\u001b[39mfind_stack_level(),\n\u001b[1;32m    330\u001b[0m     )\n\u001b[0;32m--> 331\u001b[0m \u001b[38;5;28;01mreturn\u001b[39;00m \u001b[43mfunc\u001b[49m\u001b[43m(\u001b[49m\u001b[38;5;241;43m*\u001b[39;49m\u001b[43margs\u001b[49m\u001b[43m,\u001b[49m\u001b[43m \u001b[49m\u001b[38;5;241;43m*\u001b[39;49m\u001b[38;5;241;43m*\u001b[39;49m\u001b[43mkwargs\u001b[49m\u001b[43m)\u001b[49m\n",
      "File \u001b[0;32m/miniconda3/lib/python3.10/site-packages/pandas/io/excel/_base.py:482\u001b[0m, in \u001b[0;36mread_excel\u001b[0;34m(io, sheet_name, header, names, index_col, usecols, squeeze, dtype, engine, converters, true_values, false_values, skiprows, nrows, na_values, keep_default_na, na_filter, verbose, parse_dates, date_parser, thousands, decimal, comment, skipfooter, convert_float, mangle_dupe_cols, storage_options)\u001b[0m\n\u001b[1;32m    480\u001b[0m \u001b[38;5;28;01mif\u001b[39;00m \u001b[38;5;129;01mnot\u001b[39;00m \u001b[38;5;28misinstance\u001b[39m(io, ExcelFile):\n\u001b[1;32m    481\u001b[0m     should_close \u001b[38;5;241m=\u001b[39m \u001b[38;5;28;01mTrue\u001b[39;00m\n\u001b[0;32m--> 482\u001b[0m     io \u001b[38;5;241m=\u001b[39m \u001b[43mExcelFile\u001b[49m\u001b[43m(\u001b[49m\u001b[43mio\u001b[49m\u001b[43m,\u001b[49m\u001b[43m \u001b[49m\u001b[43mstorage_options\u001b[49m\u001b[38;5;241;43m=\u001b[39;49m\u001b[43mstorage_options\u001b[49m\u001b[43m,\u001b[49m\u001b[43m \u001b[49m\u001b[43mengine\u001b[49m\u001b[38;5;241;43m=\u001b[39;49m\u001b[43mengine\u001b[49m\u001b[43m)\u001b[49m\n\u001b[1;32m    483\u001b[0m \u001b[38;5;28;01melif\u001b[39;00m engine \u001b[38;5;129;01mand\u001b[39;00m engine \u001b[38;5;241m!=\u001b[39m io\u001b[38;5;241m.\u001b[39mengine:\n\u001b[1;32m    484\u001b[0m     \u001b[38;5;28;01mraise\u001b[39;00m \u001b[38;5;167;01mValueError\u001b[39;00m(\n\u001b[1;32m    485\u001b[0m         \u001b[38;5;124m\"\u001b[39m\u001b[38;5;124mEngine should not be specified when passing \u001b[39m\u001b[38;5;124m\"\u001b[39m\n\u001b[1;32m    486\u001b[0m         \u001b[38;5;124m\"\u001b[39m\u001b[38;5;124man ExcelFile - ExcelFile already has the engine set\u001b[39m\u001b[38;5;124m\"\u001b[39m\n\u001b[1;32m    487\u001b[0m     )\n",
      "File \u001b[0;32m/miniconda3/lib/python3.10/site-packages/pandas/io/excel/_base.py:1652\u001b[0m, in \u001b[0;36mExcelFile.__init__\u001b[0;34m(self, path_or_buffer, engine, storage_options)\u001b[0m\n\u001b[1;32m   1650\u001b[0m     ext \u001b[38;5;241m=\u001b[39m \u001b[38;5;124m\"\u001b[39m\u001b[38;5;124mxls\u001b[39m\u001b[38;5;124m\"\u001b[39m\n\u001b[1;32m   1651\u001b[0m \u001b[38;5;28;01melse\u001b[39;00m:\n\u001b[0;32m-> 1652\u001b[0m     ext \u001b[38;5;241m=\u001b[39m \u001b[43minspect_excel_format\u001b[49m\u001b[43m(\u001b[49m\n\u001b[1;32m   1653\u001b[0m \u001b[43m        \u001b[49m\u001b[43mcontent_or_path\u001b[49m\u001b[38;5;241;43m=\u001b[39;49m\u001b[43mpath_or_buffer\u001b[49m\u001b[43m,\u001b[49m\u001b[43m \u001b[49m\u001b[43mstorage_options\u001b[49m\u001b[38;5;241;43m=\u001b[39;49m\u001b[43mstorage_options\u001b[49m\n\u001b[1;32m   1654\u001b[0m \u001b[43m    \u001b[49m\u001b[43m)\u001b[49m\n\u001b[1;32m   1655\u001b[0m     \u001b[38;5;28;01mif\u001b[39;00m ext \u001b[38;5;129;01mis\u001b[39;00m \u001b[38;5;28;01mNone\u001b[39;00m:\n\u001b[1;32m   1656\u001b[0m         \u001b[38;5;28;01mraise\u001b[39;00m \u001b[38;5;167;01mValueError\u001b[39;00m(\n\u001b[1;32m   1657\u001b[0m             \u001b[38;5;124m\"\u001b[39m\u001b[38;5;124mExcel file format cannot be determined, you must specify \u001b[39m\u001b[38;5;124m\"\u001b[39m\n\u001b[1;32m   1658\u001b[0m             \u001b[38;5;124m\"\u001b[39m\u001b[38;5;124man engine manually.\u001b[39m\u001b[38;5;124m\"\u001b[39m\n\u001b[1;32m   1659\u001b[0m         )\n",
      "File \u001b[0;32m/miniconda3/lib/python3.10/site-packages/pandas/io/excel/_base.py:1525\u001b[0m, in \u001b[0;36minspect_excel_format\u001b[0;34m(content_or_path, storage_options)\u001b[0m\n\u001b[1;32m   1522\u001b[0m \u001b[38;5;28;01mif\u001b[39;00m \u001b[38;5;28misinstance\u001b[39m(content_or_path, \u001b[38;5;28mbytes\u001b[39m):\n\u001b[1;32m   1523\u001b[0m     content_or_path \u001b[38;5;241m=\u001b[39m BytesIO(content_or_path)\n\u001b[0;32m-> 1525\u001b[0m \u001b[38;5;28;01mwith\u001b[39;00m \u001b[43mget_handle\u001b[49m\u001b[43m(\u001b[49m\n\u001b[1;32m   1526\u001b[0m \u001b[43m    \u001b[49m\u001b[43mcontent_or_path\u001b[49m\u001b[43m,\u001b[49m\u001b[43m \u001b[49m\u001b[38;5;124;43m\"\u001b[39;49m\u001b[38;5;124;43mrb\u001b[39;49m\u001b[38;5;124;43m\"\u001b[39;49m\u001b[43m,\u001b[49m\u001b[43m \u001b[49m\u001b[43mstorage_options\u001b[49m\u001b[38;5;241;43m=\u001b[39;49m\u001b[43mstorage_options\u001b[49m\u001b[43m,\u001b[49m\u001b[43m \u001b[49m\u001b[43mis_text\u001b[49m\u001b[38;5;241;43m=\u001b[39;49m\u001b[38;5;28;43;01mFalse\u001b[39;49;00m\n\u001b[1;32m   1527\u001b[0m \u001b[43m\u001b[49m\u001b[43m)\u001b[49m \u001b[38;5;28;01mas\u001b[39;00m handle:\n\u001b[1;32m   1528\u001b[0m     stream \u001b[38;5;241m=\u001b[39m handle\u001b[38;5;241m.\u001b[39mhandle\n\u001b[1;32m   1529\u001b[0m     stream\u001b[38;5;241m.\u001b[39mseek(\u001b[38;5;241m0\u001b[39m)\n",
      "File \u001b[0;32m/miniconda3/lib/python3.10/site-packages/pandas/io/common.py:865\u001b[0m, in \u001b[0;36mget_handle\u001b[0;34m(path_or_buf, mode, encoding, compression, memory_map, is_text, errors, storage_options)\u001b[0m\n\u001b[1;32m    856\u001b[0m         handle \u001b[38;5;241m=\u001b[39m \u001b[38;5;28mopen\u001b[39m(\n\u001b[1;32m    857\u001b[0m             handle,\n\u001b[1;32m    858\u001b[0m             ioargs\u001b[38;5;241m.\u001b[39mmode,\n\u001b[0;32m   (...)\u001b[0m\n\u001b[1;32m    861\u001b[0m             newline\u001b[38;5;241m=\u001b[39m\u001b[38;5;124m\"\u001b[39m\u001b[38;5;124m\"\u001b[39m,\n\u001b[1;32m    862\u001b[0m         )\n\u001b[1;32m    863\u001b[0m     \u001b[38;5;28;01melse\u001b[39;00m:\n\u001b[1;32m    864\u001b[0m         \u001b[38;5;66;03m# Binary mode\u001b[39;00m\n\u001b[0;32m--> 865\u001b[0m         handle \u001b[38;5;241m=\u001b[39m \u001b[38;5;28;43mopen\u001b[39;49m\u001b[43m(\u001b[49m\u001b[43mhandle\u001b[49m\u001b[43m,\u001b[49m\u001b[43m \u001b[49m\u001b[43mioargs\u001b[49m\u001b[38;5;241;43m.\u001b[39;49m\u001b[43mmode\u001b[49m\u001b[43m)\u001b[49m\n\u001b[1;32m    866\u001b[0m     handles\u001b[38;5;241m.\u001b[39mappend(handle)\n\u001b[1;32m    868\u001b[0m \u001b[38;5;66;03m# Convert BytesIO or file objects passed with an encoding\u001b[39;00m\n",
      "\u001b[0;31mFileNotFoundError\u001b[0m: [Errno 2] No such file or directory: '/home/csilva/GIT/2022_Hackaton/Data/GlobalAtlas-16S/aap9516_Table_S1_v2.xlsx'"
     ]
    }
   ],
   "source": [
    "df_OTUs = pd.read_excel('/home/shaday/GIT/ccm-bioinfomatica-lab/221119Hackaton/geo-mix/data/aap9516_Table_S1_v2.xlsx')"
   ]
  },
  {
   "cell_type": "code",
   "execution_count": 65,
   "id": "fc7ebf06-0a70-4e54-9f5e-69e4782c7bb6",
   "metadata": {
    "tags": []
   },
   "outputs": [
    {
     "data": {
      "text/plain": [
       "Index(['ID', 'Taxa', 'Phyla', 'Class', 'Order', 'Family', 'Genus', 'Species',\n",
       "       'NombreNCBI', 'TaxID', 'Abundance ', 'Ubiquity', 'Genome ID',\n",
       "       'Genome match ', 'Genome completeness', 'Isolate nº', 'Strain nº',\n",
       "       'Shotgun data', 'RF explained variation', 'RF Importance Aridity Index',\n",
       "       'RF Importance MAXT', 'RF Importance MDR', 'RF Importance MINT',\n",
       "       'RF Importance PSEA', 'RF Importance Net primary productivity',\n",
       "       'RF Importance Forests', 'RF Importance Grasslands',\n",
       "       'RF Importance UV light light', 'RF Importance Clay+Silt',\n",
       "       'RF Importance pH', 'RF Importance C', 'RF Importance N',\n",
       "       'RF Importance P', 'RF Importance C:N ratio', 'RF best predictor',\n",
       "       'PC Aridity Index', 'PC PSEA', 'PC MAXT', 'PC MDR', 'PC MINT',\n",
       "       'PC UV light', 'PC Net primary productivity', 'PC Grasslands',\n",
       "       'PC Forests', 'PC pH', 'PC Clay+Silt', 'PC C:N ratio', 'PC C', 'PC N',\n",
       "       'PC P', 'Ecological cluster', 'Reference sequence'],\n",
       "      dtype='object')"
      ]
     },
     "execution_count": 65,
     "metadata": {},
     "output_type": "execute_result"
    }
   ],
   "source": [
    "df_OTUs.columns"
   ]
  },
  {
   "cell_type": "code",
   "execution_count": 7,
   "id": "2c1daf81-0ae9-47cd-ae94-293b5cf87276",
   "metadata": {},
   "outputs": [],
   "source": [
    "# encuentra los linajes completos partiendo de un TaxID\n",
    "from ete3 import NCBITaxa\n",
    "ncbi = NCBITaxa() # \n",
    "#ncbi.update_taxonomy_database() # actualiza labase de datos de NCBI"
   ]
  },
  {
   "cell_type": "code",
   "execution_count": 8,
   "id": "f601b6b6-4d46-4406-9a36-1cc609b8b1aa",
   "metadata": {},
   "outputs": [
    {
     "name": "stdout",
     "output_type": "stream",
     "text": [
      "[1, 131567, 2759, 33154, 33208, 6072, 33213, 33317, 1206794, 88770, 6656, 197563, 197562, 6960, 50557, 85512, 7496, 33340, 33392, 85604, 7088, 41191, 41196, 41197, 37567, 37582, 33464, 397427, 2562024]\n",
      "['root', 'cellular organisms', 'Eukaryota', 'Opisthokonta', 'Metazoa', 'Eumetazoa', 'Bilateria', 'Protostomia', 'Ecdysozoa', 'Panarthropoda', 'Arthropoda', 'Mandibulata', 'Pancrustacea', 'Hexapoda', 'Insecta', 'Dicondylia', 'Pterygota', 'Neoptera', 'Endopterygota', 'Amphiesmenoptera', 'Lepidoptera', 'Glossata', 'Neolepidoptera', 'Heteroneura', 'Ditrysia', 'Yponomeutoidea', 'Yponomeutidae', 'Yponomeutinae', 'Paradoxus']\n"
     ]
    }
   ],
   "source": [
    "lineage = ncbi.get_lineage(2562024)\n",
    "print (lineage)\n",
    "names = ncbi.get_taxid_translator(lineage)\n",
    "print ([names[taxid] for taxid in lineage])"
   ]
  },
  {
   "cell_type": "code",
   "execution_count": 6,
   "id": "1d5a5de2-409a-4625-a2e6-5ccda1331f24",
   "metadata": {
    "collapsed": true,
    "jupyter": {
     "outputs_hidden": true
    },
    "tags": []
   },
   "outputs": [
    {
     "data": {
      "text/plain": [
       "Index(['OTU_10', 'OTU_24', 'OTU_17316', 'OTU_124', 'OTU_196', 'OTU_111',\n",
       "       'OTU_16', 'OTU_20', 'OTU_198', 'OTU_146',\n",
       "       ...\n",
       "       'OTU_7807', 'OTU_20167', 'OTU_3763', 'OTU_998', 'OTU_618', 'OTU_961',\n",
       "       'OTU_3160', 'OTU_37856', 'OTU_882', 'Tag'],\n",
       "      dtype='object', length=512)"
      ]
     },
     "execution_count": 6,
     "metadata": {},
     "output_type": "execute_result"
    }
   ],
   "source": [
    "df.columns[1:]"
   ]
  },
  {
   "cell_type": "code",
   "execution_count": 35,
   "id": "b37c117b-4853-4a41-9e55-87ce25c4ed90",
   "metadata": {},
   "outputs": [
    {
     "data": {
      "text/plain": [
       "{'Afipia': [1033]}"
      ]
     },
     "execution_count": 35,
     "metadata": {},
     "output_type": "execute_result"
    }
   ],
   "source": [
    "ncbi.get_name_translator(['Afipia'])"
   ]
  },
  {
   "cell_type": "code",
   "execution_count": 63,
   "id": "22837583-51c2-4767-b23a-7fef5ed8e003",
   "metadata": {},
   "outputs": [
    {
     "data": {
      "text/plain": [
       "{'Rhodoplanes': [29407]}"
      ]
     },
     "execution_count": 63,
     "metadata": {},
     "output_type": "execute_result"
    }
   ],
   "source": [
    "ncbi.get_name_translator(['Rhodoplanes'])"
   ]
  },
  {
   "cell_type": "code",
   "execution_count": 66,
   "id": "778d28f2-c2ea-4b95-9c5a-bbbfeced099a",
   "metadata": {},
   "outputs": [],
   "source": [
    "OTUs = []\n",
    "for i in df_OTUs['NombreNCBI']:\n",
    "    OTUs.append(i)"
   ]
  },
  {
   "cell_type": "code",
   "execution_count": 67,
   "id": "2bde908a-8dcd-4d02-907b-9e43cf20de2e",
   "metadata": {
    "tags": []
   },
   "outputs": [
    {
     "name": "stdout",
     "output_type": "stream",
     "text": [
      "Bradyrhizobium\n",
      "{'Bradyrhizobium': [374]}\n",
      "Rhodoplanes\n",
      "{'Rhodoplanes': [29407]}\n",
      "Rhodoplanes\n",
      "{'Rhodoplanes': [29407]}\n",
      "Mycobacterium\n",
      "{'Mycobacterium': [1763]}\n",
      "Rhodoplanes\n",
      "{'Rhodoplanes': [29407]}\n",
      "Methylibium\n",
      "{'Methylibium': [316612]}\n",
      "Sphingomonas\n",
      "{'Sphingomonas': [13687]}\n",
      "Kaistobacter\n",
      "{}\n",
      "Rhodoplanes\n",
      "{'Rhodoplanes': [29407]}\n",
      "Devosia\n",
      "{'Devosia': [46913]}\n",
      "Sphingomonas\n",
      "{'Sphingomonas': [13687]}\n",
      "Salinibacterium\n",
      "{'Salinibacterium': [235888]}\n",
      "Rhodoplanes\n",
      "{'Rhodoplanes': [29407]}\n",
      "Sphingomonas\n",
      "{'Sphingomonas': [13687]}\n",
      "Candidatus Solibacter\n",
      "{'Candidatus Solibacter': [332162]}\n",
      "Phycisphaerae\n",
      "{'Phycisphaerae': [666505]}\n",
      "Streptomyces\n",
      "{'Streptomyces': [1883]}\n",
      "Alphaproteobacteria\n",
      "{'Alphaproteobacteria': [28211]}\n",
      "Solirubrobacterales\n",
      "{'Solirubrobacterales': [588673]}\n",
      "Novosphingobium\n",
      "{'Novosphingobium': [165696]}\n",
      "Acidobacteria\n",
      "{'Acidobacteria': [57723]}\n",
      "Ramlibacter\n",
      "{'Ramlibacter': [174951]}\n",
      "mirabilis\n",
      "{'mirabilis': [3537]}\n",
      "Nocardioidaceae\n",
      "{'Nocardioidaceae': [85015]}\n",
      "Betaproteobacteria\n",
      "{'Betaproteobacteria': [28216]}\n",
      "Solirubrobacterales\n",
      "{'Solirubrobacterales': [588673]}\n",
      "Rhodoplanes\n",
      "{'Rhodoplanes': [29407]}\n",
      "Haliangiaceae\n",
      "{'Haliangiaceae': [224464]}\n",
      "Gemmata\n",
      "{'Gemmata': [113]}\n",
      "Phycisphaerae\n",
      "{'Phycisphaerae': [666505]}\n",
      "Phycisphaerae\n",
      "{'Phycisphaerae': [666505]}\n",
      "Kribbella\n",
      "{'Kribbella': [182639]}\n",
      "Chloroflexi\n",
      "{'Chloroflexi': [200795]}\n",
      "Rhodoplanes\n",
      "{'Rhodoplanes': [29407]}\n",
      "Betaproteobacteria\n",
      "{'Betaproteobacteria': [28216]}\n",
      "Alphaproteobacteria\n",
      "{'Alphaproteobacteria': [28211]}\n",
      "Chloroflexi\n",
      "{'Chloroflexi': [200795]}\n",
      "Mesorhizobium\n",
      "{'Mesorhizobium': [68287]}\n",
      "Chthoniobacteraceae\n",
      "{'Chthoniobacteraceae': [1836792]}\n",
      "Solirubrobacteraceae\n",
      "{'Solirubrobacteraceae': [320599]}\n",
      "Chloracidobacteria\n",
      "{}\n",
      "Betaproteobacteria\n",
      "{'Betaproteobacteria': [28216]}\n",
      "Chloroflexi\n",
      "{'Chloroflexi': [200795]}\n",
      "Micromonosporaceae\n",
      "{'Micromonosporaceae': [28056]}\n",
      "Rhodospirillaceae\n",
      "{'Rhodospirillaceae': [41295]}\n",
      "Sphingomonas\n",
      "{'Sphingomonas': [13687]}\n",
      "Mycobacterium\n",
      "{'Mycobacterium': [1763]}\n",
      "Opitutus\n",
      "{'Opitutus': [178440]}\n",
      "Sphingomonas\n",
      "{'Sphingomonas': [13687]}\n",
      "Chitinophagaceae\n",
      "{'Chitinophagaceae': [563835]}\n",
      "Kaistobacter\n",
      "{}\n",
      "Chitinophagaceae\n",
      "{'Chitinophagaceae': [563835]}\n",
      "Gaiellaceae\n",
      "{'Gaiellaceae': [1154585]}\n",
      "Phycisphaerae\n",
      "{'Phycisphaerae': [666505]}\n",
      "Rhodoplanes\n",
      "{'Rhodoplanes': [29407]}\n",
      "Acidobacteria\n",
      "{'Acidobacteria': [57723]}\n",
      "Sphingomonadaceae\n",
      "{'Sphingomonadaceae': [41297]}\n",
      "Micrococcaceae\n",
      "{'Micrococcaceae': [1268]}\n",
      "Betaproteobacteria\n",
      "{'Betaproteobacteria': [28216]}\n",
      "Micromonosporaceae\n",
      "{'Micromonosporaceae': [28056]}\n",
      "Bacillus\n",
      "{'Bacillus': [1386, 55087]}\n",
      "Chitinophagaceae\n",
      "{'Chitinophagaceae': [563835]}\n",
      "Comamonadaceae\n",
      "{'Comamonadaceae': [80864]}\n",
      "Aminobacter\n",
      "{'Aminobacter': [31988]}\n",
      "Erythrobacteraceae\n",
      "{'Erythrobacteraceae': [335929]}\n",
      "Chloroflexi\n",
      "{'Chloroflexi': [200795]}\n",
      "paradoxus\n",
      "{'paradoxus': [2562024]}\n",
      "Haliangiaceae\n",
      "{'Haliangiaceae': [224464]}\n",
      "Phycisphaerae\n",
      "{'Phycisphaerae': [666505]}\n",
      "Geodermatophilaceae\n",
      "{'Geodermatophilaceae': [85030]}\n",
      "Phycisphaerae\n",
      "{'Phycisphaerae': [666505]}\n",
      "Kaistobacter\n",
      "{}\n",
      "Frankia\n",
      "{'Frankia': [1854]}\n",
      "Janthinobacterium\n",
      "{'Janthinobacterium': [29580]}\n",
      "Modestobacter\n",
      "{'Modestobacter': [88138]}\n",
      "Streptomyces\n",
      "{'Streptomyces': [1883]}\n",
      "nan\n"
     ]
    },
    {
     "ename": "AttributeError",
     "evalue": "'float' object has no attribute 'lower'",
     "output_type": "error",
     "traceback": [
      "\u001b[0;31m---------------------------------------------------------------------------\u001b[0m",
      "\u001b[0;31mAttributeError\u001b[0m                            Traceback (most recent call last)",
      "Cell \u001b[0;32mIn [67], line 6\u001b[0m\n\u001b[1;32m      4\u001b[0m \u001b[38;5;28;01mfor\u001b[39;00m i \u001b[38;5;129;01min\u001b[39;00m OTUs:\n\u001b[1;32m      5\u001b[0m     \u001b[38;5;28mprint\u001b[39m (i)\n\u001b[0;32m----> 6\u001b[0m     TaxID[i] \u001b[38;5;241m=\u001b[39m \u001b[43mncbi\u001b[49m\u001b[38;5;241;43m.\u001b[39;49m\u001b[43mget_name_translator\u001b[49m\u001b[43m(\u001b[49m\u001b[43m[\u001b[49m\u001b[43mi\u001b[49m\u001b[43m]\u001b[49m\u001b[43m)\u001b[49m\n\u001b[1;32m      7\u001b[0m     \u001b[38;5;28mprint\u001b[39m (ncbi\u001b[38;5;241m.\u001b[39mget_name_translator([i]))\n",
      "File \u001b[0;32m~/.local/lib/python3.10/site-packages/ete3/ncbi_taxonomy/ncbiquery.py:299\u001b[0m, in \u001b[0;36mNCBITaxa.get_name_translator\u001b[0;34m(self, names)\u001b[0m\n\u001b[1;32m    297\u001b[0m name2origname \u001b[38;5;241m=\u001b[39m {}\n\u001b[1;32m    298\u001b[0m \u001b[38;5;28;01mfor\u001b[39;00m n \u001b[38;5;129;01min\u001b[39;00m names:\n\u001b[0;32m--> 299\u001b[0m     name2origname[\u001b[43mn\u001b[49m\u001b[38;5;241;43m.\u001b[39;49m\u001b[43mlower\u001b[49m()] \u001b[38;5;241m=\u001b[39m n\n\u001b[1;32m    301\u001b[0m names \u001b[38;5;241m=\u001b[39m \u001b[38;5;28mset\u001b[39m(name2origname\u001b[38;5;241m.\u001b[39mkeys())\n\u001b[1;32m    303\u001b[0m query \u001b[38;5;241m=\u001b[39m \u001b[38;5;124m'\u001b[39m\u001b[38;5;124m,\u001b[39m\u001b[38;5;124m'\u001b[39m\u001b[38;5;241m.\u001b[39mjoin([\u001b[38;5;124m'\u001b[39m\u001b[38;5;124m\"\u001b[39m\u001b[38;5;132;01m%s\u001b[39;00m\u001b[38;5;124m\"\u001b[39m\u001b[38;5;124m'\u001b[39m \u001b[38;5;241m%\u001b[39mn \u001b[38;5;28;01mfor\u001b[39;00m n \u001b[38;5;129;01min\u001b[39;00m six\u001b[38;5;241m.\u001b[39miterkeys(name2origname)])\n",
      "\u001b[0;31mAttributeError\u001b[0m: 'float' object has no attribute 'lower'"
     ]
    }
   ],
   "source": [
    "# sacar el TaxID a partir del ultimo linaje obtenido\n",
    "# df_OTUs['NombreNCBI']\n",
    "TaxID={}\n",
    "for i in OTUs:\n",
    "    print (i)\n",
    "    TaxID[i] = ncbi.get_name_translator([i])\n",
    "    print (ncbi.get_name_translator([i]))\n"
   ]
  },
  {
   "cell_type": "code",
   "execution_count": null,
   "id": "e88bc3c6-a2a1-4336-9bcb-e557f1b3fc29",
   "metadata": {},
   "outputs": [],
   "source": []
  },
  {
   "cell_type": "code",
   "execution_count": null,
   "id": "1e632915-a1f3-446d-8bef-eff1e7d57791",
   "metadata": {},
   "outputs": [],
   "source": []
  },
  {
   "cell_type": "code",
   "execution_count": null,
   "id": "26dc1130-36d3-4143-b3ff-000bd3f8741a",
   "metadata": {},
   "outputs": [],
   "source": []
  },
  {
   "cell_type": "code",
   "execution_count": 80,
   "id": "ee8c74a7-f230-4cfb-8218-7c3d7aa400a3",
   "metadata": {},
   "outputs": [],
   "source": [
    "# suponiendo que el numero de OTU es el TaxID\n",
    "OTUS = []\n",
    "for i in df.columns[1:]:\n",
    "    j = i.replace('OTU_', '')\n",
    "    OTUS.append(j)"
   ]
  },
  {
   "cell_type": "code",
   "execution_count": 82,
   "id": "1c686d63-7dc9-4b55-a9d1-e58a700dc9ca",
   "metadata": {
    "collapsed": true,
    "jupyter": {
     "outputs_hidden": true
    },
    "tags": []
   },
   "outputs": [
    {
     "name": "stdout",
     "output_type": "stream",
     "text": [
      "no esta 17316\n",
      "no esta 115\n",
      "no esta 3293\n",
      "no esta 6567\n",
      "no esta 74\n",
      "no esta 794\n",
      "no esta 11839\n",
      "no esta 700\n",
      "no esta 310\n"
     ]
    },
    {
     "name": "stderr",
     "output_type": "stream",
     "text": [
      "/home/csilva/.local/lib/python3.10/site-packages/ete3/ncbi_taxonomy/ncbiquery.py:243: UserWarning: taxid 443 was translated into 442\n",
      "  warnings.warn(\"taxid %s was translated into %s\" %(taxid, merged_conversion[taxid]))\n",
      "/home/csilva/.local/lib/python3.10/site-packages/ete3/ncbi_taxonomy/ncbiquery.py:243: UserWarning: taxid 130 was translated into 223389\n",
      "  warnings.warn(\"taxid %s was translated into %s\" %(taxid, merged_conversion[taxid]))\n",
      "/home/csilva/.local/lib/python3.10/site-packages/ete3/ncbi_taxonomy/ncbiquery.py:243: UserWarning: taxid 1141 was translated into 32046\n",
      "  warnings.warn(\"taxid %s was translated into %s\" %(taxid, merged_conversion[taxid]))\n",
      "/home/csilva/.local/lib/python3.10/site-packages/ete3/ncbi_taxonomy/ncbiquery.py:243: UserWarning: taxid 76 was translated into 155892\n",
      "  warnings.warn(\"taxid %s was translated into %s\" %(taxid, merged_conversion[taxid]))\n",
      "/home/csilva/.local/lib/python3.10/site-packages/ete3/ncbi_taxonomy/ncbiquery.py:243: UserWarning: taxid 6640 was translated into 102876\n",
      "  warnings.warn(\"taxid %s was translated into %s\" %(taxid, merged_conversion[taxid]))\n",
      "/home/csilva/.local/lib/python3.10/site-packages/ete3/ncbi_taxonomy/ncbiquery.py:243: UserWarning: taxid 12506 was translated into 1980467\n",
      "  warnings.warn(\"taxid %s was translated into %s\" %(taxid, merged_conversion[taxid]))\n"
     ]
    },
    {
     "name": "stdout",
     "output_type": "stream",
     "text": [
      "no esta 26\n",
      "no esta 18949\n",
      "no esta 1758\n",
      "no esta 17814\n",
      "no esta 24244\n",
      "no esta 17160\n",
      "no esta 98\n",
      "no esta 225\n",
      "no esta 186\n",
      "no esta 4735\n",
      "no esta 22664\n"
     ]
    },
    {
     "name": "stderr",
     "output_type": "stream",
     "text": [
      "/home/csilva/.local/lib/python3.10/site-packages/ete3/ncbi_taxonomy/ncbiquery.py:243: UserWarning: taxid 30 was translated into 29\n",
      "  warnings.warn(\"taxid %s was translated into %s\" %(taxid, merged_conversion[taxid]))\n",
      "/home/csilva/.local/lib/python3.10/site-packages/ete3/ncbi_taxonomy/ncbiquery.py:243: UserWarning: taxid 1981 was translated into 35621\n",
      "  warnings.warn(\"taxid %s was translated into %s\" %(taxid, merged_conversion[taxid]))\n",
      "/home/csilva/.local/lib/python3.10/site-packages/ete3/ncbi_taxonomy/ncbiquery.py:243: UserWarning: taxid 2859 was translated into 1003145\n",
      "  warnings.warn(\"taxid %s was translated into %s\" %(taxid, merged_conversion[taxid]))\n",
      "/home/csilva/.local/lib/python3.10/site-packages/ete3/ncbi_taxonomy/ncbiquery.py:243: UserWarning: taxid 11937 was translated into 11793\n",
      "  warnings.warn(\"taxid %s was translated into %s\" %(taxid, merged_conversion[taxid]))\n",
      "/home/csilva/.local/lib/python3.10/site-packages/ete3/ncbi_taxonomy/ncbiquery.py:243: UserWarning: taxid 42268 was translated into 40040\n",
      "  warnings.warn(\"taxid %s was translated into %s\" %(taxid, merged_conversion[taxid]))\n",
      "/home/csilva/.local/lib/python3.10/site-packages/ete3/ncbi_taxonomy/ncbiquery.py:243: UserWarning: taxid 67 was translated into 32033\n",
      "  warnings.warn(\"taxid %s was translated into %s\" %(taxid, merged_conversion[taxid]))\n"
     ]
    },
    {
     "name": "stdout",
     "output_type": "stream",
     "text": [
      "no esta 508\n",
      "no esta 327\n",
      "no esta 682\n",
      "no esta 7783\n",
      "no esta 13072\n",
      "no esta 116\n",
      "no esta 332\n",
      "no esta 19226\n",
      "no esta 344\n"
     ]
    },
    {
     "name": "stderr",
     "output_type": "stream",
     "text": [
      "/home/csilva/.local/lib/python3.10/site-packages/ete3/ncbi_taxonomy/ncbiquery.py:243: UserWarning: taxid 710 was translated into 657\n",
      "  warnings.warn(\"taxid %s was translated into %s\" %(taxid, merged_conversion[taxid]))\n",
      "/home/csilva/.local/lib/python3.10/site-packages/ete3/ncbi_taxonomy/ncbiquery.py:243: UserWarning: taxid 10810 was translated into 10809\n",
      "  warnings.warn(\"taxid %s was translated into %s\" %(taxid, merged_conversion[taxid]))\n"
     ]
    },
    {
     "name": "stdout",
     "output_type": "stream",
     "text": [
      "no esta 18647\n",
      "no esta 2372\n",
      "no esta 655\n",
      "no esta 2813\n",
      "no esta 1384\n",
      "no esta 92\n",
      "no esta 326\n",
      "no esta 22557\n",
      "no esta 14640\n",
      "no esta 184\n",
      "no esta 24926\n",
      "no esta 25205\n",
      "no esta 572\n",
      "no esta 135\n",
      "no esta 302\n",
      "no esta 20918\n",
      "no esta 6387\n",
      "no esta 18203\n",
      "no esta 2634\n",
      "no esta 26184\n",
      "no esta 70\n",
      "no esta 503\n",
      "no esta 25687\n",
      "no esta 18635\n",
      "no esta 25101\n",
      "no esta 18910\n",
      "no esta 800\n",
      "no esta 24690\n",
      "no esta 26152\n",
      "no esta 20754\n",
      "no esta 22324\n"
     ]
    },
    {
     "name": "stderr",
     "output_type": "stream",
     "text": [
      "/home/csilva/.local/lib/python3.10/site-packages/ete3/ncbi_taxonomy/ncbiquery.py:243: UserWarning: taxid 811 was translated into 83558\n",
      "  warnings.warn(\"taxid %s was translated into %s\" %(taxid, merged_conversion[taxid]))\n",
      "/home/csilva/.local/lib/python3.10/site-packages/ete3/ncbi_taxonomy/ncbiquery.py:243: UserWarning: taxid 2073 was translated into 1847\n",
      "  warnings.warn(\"taxid %s was translated into %s\" %(taxid, merged_conversion[taxid]))\n",
      "/home/csilva/.local/lib/python3.10/site-packages/ete3/ncbi_taxonomy/ncbiquery.py:243: UserWarning: taxid 341 was translated into 456327\n",
      "  warnings.warn(\"taxid %s was translated into %s\" %(taxid, merged_conversion[taxid]))\n",
      "/home/csilva/.local/lib/python3.10/site-packages/ete3/ncbi_taxonomy/ncbiquery.py:243: UserWarning: taxid 1139 was translated into 269084\n",
      "  warnings.warn(\"taxid %s was translated into %s\" %(taxid, merged_conversion[taxid]))\n",
      "/home/csilva/.local/lib/python3.10/site-packages/ete3/ncbi_taxonomy/ncbiquery.py:243: UserWarning: taxid 627 was translated into 29488\n",
      "  warnings.warn(\"taxid %s was translated into %s\" %(taxid, merged_conversion[taxid]))\n"
     ]
    },
    {
     "name": "stdout",
     "output_type": "stream",
     "text": [
      "no esta 698\n",
      "no esta 1715\n",
      "no esta 2676\n",
      "no esta 18652\n",
      "no esta 26011\n",
      "no esta 1574\n",
      "no esta 208\n",
      "no esta 21267\n",
      "no esta 24223\n"
     ]
    },
    {
     "name": "stderr",
     "output_type": "stream",
     "text": [
      "/home/csilva/.local/lib/python3.10/site-packages/ete3/ncbi_taxonomy/ncbiquery.py:243: UserWarning: taxid 257 was translated into 143223\n",
      "  warnings.warn(\"taxid %s was translated into %s\" %(taxid, merged_conversion[taxid]))\n",
      "/home/csilva/.local/lib/python3.10/site-packages/ete3/ncbi_taxonomy/ncbiquery.py:243: UserWarning: taxid 1212 was translated into 1213\n",
      "  warnings.warn(\"taxid %s was translated into %s\" %(taxid, merged_conversion[taxid]))\n",
      "/home/csilva/.local/lib/python3.10/site-packages/ete3/ncbi_taxonomy/ncbiquery.py:243: UserWarning: taxid 11503 was translated into 380341\n",
      "  warnings.warn(\"taxid %s was translated into %s\" %(taxid, merged_conversion[taxid]))\n",
      "/home/csilva/.local/lib/python3.10/site-packages/ete3/ncbi_taxonomy/ncbiquery.py:243: UserWarning: taxid 229 was translated into 23\n",
      "  warnings.warn(\"taxid %s was translated into %s\" %(taxid, merged_conversion[taxid]))\n",
      "/home/csilva/.local/lib/python3.10/site-packages/ete3/ncbi_taxonomy/ncbiquery.py:243: UserWarning: taxid 877 was translated into 52561\n",
      "  warnings.warn(\"taxid %s was translated into %s\" %(taxid, merged_conversion[taxid]))\n",
      "/home/csilva/.local/lib/python3.10/site-packages/ete3/ncbi_taxonomy/ncbiquery.py:243: UserWarning: taxid 35535 was translated into 407982\n",
      "  warnings.warn(\"taxid %s was translated into %s\" %(taxid, merged_conversion[taxid]))\n"
     ]
    },
    {
     "name": "stdout",
     "output_type": "stream",
     "text": [
      "no esta 14779\n",
      "no esta 15001\n",
      "no esta 21850\n",
      "no esta 21325\n",
      "no esta 1195\n",
      "no esta 835\n",
      "no esta 243\n",
      "no esta 26244\n",
      "no esta 19665\n",
      "no esta 639\n",
      "no esta 14638\n",
      "no esta 16330\n",
      "no esta 640\n",
      "no esta 402\n",
      "no esta 27201\n",
      "no esta 22252\n",
      "no esta 16002\n",
      "no esta 808\n",
      "no esta 18050\n",
      "no esta 7537\n"
     ]
    },
    {
     "name": "stderr",
     "output_type": "stream",
     "text": [
      "/home/csilva/.local/lib/python3.10/site-packages/ete3/ncbi_taxonomy/ncbiquery.py:243: UserWarning: taxid 37016 was translated into 220337\n",
      "  warnings.warn(\"taxid %s was translated into %s\" %(taxid, merged_conversion[taxid]))\n",
      "/home/csilva/.local/lib/python3.10/site-packages/ete3/ncbi_taxonomy/ncbiquery.py:243: UserWarning: taxid 348 was translated into 29444\n",
      "  warnings.warn(\"taxid %s was translated into %s\" %(taxid, merged_conversion[taxid]))\n",
      "/home/csilva/.local/lib/python3.10/site-packages/ete3/ncbi_taxonomy/ncbiquery.py:243: UserWarning: taxid 397 was translated into 384\n",
      "  warnings.warn(\"taxid %s was translated into %s\" %(taxid, merged_conversion[taxid]))\n",
      "/home/csilva/.local/lib/python3.10/site-packages/ete3/ncbi_taxonomy/ncbiquery.py:243: UserWarning: taxid 2778 was translated into 2782\n",
      "  warnings.warn(\"taxid %s was translated into %s\" %(taxid, merged_conversion[taxid]))\n",
      "/home/csilva/.local/lib/python3.10/site-packages/ete3/ncbi_taxonomy/ncbiquery.py:243: UserWarning: taxid 1020 was translated into 135617\n",
      "  warnings.warn(\"taxid %s was translated into %s\" %(taxid, merged_conversion[taxid]))\n",
      "/home/csilva/.local/lib/python3.10/site-packages/ete3/ncbi_taxonomy/ncbiquery.py:243: UserWarning: taxid 330 was translated into 301\n",
      "  warnings.warn(\"taxid %s was translated into %s\" %(taxid, merged_conversion[taxid]))\n",
      "/home/csilva/.local/lib/python3.10/site-packages/ete3/ncbi_taxonomy/ncbiquery.py:243: UserWarning: taxid 567 was translated into 66695\n",
      "  warnings.warn(\"taxid %s was translated into %s\" %(taxid, merged_conversion[taxid]))\n",
      "/home/csilva/.local/lib/python3.10/site-packages/ete3/ncbi_taxonomy/ncbiquery.py:243: UserWarning: taxid 2329 was translated into 44001\n",
      "  warnings.warn(\"taxid %s was translated into %s\" %(taxid, merged_conversion[taxid]))\n",
      "/home/csilva/.local/lib/python3.10/site-packages/ete3/ncbi_taxonomy/ncbiquery.py:243: UserWarning: taxid 383 was translated into 382\n",
      "  warnings.warn(\"taxid %s was translated into %s\" %(taxid, merged_conversion[taxid]))\n",
      "/home/csilva/.local/lib/python3.10/site-packages/ete3/ncbi_taxonomy/ncbiquery.py:243: UserWarning: taxid 560 was translated into 553\n",
      "  warnings.warn(\"taxid %s was translated into %s\" %(taxid, merged_conversion[taxid]))\n"
     ]
    },
    {
     "name": "stdout",
     "output_type": "stream",
     "text": [
      "no esta 25497\n",
      "no esta 743\n",
      "no esta 27162\n",
      "no esta 17730\n",
      "no esta 19940\n",
      "no esta 695\n",
      "no esta 6158\n",
      "no esta 2844\n",
      "no esta 23293\n",
      "no esta 22401\n",
      "no esta 26725\n",
      "no esta 26721\n",
      "no esta 20167\n",
      "no esta 961\n",
      "no esta Tag\n"
     ]
    },
    {
     "name": "stderr",
     "output_type": "stream",
     "text": [
      "/home/csilva/.local/lib/python3.10/site-packages/ete3/ncbi_taxonomy/ncbiquery.py:243: UserWarning: taxid 369 was translated into 358\n",
      "  warnings.warn(\"taxid %s was translated into %s\" %(taxid, merged_conversion[taxid]))\n",
      "/home/csilva/.local/lib/python3.10/site-packages/ete3/ncbi_taxonomy/ncbiquery.py:243: UserWarning: taxid 1475 was translated into 78057\n",
      "  warnings.warn(\"taxid %s was translated into %s\" %(taxid, merged_conversion[taxid]))\n",
      "/home/csilva/.local/lib/python3.10/site-packages/ete3/ncbi_taxonomy/ncbiquery.py:243: UserWarning: taxid 42423 was translated into 81957\n",
      "  warnings.warn(\"taxid %s was translated into %s\" %(taxid, merged_conversion[taxid]))\n",
      "/home/csilva/.local/lib/python3.10/site-packages/ete3/ncbi_taxonomy/ncbiquery.py:243: UserWarning: taxid 40614 was translated into 72984\n",
      "  warnings.warn(\"taxid %s was translated into %s\" %(taxid, merged_conversion[taxid]))\n",
      "/home/csilva/.local/lib/python3.10/site-packages/ete3/ncbi_taxonomy/ncbiquery.py:243: UserWarning: taxid 1156 was translated into 118562\n",
      "  warnings.warn(\"taxid %s was translated into %s\" %(taxid, merged_conversion[taxid]))\n"
     ]
    }
   ],
   "source": [
    "Linages={}\n",
    "for otu in OTUS: \n",
    "    #si no se encuantra ponga nan\n",
    "    try:\n",
    "        Linages[otu] = ncbi.get_taxid_translator(ncbi.get_lineage(otu))\n",
    "    except:\n",
    "        print(f\"no esta {otu}\")\n",
    "        continue\n",
    "        "
   ]
  },
  {
   "cell_type": "code",
   "execution_count": null,
   "id": "74abfe4b-ddaa-4a83-a196-51dde4c924b9",
   "metadata": {},
   "outputs": [],
   "source": []
  },
  {
   "cell_type": "code",
   "execution_count": null,
   "id": "e0f6c482-30c9-46bc-8187-d3fbcc60cc1a",
   "metadata": {},
   "outputs": [],
   "source": []
  },
  {
   "cell_type": "code",
   "execution_count": null,
   "id": "18cda971-05df-4c82-bacf-c0b775acfb0c",
   "metadata": {},
   "outputs": [],
   "source": []
  },
  {
   "cell_type": "code",
   "execution_count": null,
   "id": "a14ab47d-9457-4edb-95df-342a28b1e900",
   "metadata": {},
   "outputs": [],
   "source": []
  },
  {
   "cell_type": "code",
   "execution_count": null,
   "id": "6d7af2f5-3aef-458c-b606-452440afb8e8",
   "metadata": {},
   "outputs": [],
   "source": []
  },
  {
   "cell_type": "code",
   "execution_count": null,
   "id": "5645238b-4b32-4cf5-8f16-f6cb736b8763",
   "metadata": {},
   "outputs": [],
   "source": []
  },
  {
   "cell_type": "code",
   "execution_count": null,
   "id": "6eb52a26-3010-4de4-9b92-ee8d762791dd",
   "metadata": {},
   "outputs": [],
   "source": []
  }
 ],
 "metadata": {
  "kernelspec": {
   "display_name": "Python 3 (ipykernel)",
   "language": "python",
   "name": "python3"
  },
  "language_info": {
   "codemirror_mode": {
    "name": "ipython",
    "version": 3
   },
   "file_extension": ".py",
   "mimetype": "text/x-python",
   "name": "python",
   "nbconvert_exporter": "python",
   "pygments_lexer": "ipython3",
   "version": "3.10.8"
  }
 },
 "nbformat": 4,
 "nbformat_minor": 5
}
